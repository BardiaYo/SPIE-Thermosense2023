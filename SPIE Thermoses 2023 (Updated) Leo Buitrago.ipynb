{
 "cells": [
  {
   "cell_type": "markdown",
   "id": "19526298",
   "metadata": {},
   "source": [
    "## Breast Cancer Detection Thermography\n",
    "\n",
    "\n",
    "This is code for the proceeding article in SPIE Thermosense 2023, 2 - 4 May 2023, Orlando, FL.\n",
    "\n",
    "If you publish any work which uses this package, please cite the following publication:\n",
    "Leonardo D. Buitrago, Jimmy J. Azarnoosh, Xavier P.V. Maldague, and Bardia Yousefi (May, 2023) Optimal Thermomic Biomarkers for Early Diagnosis of Breast Cancer. SPIE thermosense, Orlando, FL."
   ]
  },
  {
   "cell_type": "raw",
   "id": "49708a5f",
   "metadata": {},
   "source": [
    "**Author** : Leonardo Buitrago\n",
    "**Supervisor and PI of the project**: Bardia Yousefi PhD.\n",
    "\n",
    "Biocomputaional engineering\n",
    "University of Maryland, College Park\n",
    "Date: 4/27/2023"
   ]
  },
  {
   "cell_type": "markdown",
   "id": "32937dc6",
   "metadata": {},
   "source": [
    "# SPIE Thermoses 2023 Classification Analysis:"
   ]
  },
  {
   "cell_type": "markdown",
   "id": "cd4653ec",
   "metadata": {},
   "source": [
    "## Table of contents:\n",
    "* [Introduction](#Intro:)\n",
    "* [Part I](#Part_I)\n",
    "* [Part II (NMF Gauss)](#Part_II)\n",
    "* [Part III (NMf Gauss+Clinical)](#Part_III)\n",
    "* [Part IV (NMF Bell)](#Part_IV)\n",
    "* [Part V NMF (Bell+Clinical)](#Part_V)\n",
    "* [Part VI (Deep NMF Gauss)](#Part_VI)\n",
    "* [Part VII (Deep NMF Gauss+Clinical)](#Part_VII)\n",
    "* [Part VIII (Deep NMF Bell)](#Part_VIII)\n",
    "* [Part IX (Deep NMF Bell+Clinical)](#Part_IX)\n",
    "* [Part X (Combined ROC curves)](#Part_X)"
   ]
  },
  {
   "cell_type": "markdown",
   "id": "3576518f",
   "metadata": {},
   "source": [
    "# Intro:"
   ]
  },
  {
   "cell_type": "markdown",
   "id": "7e91ad8b",
   "metadata": {},
   "source": [
    "This research project was done using two classification methods: Random Forest and Logistic regression. Parts II through IX have both Random Forest and Logistic Regression done, as well as a 7 fold cross validation for each classifer. Part I consists of a re-calculation of the Clincal accuracy using mean(+- Standard deviation) in the 7 fold cross-validation.The training and testing data was split using a 70-30 split.\n",
    "\n",
    "Part X contains Combined ROC curves for both Random Forest and Logistic Regression classifiers."
   ]
  },
  {
   "cell_type": "markdown",
   "id": "520486b7",
   "metadata": {},
   "source": [
    "### Importing starting libraries:"
   ]
  },
  {
   "cell_type": "code",
   "execution_count": 1,
   "id": "f5a6f0c4",
   "metadata": {},
   "outputs": [],
   "source": [
    "import numpy as np\n",
    "import pandas as pd\n",
    "import matplotlib.pyplot as plt"
   ]
  },
  {
   "cell_type": "markdown",
   "id": "645a33d9",
   "metadata": {},
   "source": [
    "### Retrieving all 4 datasets:"
   ]
  },
  {
   "cell_type": "code",
   "execution_count": 2,
   "id": "10ae609c",
   "metadata": {},
   "outputs": [],
   "source": [
    "NMF_Gauss = pd.read_csv(\"C:/Users/paiin/OneDrive/Documents/New folder/SPIE-thermosense2023/Compressed-FZ_NMF_Alpha.csv\")\n",
    "NMF_Gauss.rename( columns={'Unnamed: 0':'Patient Number'}, inplace=True )\n",
    "\n",
    "NMF_Bell = pd.read_csv(\"C:/Users/paiin/OneDrive/Documents/New folder/SPIE-thermosense2023/Compressed-FZ_NMF_Bell.csv\")\n",
    "NMF_Bell.rename( columns={'Unnamed: 0':'Patient Number'}, inplace=True )\n",
    "\n",
    "Deep_NMFGauss = pd.read_csv(\"C:/Users/paiin/OneDrive/Documents/New folder/SPIE-thermosense2023/Compressed-FZ_Deep-semiNMF_Alpha.csv\")\n",
    "Deep_NMFGauss.rename( columns={'Unnamed: 0':'Patient Number'}, inplace=True )\n",
    "\n",
    "Deep_NMFBell= pd.read_csv(\"C:/Users/paiin/OneDrive/Documents/New folder/SPIE-thermosense2023/Compressed-FZ_Deep-semiNMF_Bell.csv\")\n",
    "Deep_NMFBell.rename( columns={'Unnamed: 0':'Patient Number'}, inplace=True )"
   ]
  },
  {
   "cell_type": "code",
   "execution_count": 3,
   "id": "f6fbe345",
   "metadata": {},
   "outputs": [],
   "source": [
    "NMF_Gauss = NMF_Gauss.set_index('Patient Number')\n",
    "NMF_Gauss.index = NMF_Gauss.index.str.replace('p',' ').astype(int)\n",
    "NMF_Gauss = NMF_Gauss.sort_index()"
   ]
  },
  {
   "cell_type": "code",
   "execution_count": 4,
   "id": "49cc5375",
   "metadata": {},
   "outputs": [],
   "source": [
    "NMF_Bell =  NMF_Bell.set_index('Patient Number')\n",
    "NMF_Bell.index = NMF_Bell.index.str.replace('p',' ').astype(int)\n",
    "NMF_Bell = NMF_Bell.sort_index()"
   ]
  },
  {
   "cell_type": "code",
   "execution_count": 5,
   "id": "8c3eccd0",
   "metadata": {},
   "outputs": [],
   "source": [
    "Deep_NMFGauss =  Deep_NMFGauss.set_index('Patient Number')\n",
    "Deep_NMFGauss.index = Deep_NMFGauss.index.str.replace('p',' ').astype(int)\n",
    "Deep_NMFGauss = Deep_NMFGauss.sort_index()"
   ]
  },
  {
   "cell_type": "code",
   "execution_count": 6,
   "id": "7c093cdb",
   "metadata": {},
   "outputs": [],
   "source": [
    "Deep_NMFBell =  Deep_NMFBell.set_index('Patient Number')\n",
    "Deep_NMFBell.index = Deep_NMFBell.index.str.replace('p',' ').astype(int)\n",
    "Deep_NMFBell = Deep_NMFBell.sort_index()"
   ]
  },
  {
   "cell_type": "markdown",
   "id": "7b0a65cf",
   "metadata": {},
   "source": [
    "### Retrieving clinical dataset \"Diagnosis\" column:"
   ]
  },
  {
   "cell_type": "code",
   "execution_count": 7,
   "id": "ed4a5917",
   "metadata": {},
   "outputs": [
    {
     "data": {
      "text/html": [
       "<div>\n",
       "<style scoped>\n",
       "    .dataframe tbody tr th:only-of-type {\n",
       "        vertical-align: middle;\n",
       "    }\n",
       "\n",
       "    .dataframe tbody tr th {\n",
       "        vertical-align: top;\n",
       "    }\n",
       "\n",
       "    .dataframe thead th {\n",
       "        text-align: right;\n",
       "    }\n",
       "</style>\n",
       "<table border=\"1\" class=\"dataframe\">\n",
       "  <thead>\n",
       "    <tr style=\"text-align: right;\">\n",
       "      <th></th>\n",
       "      <th>age</th>\n",
       "      <th>race</th>\n",
       "      <th>marital status</th>\n",
       "      <th>diagnosis</th>\n",
       "    </tr>\n",
       "    <tr>\n",
       "      <th>id</th>\n",
       "      <th></th>\n",
       "      <th></th>\n",
       "      <th></th>\n",
       "      <th></th>\n",
       "    </tr>\n",
       "  </thead>\n",
       "  <tbody>\n",
       "    <tr>\n",
       "      <th>1</th>\n",
       "      <td>71</td>\n",
       "      <td>0</td>\n",
       "      <td>0</td>\n",
       "      <td>0</td>\n",
       "    </tr>\n",
       "    <tr>\n",
       "      <th>2</th>\n",
       "      <td>67</td>\n",
       "      <td>0</td>\n",
       "      <td>1</td>\n",
       "      <td>0</td>\n",
       "    </tr>\n",
       "    <tr>\n",
       "      <th>4</th>\n",
       "      <td>65</td>\n",
       "      <td>1</td>\n",
       "      <td>1</td>\n",
       "      <td>0</td>\n",
       "    </tr>\n",
       "    <tr>\n",
       "      <th>5</th>\n",
       "      <td>64</td>\n",
       "      <td>2</td>\n",
       "      <td>1</td>\n",
       "      <td>0</td>\n",
       "    </tr>\n",
       "    <tr>\n",
       "      <th>6</th>\n",
       "      <td>52</td>\n",
       "      <td>0</td>\n",
       "      <td>2</td>\n",
       "      <td>0</td>\n",
       "    </tr>\n",
       "    <tr>\n",
       "      <th>...</th>\n",
       "      <td>...</td>\n",
       "      <td>...</td>\n",
       "      <td>...</td>\n",
       "      <td>...</td>\n",
       "    </tr>\n",
       "    <tr>\n",
       "      <th>283</th>\n",
       "      <td>48</td>\n",
       "      <td>1</td>\n",
       "      <td>1</td>\n",
       "      <td>1</td>\n",
       "    </tr>\n",
       "    <tr>\n",
       "      <th>284</th>\n",
       "      <td>67</td>\n",
       "      <td>2</td>\n",
       "      <td>0</td>\n",
       "      <td>0</td>\n",
       "    </tr>\n",
       "    <tr>\n",
       "      <th>285</th>\n",
       "      <td>54</td>\n",
       "      <td>1</td>\n",
       "      <td>2</td>\n",
       "      <td>1</td>\n",
       "    </tr>\n",
       "    <tr>\n",
       "      <th>286</th>\n",
       "      <td>47</td>\n",
       "      <td>2</td>\n",
       "      <td>2</td>\n",
       "      <td>1</td>\n",
       "    </tr>\n",
       "    <tr>\n",
       "      <th>287</th>\n",
       "      <td>60</td>\n",
       "      <td>2</td>\n",
       "      <td>0</td>\n",
       "      <td>1</td>\n",
       "    </tr>\n",
       "  </tbody>\n",
       "</table>\n",
       "<p>212 rows × 4 columns</p>\n",
       "</div>"
      ],
      "text/plain": [
       "     age  race  marital status  diagnosis\n",
       "id                                       \n",
       "1     71     0               0          0\n",
       "2     67     0               1          0\n",
       "4     65     1               1          0\n",
       "5     64     2               1          0\n",
       "6     52     0               2          0\n",
       "..   ...   ...             ...        ...\n",
       "283   48     1               1          1\n",
       "284   67     2               0          0\n",
       "285   54     1               2          1\n",
       "286   47     2               2          1\n",
       "287   60     2               0          1\n",
       "\n",
       "[212 rows x 4 columns]"
      ]
     },
     "execution_count": 7,
     "metadata": {},
     "output_type": "execute_result"
    }
   ],
   "source": [
    "Clinical = pd.read_excel(\"C:/Users/paiin/Downloads/ML Project1 Leo Buitrago/DMR-clinic infox-.xlsx\")\n",
    "Clinical = Clinical.iloc[:,[0,3,4,5,1]];\n",
    "Clinical['diagnosis'].replace(['healthy','unknown','Sick'],\n",
    "                       [0,0,1], inplace = True)\n",
    "Clinical['race'].replace(['pardo','black','white','w','W','indigenous','mulatto'],\n",
    "                       [0,1,2,2,2,3,4], inplace = True)\n",
    "Clinical['marital status'].replace(['widowed','widow','married','single','divorced'],\n",
    "                            [0,0,1,2,3], inplace = True)\n",
    "Clinical = Clinical.set_index('id')\n",
    "Clinical"
   ]
  },
  {
   "cell_type": "markdown",
   "id": "bbcc801b",
   "metadata": {},
   "source": [
    "## Merging the 4 datasets w/ the clinical dataset:"
   ]
  },
  {
   "cell_type": "markdown",
   "id": "e63a588e",
   "metadata": {},
   "source": [
    "### NMF Gauss:"
   ]
  },
  {
   "cell_type": "code",
   "execution_count": 8,
   "id": "c173e98e",
   "metadata": {},
   "outputs": [
    {
     "data": {
      "text/html": [
       "<div>\n",
       "<style scoped>\n",
       "    .dataframe tbody tr th:only-of-type {\n",
       "        vertical-align: middle;\n",
       "    }\n",
       "\n",
       "    .dataframe tbody tr th {\n",
       "        vertical-align: top;\n",
       "    }\n",
       "\n",
       "    .dataframe thead th {\n",
       "        text-align: right;\n",
       "    }\n",
       "</style>\n",
       "<table border=\"1\" class=\"dataframe\">\n",
       "  <thead>\n",
       "    <tr style=\"text-align: right;\">\n",
       "      <th></th>\n",
       "      <th>tmx1</th>\n",
       "      <th>tmx2</th>\n",
       "      <th>tmx3</th>\n",
       "      <th>tmx4</th>\n",
       "      <th>tmx5</th>\n",
       "      <th>tmx6</th>\n",
       "      <th>tmx7</th>\n",
       "      <th>age</th>\n",
       "      <th>race</th>\n",
       "      <th>marital status</th>\n",
       "      <th>diagnosis</th>\n",
       "    </tr>\n",
       "    <tr>\n",
       "      <th>Patient Number</th>\n",
       "      <th></th>\n",
       "      <th></th>\n",
       "      <th></th>\n",
       "      <th></th>\n",
       "      <th></th>\n",
       "      <th></th>\n",
       "      <th></th>\n",
       "      <th></th>\n",
       "      <th></th>\n",
       "      <th></th>\n",
       "      <th></th>\n",
       "    </tr>\n",
       "  </thead>\n",
       "  <tbody>\n",
       "    <tr>\n",
       "      <th>1</th>\n",
       "      <td>-0.010664</td>\n",
       "      <td>0.004279</td>\n",
       "      <td>-0.009549</td>\n",
       "      <td>-0.010762</td>\n",
       "      <td>-0.010160</td>\n",
       "      <td>-0.020773</td>\n",
       "      <td>-0.008008</td>\n",
       "      <td>71</td>\n",
       "      <td>0</td>\n",
       "      <td>0</td>\n",
       "      <td>0</td>\n",
       "    </tr>\n",
       "    <tr>\n",
       "      <th>2</th>\n",
       "      <td>0.002010</td>\n",
       "      <td>0.007527</td>\n",
       "      <td>-0.018007</td>\n",
       "      <td>-0.002307</td>\n",
       "      <td>0.010547</td>\n",
       "      <td>-0.018270</td>\n",
       "      <td>-0.018349</td>\n",
       "      <td>67</td>\n",
       "      <td>0</td>\n",
       "      <td>1</td>\n",
       "      <td>0</td>\n",
       "    </tr>\n",
       "    <tr>\n",
       "      <th>4</th>\n",
       "      <td>0.027589</td>\n",
       "      <td>-0.001672</td>\n",
       "      <td>0.018161</td>\n",
       "      <td>-0.018572</td>\n",
       "      <td>-0.002127</td>\n",
       "      <td>0.003300</td>\n",
       "      <td>-0.003382</td>\n",
       "      <td>65</td>\n",
       "      <td>1</td>\n",
       "      <td>1</td>\n",
       "      <td>0</td>\n",
       "    </tr>\n",
       "    <tr>\n",
       "      <th>5</th>\n",
       "      <td>-0.009408</td>\n",
       "      <td>-0.003683</td>\n",
       "      <td>-0.007877</td>\n",
       "      <td>-0.004645</td>\n",
       "      <td>-0.007961</td>\n",
       "      <td>-0.016928</td>\n",
       "      <td>-0.025252</td>\n",
       "      <td>64</td>\n",
       "      <td>2</td>\n",
       "      <td>1</td>\n",
       "      <td>0</td>\n",
       "    </tr>\n",
       "    <tr>\n",
       "      <th>6</th>\n",
       "      <td>-0.009491</td>\n",
       "      <td>0.029402</td>\n",
       "      <td>-0.012336</td>\n",
       "      <td>-0.013506</td>\n",
       "      <td>-0.016741</td>\n",
       "      <td>0.032463</td>\n",
       "      <td>0.011213</td>\n",
       "      <td>52</td>\n",
       "      <td>0</td>\n",
       "      <td>2</td>\n",
       "      <td>0</td>\n",
       "    </tr>\n",
       "    <tr>\n",
       "      <th>...</th>\n",
       "      <td>...</td>\n",
       "      <td>...</td>\n",
       "      <td>...</td>\n",
       "      <td>...</td>\n",
       "      <td>...</td>\n",
       "      <td>...</td>\n",
       "      <td>...</td>\n",
       "      <td>...</td>\n",
       "      <td>...</td>\n",
       "      <td>...</td>\n",
       "      <td>...</td>\n",
       "    </tr>\n",
       "    <tr>\n",
       "      <th>283</th>\n",
       "      <td>-0.006462</td>\n",
       "      <td>0.028027</td>\n",
       "      <td>-0.010008</td>\n",
       "      <td>-0.007859</td>\n",
       "      <td>-0.003899</td>\n",
       "      <td>0.028082</td>\n",
       "      <td>0.009051</td>\n",
       "      <td>48</td>\n",
       "      <td>1</td>\n",
       "      <td>1</td>\n",
       "      <td>1</td>\n",
       "    </tr>\n",
       "    <tr>\n",
       "      <th>284</th>\n",
       "      <td>-0.014485</td>\n",
       "      <td>0.014822</td>\n",
       "      <td>0.016530</td>\n",
       "      <td>0.011877</td>\n",
       "      <td>-0.009895</td>\n",
       "      <td>0.009321</td>\n",
       "      <td>-0.022379</td>\n",
       "      <td>67</td>\n",
       "      <td>2</td>\n",
       "      <td>0</td>\n",
       "      <td>0</td>\n",
       "    </tr>\n",
       "    <tr>\n",
       "      <th>285</th>\n",
       "      <td>0.001380</td>\n",
       "      <td>0.012317</td>\n",
       "      <td>-0.016908</td>\n",
       "      <td>0.002548</td>\n",
       "      <td>0.021272</td>\n",
       "      <td>-0.012973</td>\n",
       "      <td>-0.007092</td>\n",
       "      <td>54</td>\n",
       "      <td>1</td>\n",
       "      <td>2</td>\n",
       "      <td>1</td>\n",
       "    </tr>\n",
       "    <tr>\n",
       "      <th>286</th>\n",
       "      <td>0.021258</td>\n",
       "      <td>-0.008215</td>\n",
       "      <td>-0.000783</td>\n",
       "      <td>0.014108</td>\n",
       "      <td>-0.019740</td>\n",
       "      <td>0.002067</td>\n",
       "      <td>0.007990</td>\n",
       "      <td>47</td>\n",
       "      <td>2</td>\n",
       "      <td>2</td>\n",
       "      <td>1</td>\n",
       "    </tr>\n",
       "    <tr>\n",
       "      <th>287</th>\n",
       "      <td>0.031105</td>\n",
       "      <td>-0.002482</td>\n",
       "      <td>0.028846</td>\n",
       "      <td>-0.034871</td>\n",
       "      <td>-0.009987</td>\n",
       "      <td>0.009326</td>\n",
       "      <td>-0.011914</td>\n",
       "      <td>60</td>\n",
       "      <td>2</td>\n",
       "      <td>0</td>\n",
       "      <td>1</td>\n",
       "    </tr>\n",
       "  </tbody>\n",
       "</table>\n",
       "<p>211 rows × 11 columns</p>\n",
       "</div>"
      ],
      "text/plain": [
       "                    tmx1      tmx2      tmx3      tmx4      tmx5      tmx6  \\\n",
       "Patient Number                                                               \n",
       "1              -0.010664  0.004279 -0.009549 -0.010762 -0.010160 -0.020773   \n",
       "2               0.002010  0.007527 -0.018007 -0.002307  0.010547 -0.018270   \n",
       "4               0.027589 -0.001672  0.018161 -0.018572 -0.002127  0.003300   \n",
       "5              -0.009408 -0.003683 -0.007877 -0.004645 -0.007961 -0.016928   \n",
       "6              -0.009491  0.029402 -0.012336 -0.013506 -0.016741  0.032463   \n",
       "...                  ...       ...       ...       ...       ...       ...   \n",
       "283            -0.006462  0.028027 -0.010008 -0.007859 -0.003899  0.028082   \n",
       "284            -0.014485  0.014822  0.016530  0.011877 -0.009895  0.009321   \n",
       "285             0.001380  0.012317 -0.016908  0.002548  0.021272 -0.012973   \n",
       "286             0.021258 -0.008215 -0.000783  0.014108 -0.019740  0.002067   \n",
       "287             0.031105 -0.002482  0.028846 -0.034871 -0.009987  0.009326   \n",
       "\n",
       "                    tmx7  age  race  marital status  diagnosis  \n",
       "Patient Number                                                  \n",
       "1              -0.008008   71     0               0          0  \n",
       "2              -0.018349   67     0               1          0  \n",
       "4              -0.003382   65     1               1          0  \n",
       "5              -0.025252   64     2               1          0  \n",
       "6               0.011213   52     0               2          0  \n",
       "...                  ...  ...   ...             ...        ...  \n",
       "283             0.009051   48     1               1          1  \n",
       "284            -0.022379   67     2               0          0  \n",
       "285            -0.007092   54     1               2          1  \n",
       "286             0.007990   47     2               2          1  \n",
       "287            -0.011914   60     2               0          1  \n",
       "\n",
       "[211 rows x 11 columns]"
      ]
     },
     "execution_count": 8,
     "metadata": {},
     "output_type": "execute_result"
    }
   ],
   "source": [
    "NMF_Gauss = NMF_Gauss.join(Clinical)\n",
    "NMF_Gauss"
   ]
  },
  {
   "cell_type": "markdown",
   "id": "00d1d050",
   "metadata": {},
   "source": [
    "### NMF Bell:"
   ]
  },
  {
   "cell_type": "code",
   "execution_count": 9,
   "id": "8d0857c9",
   "metadata": {},
   "outputs": [
    {
     "data": {
      "text/html": [
       "<div>\n",
       "<style scoped>\n",
       "    .dataframe tbody tr th:only-of-type {\n",
       "        vertical-align: middle;\n",
       "    }\n",
       "\n",
       "    .dataframe tbody tr th {\n",
       "        vertical-align: top;\n",
       "    }\n",
       "\n",
       "    .dataframe thead th {\n",
       "        text-align: right;\n",
       "    }\n",
       "</style>\n",
       "<table border=\"1\" class=\"dataframe\">\n",
       "  <thead>\n",
       "    <tr style=\"text-align: right;\">\n",
       "      <th></th>\n",
       "      <th>tmx1</th>\n",
       "      <th>tmx2</th>\n",
       "      <th>tmx3</th>\n",
       "      <th>tmx4</th>\n",
       "      <th>tmx5</th>\n",
       "      <th>tmx6</th>\n",
       "      <th>tmx7</th>\n",
       "      <th>age</th>\n",
       "      <th>race</th>\n",
       "      <th>marital status</th>\n",
       "      <th>diagnosis</th>\n",
       "    </tr>\n",
       "    <tr>\n",
       "      <th>Patient Number</th>\n",
       "      <th></th>\n",
       "      <th></th>\n",
       "      <th></th>\n",
       "      <th></th>\n",
       "      <th></th>\n",
       "      <th></th>\n",
       "      <th></th>\n",
       "      <th></th>\n",
       "      <th></th>\n",
       "      <th></th>\n",
       "      <th></th>\n",
       "    </tr>\n",
       "  </thead>\n",
       "  <tbody>\n",
       "    <tr>\n",
       "      <th>1</th>\n",
       "      <td>0.001755</td>\n",
       "      <td>-0.009130</td>\n",
       "      <td>0.021889</td>\n",
       "      <td>-0.002391</td>\n",
       "      <td>-0.003881</td>\n",
       "      <td>-0.005226</td>\n",
       "      <td>0.005448</td>\n",
       "      <td>71</td>\n",
       "      <td>0</td>\n",
       "      <td>0</td>\n",
       "      <td>0</td>\n",
       "    </tr>\n",
       "    <tr>\n",
       "      <th>2</th>\n",
       "      <td>0.006625</td>\n",
       "      <td>-0.009623</td>\n",
       "      <td>0.001859</td>\n",
       "      <td>0.038991</td>\n",
       "      <td>-0.003238</td>\n",
       "      <td>-0.001942</td>\n",
       "      <td>0.002405</td>\n",
       "      <td>67</td>\n",
       "      <td>0</td>\n",
       "      <td>1</td>\n",
       "      <td>0</td>\n",
       "    </tr>\n",
       "    <tr>\n",
       "      <th>4</th>\n",
       "      <td>0.021118</td>\n",
       "      <td>0.014048</td>\n",
       "      <td>-0.012493</td>\n",
       "      <td>-0.014038</td>\n",
       "      <td>0.012569</td>\n",
       "      <td>-0.016942</td>\n",
       "      <td>-0.013165</td>\n",
       "      <td>65</td>\n",
       "      <td>1</td>\n",
       "      <td>1</td>\n",
       "      <td>0</td>\n",
       "    </tr>\n",
       "    <tr>\n",
       "      <th>5</th>\n",
       "      <td>-0.010972</td>\n",
       "      <td>-0.004264</td>\n",
       "      <td>-0.000943</td>\n",
       "      <td>-0.006866</td>\n",
       "      <td>0.012907</td>\n",
       "      <td>-0.000275</td>\n",
       "      <td>0.032738</td>\n",
       "      <td>64</td>\n",
       "      <td>2</td>\n",
       "      <td>1</td>\n",
       "      <td>0</td>\n",
       "    </tr>\n",
       "    <tr>\n",
       "      <th>6</th>\n",
       "      <td>-0.006823</td>\n",
       "      <td>-0.016133</td>\n",
       "      <td>-0.014031</td>\n",
       "      <td>0.011714</td>\n",
       "      <td>0.000861</td>\n",
       "      <td>0.004469</td>\n",
       "      <td>-0.015246</td>\n",
       "      <td>52</td>\n",
       "      <td>0</td>\n",
       "      <td>2</td>\n",
       "      <td>0</td>\n",
       "    </tr>\n",
       "    <tr>\n",
       "      <th>...</th>\n",
       "      <td>...</td>\n",
       "      <td>...</td>\n",
       "      <td>...</td>\n",
       "      <td>...</td>\n",
       "      <td>...</td>\n",
       "      <td>...</td>\n",
       "      <td>...</td>\n",
       "      <td>...</td>\n",
       "      <td>...</td>\n",
       "      <td>...</td>\n",
       "      <td>...</td>\n",
       "    </tr>\n",
       "    <tr>\n",
       "      <th>283</th>\n",
       "      <td>0.007144</td>\n",
       "      <td>-0.009216</td>\n",
       "      <td>-0.005881</td>\n",
       "      <td>0.047482</td>\n",
       "      <td>-0.000149</td>\n",
       "      <td>-0.007389</td>\n",
       "      <td>0.011637</td>\n",
       "      <td>48</td>\n",
       "      <td>1</td>\n",
       "      <td>1</td>\n",
       "      <td>1</td>\n",
       "    </tr>\n",
       "    <tr>\n",
       "      <th>284</th>\n",
       "      <td>-0.019392</td>\n",
       "      <td>0.003548</td>\n",
       "      <td>-0.010652</td>\n",
       "      <td>-0.004466</td>\n",
       "      <td>-0.002088</td>\n",
       "      <td>0.028087</td>\n",
       "      <td>0.025018</td>\n",
       "      <td>67</td>\n",
       "      <td>2</td>\n",
       "      <td>0</td>\n",
       "      <td>0</td>\n",
       "    </tr>\n",
       "    <tr>\n",
       "      <th>285</th>\n",
       "      <td>-0.006850</td>\n",
       "      <td>0.006791</td>\n",
       "      <td>-0.003342</td>\n",
       "      <td>-0.000728</td>\n",
       "      <td>0.037847</td>\n",
       "      <td>-0.015863</td>\n",
       "      <td>0.006173</td>\n",
       "      <td>54</td>\n",
       "      <td>1</td>\n",
       "      <td>2</td>\n",
       "      <td>1</td>\n",
       "    </tr>\n",
       "    <tr>\n",
       "      <th>286</th>\n",
       "      <td>0.007225</td>\n",
       "      <td>-0.002748</td>\n",
       "      <td>0.035931</td>\n",
       "      <td>-0.010819</td>\n",
       "      <td>0.009167</td>\n",
       "      <td>0.023563</td>\n",
       "      <td>0.002594</td>\n",
       "      <td>47</td>\n",
       "      <td>2</td>\n",
       "      <td>2</td>\n",
       "      <td>1</td>\n",
       "    </tr>\n",
       "    <tr>\n",
       "      <th>287</th>\n",
       "      <td>0.026006</td>\n",
       "      <td>0.012796</td>\n",
       "      <td>-0.013109</td>\n",
       "      <td>-0.017058</td>\n",
       "      <td>-0.005157</td>\n",
       "      <td>0.002691</td>\n",
       "      <td>-0.001721</td>\n",
       "      <td>60</td>\n",
       "      <td>2</td>\n",
       "      <td>0</td>\n",
       "      <td>1</td>\n",
       "    </tr>\n",
       "  </tbody>\n",
       "</table>\n",
       "<p>211 rows × 11 columns</p>\n",
       "</div>"
      ],
      "text/plain": [
       "                    tmx1      tmx2      tmx3      tmx4      tmx5      tmx6  \\\n",
       "Patient Number                                                               \n",
       "1               0.001755 -0.009130  0.021889 -0.002391 -0.003881 -0.005226   \n",
       "2               0.006625 -0.009623  0.001859  0.038991 -0.003238 -0.001942   \n",
       "4               0.021118  0.014048 -0.012493 -0.014038  0.012569 -0.016942   \n",
       "5              -0.010972 -0.004264 -0.000943 -0.006866  0.012907 -0.000275   \n",
       "6              -0.006823 -0.016133 -0.014031  0.011714  0.000861  0.004469   \n",
       "...                  ...       ...       ...       ...       ...       ...   \n",
       "283             0.007144 -0.009216 -0.005881  0.047482 -0.000149 -0.007389   \n",
       "284            -0.019392  0.003548 -0.010652 -0.004466 -0.002088  0.028087   \n",
       "285            -0.006850  0.006791 -0.003342 -0.000728  0.037847 -0.015863   \n",
       "286             0.007225 -0.002748  0.035931 -0.010819  0.009167  0.023563   \n",
       "287             0.026006  0.012796 -0.013109 -0.017058 -0.005157  0.002691   \n",
       "\n",
       "                    tmx7  age  race  marital status  diagnosis  \n",
       "Patient Number                                                  \n",
       "1               0.005448   71     0               0          0  \n",
       "2               0.002405   67     0               1          0  \n",
       "4              -0.013165   65     1               1          0  \n",
       "5               0.032738   64     2               1          0  \n",
       "6              -0.015246   52     0               2          0  \n",
       "...                  ...  ...   ...             ...        ...  \n",
       "283             0.011637   48     1               1          1  \n",
       "284             0.025018   67     2               0          0  \n",
       "285             0.006173   54     1               2          1  \n",
       "286             0.002594   47     2               2          1  \n",
       "287            -0.001721   60     2               0          1  \n",
       "\n",
       "[211 rows x 11 columns]"
      ]
     },
     "execution_count": 9,
     "metadata": {},
     "output_type": "execute_result"
    }
   ],
   "source": [
    "NMF_Bell = NMF_Bell.join(Clinical)\n",
    "NMF_Bell"
   ]
  },
  {
   "cell_type": "markdown",
   "id": "91799db3",
   "metadata": {},
   "source": [
    "### Deep NMF Gauss:"
   ]
  },
  {
   "cell_type": "code",
   "execution_count": 10,
   "id": "7149a454",
   "metadata": {},
   "outputs": [
    {
     "data": {
      "text/html": [
       "<div>\n",
       "<style scoped>\n",
       "    .dataframe tbody tr th:only-of-type {\n",
       "        vertical-align: middle;\n",
       "    }\n",
       "\n",
       "    .dataframe tbody tr th {\n",
       "        vertical-align: top;\n",
       "    }\n",
       "\n",
       "    .dataframe thead th {\n",
       "        text-align: right;\n",
       "    }\n",
       "</style>\n",
       "<table border=\"1\" class=\"dataframe\">\n",
       "  <thead>\n",
       "    <tr style=\"text-align: right;\">\n",
       "      <th></th>\n",
       "      <th>tmx1</th>\n",
       "      <th>tmx2</th>\n",
       "      <th>tmx3</th>\n",
       "      <th>tmx4</th>\n",
       "      <th>tmx5</th>\n",
       "      <th>tmx6</th>\n",
       "      <th>tmx7</th>\n",
       "      <th>age</th>\n",
       "      <th>race</th>\n",
       "      <th>marital status</th>\n",
       "      <th>diagnosis</th>\n",
       "    </tr>\n",
       "    <tr>\n",
       "      <th>Patient Number</th>\n",
       "      <th></th>\n",
       "      <th></th>\n",
       "      <th></th>\n",
       "      <th></th>\n",
       "      <th></th>\n",
       "      <th></th>\n",
       "      <th></th>\n",
       "      <th></th>\n",
       "      <th></th>\n",
       "      <th></th>\n",
       "      <th></th>\n",
       "    </tr>\n",
       "  </thead>\n",
       "  <tbody>\n",
       "    <tr>\n",
       "      <th>1</th>\n",
       "      <td>-0.022364</td>\n",
       "      <td>0.014819</td>\n",
       "      <td>-0.007169</td>\n",
       "      <td>0.003909</td>\n",
       "      <td>0.000230</td>\n",
       "      <td>-0.006494</td>\n",
       "      <td>0.003942</td>\n",
       "      <td>71</td>\n",
       "      <td>0</td>\n",
       "      <td>0</td>\n",
       "      <td>0</td>\n",
       "    </tr>\n",
       "    <tr>\n",
       "      <th>2</th>\n",
       "      <td>0.020918</td>\n",
       "      <td>0.015556</td>\n",
       "      <td>0.000859</td>\n",
       "      <td>0.004762</td>\n",
       "      <td>0.012614</td>\n",
       "      <td>-0.010033</td>\n",
       "      <td>-0.002290</td>\n",
       "      <td>67</td>\n",
       "      <td>0</td>\n",
       "      <td>1</td>\n",
       "      <td>0</td>\n",
       "    </tr>\n",
       "    <tr>\n",
       "      <th>4</th>\n",
       "      <td>-0.017220</td>\n",
       "      <td>0.005170</td>\n",
       "      <td>0.005898</td>\n",
       "      <td>-0.021655</td>\n",
       "      <td>0.025073</td>\n",
       "      <td>0.000224</td>\n",
       "      <td>0.015767</td>\n",
       "      <td>65</td>\n",
       "      <td>1</td>\n",
       "      <td>1</td>\n",
       "      <td>0</td>\n",
       "    </tr>\n",
       "    <tr>\n",
       "      <th>5</th>\n",
       "      <td>0.007337</td>\n",
       "      <td>-0.014344</td>\n",
       "      <td>-0.011761</td>\n",
       "      <td>0.005014</td>\n",
       "      <td>0.003833</td>\n",
       "      <td>-0.006462</td>\n",
       "      <td>-0.005056</td>\n",
       "      <td>64</td>\n",
       "      <td>2</td>\n",
       "      <td>1</td>\n",
       "      <td>0</td>\n",
       "    </tr>\n",
       "    <tr>\n",
       "      <th>6</th>\n",
       "      <td>0.011710</td>\n",
       "      <td>-0.008397</td>\n",
       "      <td>-0.020201</td>\n",
       "      <td>-0.013749</td>\n",
       "      <td>-0.020514</td>\n",
       "      <td>-0.006743</td>\n",
       "      <td>0.014319</td>\n",
       "      <td>52</td>\n",
       "      <td>0</td>\n",
       "      <td>2</td>\n",
       "      <td>0</td>\n",
       "    </tr>\n",
       "    <tr>\n",
       "      <th>...</th>\n",
       "      <td>...</td>\n",
       "      <td>...</td>\n",
       "      <td>...</td>\n",
       "      <td>...</td>\n",
       "      <td>...</td>\n",
       "      <td>...</td>\n",
       "      <td>...</td>\n",
       "      <td>...</td>\n",
       "      <td>...</td>\n",
       "      <td>...</td>\n",
       "      <td>...</td>\n",
       "    </tr>\n",
       "    <tr>\n",
       "      <th>283</th>\n",
       "      <td>-0.025436</td>\n",
       "      <td>0.021219</td>\n",
       "      <td>-0.018572</td>\n",
       "      <td>0.016901</td>\n",
       "      <td>-0.011348</td>\n",
       "      <td>-0.000614</td>\n",
       "      <td>-0.008318</td>\n",
       "      <td>48</td>\n",
       "      <td>1</td>\n",
       "      <td>1</td>\n",
       "      <td>1</td>\n",
       "    </tr>\n",
       "    <tr>\n",
       "      <th>284</th>\n",
       "      <td>0.009260</td>\n",
       "      <td>-0.012237</td>\n",
       "      <td>-0.023248</td>\n",
       "      <td>-0.022455</td>\n",
       "      <td>-0.026705</td>\n",
       "      <td>0.008202</td>\n",
       "      <td>0.003239</td>\n",
       "      <td>67</td>\n",
       "      <td>2</td>\n",
       "      <td>0</td>\n",
       "      <td>0</td>\n",
       "    </tr>\n",
       "    <tr>\n",
       "      <th>285</th>\n",
       "      <td>-0.025587</td>\n",
       "      <td>0.021568</td>\n",
       "      <td>-0.019026</td>\n",
       "      <td>0.021038</td>\n",
       "      <td>-0.019709</td>\n",
       "      <td>-0.005977</td>\n",
       "      <td>-0.031650</td>\n",
       "      <td>54</td>\n",
       "      <td>1</td>\n",
       "      <td>2</td>\n",
       "      <td>1</td>\n",
       "    </tr>\n",
       "    <tr>\n",
       "      <th>286</th>\n",
       "      <td>0.017950</td>\n",
       "      <td>0.007075</td>\n",
       "      <td>-0.003331</td>\n",
       "      <td>0.015116</td>\n",
       "      <td>0.031056</td>\n",
       "      <td>-0.021938</td>\n",
       "      <td>-0.001737</td>\n",
       "      <td>47</td>\n",
       "      <td>2</td>\n",
       "      <td>2</td>\n",
       "      <td>1</td>\n",
       "    </tr>\n",
       "    <tr>\n",
       "      <th>287</th>\n",
       "      <td>-0.026795</td>\n",
       "      <td>0.024215</td>\n",
       "      <td>-0.024262</td>\n",
       "      <td>0.024725</td>\n",
       "      <td>-0.017602</td>\n",
       "      <td>0.005061</td>\n",
       "      <td>0.006690</td>\n",
       "      <td>60</td>\n",
       "      <td>2</td>\n",
       "      <td>0</td>\n",
       "      <td>1</td>\n",
       "    </tr>\n",
       "  </tbody>\n",
       "</table>\n",
       "<p>211 rows × 11 columns</p>\n",
       "</div>"
      ],
      "text/plain": [
       "                    tmx1      tmx2      tmx3      tmx4      tmx5      tmx6  \\\n",
       "Patient Number                                                               \n",
       "1              -0.022364  0.014819 -0.007169  0.003909  0.000230 -0.006494   \n",
       "2               0.020918  0.015556  0.000859  0.004762  0.012614 -0.010033   \n",
       "4              -0.017220  0.005170  0.005898 -0.021655  0.025073  0.000224   \n",
       "5               0.007337 -0.014344 -0.011761  0.005014  0.003833 -0.006462   \n",
       "6               0.011710 -0.008397 -0.020201 -0.013749 -0.020514 -0.006743   \n",
       "...                  ...       ...       ...       ...       ...       ...   \n",
       "283            -0.025436  0.021219 -0.018572  0.016901 -0.011348 -0.000614   \n",
       "284             0.009260 -0.012237 -0.023248 -0.022455 -0.026705  0.008202   \n",
       "285            -0.025587  0.021568 -0.019026  0.021038 -0.019709 -0.005977   \n",
       "286             0.017950  0.007075 -0.003331  0.015116  0.031056 -0.021938   \n",
       "287            -0.026795  0.024215 -0.024262  0.024725 -0.017602  0.005061   \n",
       "\n",
       "                    tmx7  age  race  marital status  diagnosis  \n",
       "Patient Number                                                  \n",
       "1               0.003942   71     0               0          0  \n",
       "2              -0.002290   67     0               1          0  \n",
       "4               0.015767   65     1               1          0  \n",
       "5              -0.005056   64     2               1          0  \n",
       "6               0.014319   52     0               2          0  \n",
       "...                  ...  ...   ...             ...        ...  \n",
       "283            -0.008318   48     1               1          1  \n",
       "284             0.003239   67     2               0          0  \n",
       "285            -0.031650   54     1               2          1  \n",
       "286            -0.001737   47     2               2          1  \n",
       "287             0.006690   60     2               0          1  \n",
       "\n",
       "[211 rows x 11 columns]"
      ]
     },
     "execution_count": 10,
     "metadata": {},
     "output_type": "execute_result"
    }
   ],
   "source": [
    "Deep_NMFGauss = Deep_NMFGauss.join(Clinical)\n",
    "Deep_NMFGauss"
   ]
  },
  {
   "cell_type": "markdown",
   "id": "7e834363",
   "metadata": {},
   "source": [
    "### Deep NMF Bell:"
   ]
  },
  {
   "cell_type": "code",
   "execution_count": 11,
   "id": "b699be21",
   "metadata": {},
   "outputs": [
    {
     "data": {
      "text/html": [
       "<div>\n",
       "<style scoped>\n",
       "    .dataframe tbody tr th:only-of-type {\n",
       "        vertical-align: middle;\n",
       "    }\n",
       "\n",
       "    .dataframe tbody tr th {\n",
       "        vertical-align: top;\n",
       "    }\n",
       "\n",
       "    .dataframe thead th {\n",
       "        text-align: right;\n",
       "    }\n",
       "</style>\n",
       "<table border=\"1\" class=\"dataframe\">\n",
       "  <thead>\n",
       "    <tr style=\"text-align: right;\">\n",
       "      <th></th>\n",
       "      <th>tmx1</th>\n",
       "      <th>tmx2</th>\n",
       "      <th>tmx3</th>\n",
       "      <th>tmx4</th>\n",
       "      <th>tmx5</th>\n",
       "      <th>tmx6</th>\n",
       "      <th>tmx7</th>\n",
       "      <th>age</th>\n",
       "      <th>race</th>\n",
       "      <th>marital status</th>\n",
       "      <th>diagnosis</th>\n",
       "    </tr>\n",
       "    <tr>\n",
       "      <th>Patient Number</th>\n",
       "      <th></th>\n",
       "      <th></th>\n",
       "      <th></th>\n",
       "      <th></th>\n",
       "      <th></th>\n",
       "      <th></th>\n",
       "      <th></th>\n",
       "      <th></th>\n",
       "      <th></th>\n",
       "      <th></th>\n",
       "      <th></th>\n",
       "    </tr>\n",
       "  </thead>\n",
       "  <tbody>\n",
       "    <tr>\n",
       "      <th>1</th>\n",
       "      <td>0.021828</td>\n",
       "      <td>0.001852</td>\n",
       "      <td>0.006259</td>\n",
       "      <td>0.024332</td>\n",
       "      <td>-0.009744</td>\n",
       "      <td>0.013501</td>\n",
       "      <td>-0.027803</td>\n",
       "      <td>71</td>\n",
       "      <td>0</td>\n",
       "      <td>0</td>\n",
       "      <td>0</td>\n",
       "    </tr>\n",
       "    <tr>\n",
       "      <th>2</th>\n",
       "      <td>-0.017057</td>\n",
       "      <td>0.021772</td>\n",
       "      <td>-0.008108</td>\n",
       "      <td>0.011965</td>\n",
       "      <td>-0.002593</td>\n",
       "      <td>-0.003378</td>\n",
       "      <td>0.007111</td>\n",
       "      <td>67</td>\n",
       "      <td>0</td>\n",
       "      <td>1</td>\n",
       "      <td>0</td>\n",
       "    </tr>\n",
       "    <tr>\n",
       "      <th>4</th>\n",
       "      <td>-0.011054</td>\n",
       "      <td>0.011257</td>\n",
       "      <td>-0.023046</td>\n",
       "      <td>-0.007758</td>\n",
       "      <td>-0.018575</td>\n",
       "      <td>0.001070</td>\n",
       "      <td>-0.003304</td>\n",
       "      <td>65</td>\n",
       "      <td>1</td>\n",
       "      <td>1</td>\n",
       "      <td>0</td>\n",
       "    </tr>\n",
       "    <tr>\n",
       "      <th>5</th>\n",
       "      <td>-0.006366</td>\n",
       "      <td>-0.009274</td>\n",
       "      <td>-0.007759</td>\n",
       "      <td>-0.013375</td>\n",
       "      <td>-0.006428</td>\n",
       "      <td>0.001285</td>\n",
       "      <td>0.005250</td>\n",
       "      <td>64</td>\n",
       "      <td>2</td>\n",
       "      <td>1</td>\n",
       "      <td>0</td>\n",
       "    </tr>\n",
       "    <tr>\n",
       "      <th>6</th>\n",
       "      <td>-0.001736</td>\n",
       "      <td>-0.022599</td>\n",
       "      <td>-0.001841</td>\n",
       "      <td>0.019558</td>\n",
       "      <td>-0.016182</td>\n",
       "      <td>-0.030402</td>\n",
       "      <td>0.000218</td>\n",
       "      <td>52</td>\n",
       "      <td>0</td>\n",
       "      <td>2</td>\n",
       "      <td>0</td>\n",
       "    </tr>\n",
       "    <tr>\n",
       "      <th>...</th>\n",
       "      <td>...</td>\n",
       "      <td>...</td>\n",
       "      <td>...</td>\n",
       "      <td>...</td>\n",
       "      <td>...</td>\n",
       "      <td>...</td>\n",
       "      <td>...</td>\n",
       "      <td>...</td>\n",
       "      <td>...</td>\n",
       "      <td>...</td>\n",
       "      <td>...</td>\n",
       "    </tr>\n",
       "    <tr>\n",
       "      <th>283</th>\n",
       "      <td>0.027502</td>\n",
       "      <td>0.015508</td>\n",
       "      <td>0.016395</td>\n",
       "      <td>0.009034</td>\n",
       "      <td>-0.018005</td>\n",
       "      <td>0.015957</td>\n",
       "      <td>-0.004337</td>\n",
       "      <td>48</td>\n",
       "      <td>1</td>\n",
       "      <td>1</td>\n",
       "      <td>1</td>\n",
       "    </tr>\n",
       "    <tr>\n",
       "      <th>284</th>\n",
       "      <td>-0.014563</td>\n",
       "      <td>0.019172</td>\n",
       "      <td>-0.017009</td>\n",
       "      <td>0.007196</td>\n",
       "      <td>-0.006793</td>\n",
       "      <td>-0.002869</td>\n",
       "      <td>0.011090</td>\n",
       "      <td>67</td>\n",
       "      <td>2</td>\n",
       "      <td>0</td>\n",
       "      <td>0</td>\n",
       "    </tr>\n",
       "    <tr>\n",
       "      <th>285</th>\n",
       "      <td>0.020811</td>\n",
       "      <td>0.000540</td>\n",
       "      <td>0.005301</td>\n",
       "      <td>0.024878</td>\n",
       "      <td>-0.008641</td>\n",
       "      <td>0.048934</td>\n",
       "      <td>-0.004653</td>\n",
       "      <td>54</td>\n",
       "      <td>1</td>\n",
       "      <td>2</td>\n",
       "      <td>1</td>\n",
       "    </tr>\n",
       "    <tr>\n",
       "      <th>286</th>\n",
       "      <td>-0.018949</td>\n",
       "      <td>0.023975</td>\n",
       "      <td>0.008478</td>\n",
       "      <td>0.018671</td>\n",
       "      <td>0.024862</td>\n",
       "      <td>-0.000105</td>\n",
       "      <td>0.000519</td>\n",
       "      <td>47</td>\n",
       "      <td>2</td>\n",
       "      <td>2</td>\n",
       "      <td>1</td>\n",
       "    </tr>\n",
       "    <tr>\n",
       "      <th>287</th>\n",
       "      <td>0.028176</td>\n",
       "      <td>0.017465</td>\n",
       "      <td>0.017702</td>\n",
       "      <td>0.005573</td>\n",
       "      <td>-0.018992</td>\n",
       "      <td>0.010104</td>\n",
       "      <td>-0.002201</td>\n",
       "      <td>60</td>\n",
       "      <td>2</td>\n",
       "      <td>0</td>\n",
       "      <td>1</td>\n",
       "    </tr>\n",
       "  </tbody>\n",
       "</table>\n",
       "<p>211 rows × 11 columns</p>\n",
       "</div>"
      ],
      "text/plain": [
       "                    tmx1      tmx2      tmx3      tmx4      tmx5      tmx6  \\\n",
       "Patient Number                                                               \n",
       "1               0.021828  0.001852  0.006259  0.024332 -0.009744  0.013501   \n",
       "2              -0.017057  0.021772 -0.008108  0.011965 -0.002593 -0.003378   \n",
       "4              -0.011054  0.011257 -0.023046 -0.007758 -0.018575  0.001070   \n",
       "5              -0.006366 -0.009274 -0.007759 -0.013375 -0.006428  0.001285   \n",
       "6              -0.001736 -0.022599 -0.001841  0.019558 -0.016182 -0.030402   \n",
       "...                  ...       ...       ...       ...       ...       ...   \n",
       "283             0.027502  0.015508  0.016395  0.009034 -0.018005  0.015957   \n",
       "284            -0.014563  0.019172 -0.017009  0.007196 -0.006793 -0.002869   \n",
       "285             0.020811  0.000540  0.005301  0.024878 -0.008641  0.048934   \n",
       "286            -0.018949  0.023975  0.008478  0.018671  0.024862 -0.000105   \n",
       "287             0.028176  0.017465  0.017702  0.005573 -0.018992  0.010104   \n",
       "\n",
       "                    tmx7  age  race  marital status  diagnosis  \n",
       "Patient Number                                                  \n",
       "1              -0.027803   71     0               0          0  \n",
       "2               0.007111   67     0               1          0  \n",
       "4              -0.003304   65     1               1          0  \n",
       "5               0.005250   64     2               1          0  \n",
       "6               0.000218   52     0               2          0  \n",
       "...                  ...  ...   ...             ...        ...  \n",
       "283            -0.004337   48     1               1          1  \n",
       "284             0.011090   67     2               0          0  \n",
       "285            -0.004653   54     1               2          1  \n",
       "286             0.000519   47     2               2          1  \n",
       "287            -0.002201   60     2               0          1  \n",
       "\n",
       "[211 rows x 11 columns]"
      ]
     },
     "execution_count": 11,
     "metadata": {},
     "output_type": "execute_result"
    }
   ],
   "source": [
    "Deep_NMFBell = Deep_NMFBell.join(Clinical)\n",
    "Deep_NMFBell"
   ]
  },
  {
   "cell_type": "markdown",
   "id": "a3d695cb",
   "metadata": {},
   "source": [
    "# Part_I"
   ]
  },
  {
   "cell_type": "markdown",
   "id": "a7ccd6f0",
   "metadata": {},
   "source": [
    "## Calculating new Clinical Accuracy:"
   ]
  },
  {
   "cell_type": "markdown",
   "id": "fbfb68b3",
   "metadata": {},
   "source": [
    "### X and Y data plus splitting into test and training sets: "
   ]
  },
  {
   "cell_type": "code",
   "execution_count": 12,
   "id": "5aab591f",
   "metadata": {
    "scrolled": true
   },
   "outputs": [
    {
     "name": "stdout",
     "output_type": "stream",
     "text": [
      "[[ 37   0   1]\n",
      " [ 77   2   1]\n",
      " [ 80   2   1]\n",
      " [ 69   3   1]\n",
      " [ 67   0   2]\n",
      " [ 53   0   1]\n",
      " [ 67   0   2]\n",
      " [ 68   2   1]\n",
      " [ 62   1   0]\n",
      " [ 70   1   1]\n",
      " [ 63   1   1]\n",
      " [ 88   0   1]\n",
      " [ 59   0   1]\n",
      " [ 87   2   0]\n",
      " [ 72   2   3]\n",
      " [ 74   2   1]\n",
      " [ 73   2   2]\n",
      " [ 50   0   0]\n",
      " [ 56   0   2]\n",
      " [ 56   2   3]\n",
      " [ 61   1   2]\n",
      " [ 52   2   1]\n",
      " [ 47   0   2]\n",
      " [ 62   0   1]\n",
      " [ 61   1   2]\n",
      " [ 75   0   1]\n",
      " [ 66   1   1]\n",
      " [ 59   0   1]\n",
      " [ 59   0   1]\n",
      " [ 58   2   1]\n",
      " [ 48   1   1]\n",
      " [ 65   1   2]\n",
      " [ 59   0   1]\n",
      " [ 59   0   1]\n",
      " [ 65   1   1]\n",
      " [ 64   0   1]\n",
      " [ 52   2   1]\n",
      " [ 62   2   2]\n",
      " [ 58   1   0]\n",
      " [ 57   0   3]\n",
      " [ 55   1   2]\n",
      " [ 70   0   1]\n",
      " [ 57   2   0]\n",
      " [ 40   1   1]\n",
      " [ 64   2   0]\n",
      " [ 52   2   2]\n",
      " [ 54   0   1]\n",
      " [ 64   2   1]\n",
      " [ 55   0   0]\n",
      " [ 66   0   3]\n",
      " [ 56   0   3]\n",
      " [ 43   2   1]\n",
      " [ 54   2   3]\n",
      " [ 53   1   1]\n",
      " [ 71   0   0]\n",
      " [ 70   0   0]\n",
      " [ 65   2   0]\n",
      " [ 66   2   1]\n",
      " [ 57   2   1]\n",
      " [ 63   2   1]\n",
      " [ 55   1   1]\n",
      " [ 59   0   2]\n",
      " [ 42   0   2]\n",
      " [ 68   0   1]\n",
      " [ 43   2   3]\n",
      " [ 54   1   2]\n",
      " [ 81   2   0]\n",
      " [ 66   1   2]\n",
      " [ 52   1   2]\n",
      " [ 53   2   1]\n",
      " [ 30   0   2]\n",
      " [ 47   2   2]\n",
      " [ 58   0   1]\n",
      " [ 53   1   2]\n",
      " [ 66   0   2]\n",
      " [ 58   1   1]\n",
      " [ 65   0   0]\n",
      " [ 60   1   2]\n",
      " [ 76   1   1]\n",
      " [ 78   2   0]\n",
      " [ 72   2   2]\n",
      " [ 61   0   1]\n",
      " [ 55   2   1]\n",
      " [120   2   1]\n",
      " [ 73   0   1]\n",
      " [ 60   1   2]\n",
      " [ 86   2   1]\n",
      " [ 67   0   1]\n",
      " [ 61   0   1]\n",
      " [ 27   0   2]\n",
      " [ 47   1   1]\n",
      " [ 75   0   0]\n",
      " [ 50   2   2]\n",
      " [ 80   2   2]\n",
      " [ 70   1   1]\n",
      " [ 62   1   1]\n",
      " [ 66   2   1]\n",
      " [ 55   0   1]\n",
      " [ 57   1   1]\n",
      " [ 77   2   0]\n",
      " [ 53   0   1]\n",
      " [ 59   2   2]\n",
      " [ 75   2   1]\n",
      " [ 52   0   2]\n",
      " [ 52   2   1]\n",
      " [ 57   2   1]\n",
      " [ 70   0   2]\n",
      " [ 88   2   0]\n",
      " [ 62   1   1]\n",
      " [ 86   0   1]\n",
      " [ 81   1   1]\n",
      " [ 58   0   2]\n",
      " [ 65   1   1]\n",
      " [ 53   2   1]\n",
      " [ 51   1   2]\n",
      " [ 84   2   2]\n",
      " [ 34   1   2]\n",
      " [ 48   0   1]\n",
      " [ 60   2   1]\n",
      " [ 68   1   2]\n",
      " [ 70   0   0]\n",
      " [ 54   1   2]\n",
      " [ 82   2   0]\n",
      " [ 50   0   1]\n",
      " [ 66   2   2]\n",
      " [ 61   0   1]\n",
      " [ 71   0   1]\n",
      " [ 62   1   1]\n",
      " [ 35   2   2]\n",
      " [ 64   1   1]\n",
      " [ 52   1   2]\n",
      " [ 78   1   3]\n",
      " [ 58   2   1]\n",
      " [ 66   2   1]\n",
      " [ 38   0   1]\n",
      " [ 59   0   1]\n",
      " [ 50   2   1]\n",
      " [ 62   0   1]\n",
      " [ 62   1   2]\n",
      " [ 59   2   2]\n",
      " [ 51   2   1]\n",
      " [ 55   0   1]\n",
      " [ 73   2   2]\n",
      " [ 89   0   0]\n",
      " [ 47   1   2]\n",
      " [ 72   1   1]\n",
      " [ 76   1   2]\n",
      " [ 49   4   1]]\n",
      "[0 0 0 0 0 0 0 0 0 0 0 0 0 0 0 0 0 1 0 1 1 0 0 0 0 0 1 0 0 1 1 0 0 0 0 0 0\n",
      " 0 0 0 0 0 1 1 0 1 0 0 0 0 0 1 0 0 0 0 0 0 0 1 0 0 0 0 0 1 0 0 0 0 0 1 0 0\n",
      " 0 0 0 0 0 0 1 0 0 0 0 0 0 0 0 0 0 0 0 1 0 0 0 0 1 1 0 0 0 0 0 0 0 0 1 0 0\n",
      " 0 0 0 0 1 0 0 1 0 0 1 0 0 0 0 0 0 1 0 0 0 1 0 0 0 0 0 0 0 0 0 1 0 1 0 0 0]\n"
     ]
    },
    {
     "data": {
      "text/plain": [
       "(None, None)"
      ]
     },
     "execution_count": 12,
     "metadata": {},
     "output_type": "execute_result"
    }
   ],
   "source": [
    "x0 = Clinical.iloc[:,0:3].values\n",
    "y0 = Clinical.iloc[:,3].values\n",
    "\n",
    "from sklearn.model_selection import train_test_split\n",
    "\n",
    "X_train, X_test, Y_train, Y_test = train_test_split(x0, y0, test_size = 0.3, random_state = 0)\n",
    "\n",
    "print(X_train),print(Y_train)"
   ]
  },
  {
   "cell_type": "markdown",
   "id": "4e17bef3",
   "metadata": {},
   "source": [
    "### Scaling features:"
   ]
  },
  {
   "cell_type": "code",
   "execution_count": 13,
   "id": "e7ecb0e0",
   "metadata": {},
   "outputs": [],
   "source": [
    "from sklearn.preprocessing import StandardScaler\n",
    "sc = StandardScaler()\n",
    "X_train = sc.fit_transform(X_train)\n",
    "X_test = sc.transform(X_test)"
   ]
  },
  {
   "cell_type": "markdown",
   "id": "f96401cb",
   "metadata": {},
   "source": [
    "## Implementing Random forest classification + making predictions:"
   ]
  },
  {
   "cell_type": "code",
   "execution_count": 14,
   "id": "45993cf0",
   "metadata": {
    "scrolled": true
   },
   "outputs": [
    {
     "name": "stdout",
     "output_type": "stream",
     "text": [
      "[[1 1]\n",
      " [0 0]\n",
      " [0 0]\n",
      " [1 1]\n",
      " [0 1]\n",
      " [0 0]\n",
      " [0 1]\n",
      " [1 0]\n",
      " [0 0]\n",
      " [0 0]\n",
      " [0 0]\n",
      " [0 0]\n",
      " [0 0]\n",
      " [0 0]\n",
      " [1 0]\n",
      " [0 0]\n",
      " [0 0]\n",
      " [1 0]\n",
      " [0 0]\n",
      " [0 0]\n",
      " [0 0]\n",
      " [1 1]\n",
      " [0 0]\n",
      " [0 1]\n",
      " [0 1]\n",
      " [1 0]\n",
      " [0 1]\n",
      " [0 0]\n",
      " [1 0]\n",
      " [0 0]\n",
      " [0 0]\n",
      " [0 0]\n",
      " [0 0]\n",
      " [1 0]\n",
      " [0 0]\n",
      " [0 0]\n",
      " [0 0]\n",
      " [0 0]\n",
      " [0 0]\n",
      " [0 1]\n",
      " [1 0]\n",
      " [0 0]\n",
      " [0 0]\n",
      " [0 0]\n",
      " [0 0]\n",
      " [0 0]\n",
      " [0 0]\n",
      " [1 0]\n",
      " [0 0]\n",
      " [1 0]\n",
      " [0 0]\n",
      " [0 0]\n",
      " [1 1]\n",
      " [0 0]\n",
      " [0 0]\n",
      " [0 0]\n",
      " [0 0]\n",
      " [0 0]\n",
      " [0 0]\n",
      " [0 0]\n",
      " [0 0]\n",
      " [0 0]\n",
      " [0 0]\n",
      " [0 1]]\n"
     ]
    }
   ],
   "source": [
    "from sklearn.ensemble import RandomForestClassifier\n",
    "classifier = RandomForestClassifier(n_estimators = 10, criterion = 'entropy', random_state = 0)\n",
    "classifier.fit(X_train, Y_train)\n",
    "\n",
    "y_pred = classifier.predict(X_test)\n",
    "print(np.concatenate((y_pred.reshape(len(y_pred),1), Y_test.reshape(len(Y_test),1)),1))"
   ]
  },
  {
   "cell_type": "markdown",
   "id": "642c9aea",
   "metadata": {},
   "source": [
    "### Confusion matrix:"
   ]
  },
  {
   "cell_type": "code",
   "execution_count": 15,
   "id": "b58a8cdd",
   "metadata": {},
   "outputs": [
    {
     "data": {
      "image/png": "[encoded data removed]",
      "text/plain": [
       "<Figure size 400x400 with 1 Axes>"
      ]
     },
     "metadata": {},
     "output_type": "display_data"
    },
    {
     "name": "stdout",
     "output_type": "stream",
     "text": [
      "[[44  9]\n",
      " [ 7  4]]\n"
     ]
    },
    {
     "data": {
      "text/plain": [
       "0.75"
      ]
     },
     "execution_count": 15,
     "metadata": {},
     "output_type": "execute_result"
    }
   ],
   "source": [
    "from sklearn.metrics import confusion_matrix, accuracy_score\n",
    "cm = confusion_matrix(Y_test, y_pred)\n",
    "accuracy_score(Y_test, y_pred)\n",
    "fig, ax = plt.subplots(figsize=(4, 4))\n",
    "ax.matshow(cm, cmap=plt.cm.Blues, alpha=0.3)\n",
    "for i in range(cm.shape[0]):\n",
    "    for j in range(cm.shape[1]):\n",
    "        ax.text(x=j, y=i,s=cm[i, j], va='center', ha='center', size='xx-large')\n",
    " \n",
    "plt.xlabel('Predictions', fontsize=18)\n",
    "plt.ylabel('Actuals', fontsize=18)\n",
    "plt.title('Confusion Matrix Random Forest', fontsize=18)\n",
    "plt.show()\n",
    "print(cm)\n",
    "accuracy_score(Y_test,y_pred)"
   ]
  },
  {
   "cell_type": "markdown",
   "id": "cacaa3d8",
   "metadata": {},
   "source": [
    "### Cross validation RF:"
   ]
  },
  {
   "cell_type": "code",
   "execution_count": 16,
   "id": "04a54b0d",
   "metadata": {
    "scrolled": true
   },
   "outputs": [
    {
     "name": "stdout",
     "output_type": "stream",
     "text": [
      "Accuracy: 73.62 %\n",
      "Standard Deviation: 9.53 %\n"
     ]
    }
   ],
   "source": [
    "from sklearn.model_selection import cross_val_score\n",
    "accuracies = cross_val_score(estimator = classifier, X = X_train, y = Y_train, cv = 7)\n",
    "print(\"Accuracy: {:.2f} %\".format(accuracies.mean()*100))\n",
    "print(\"Standard Deviation: {:.2f} %\".format(accuracies.std()*100))"
   ]
  },
  {
   "cell_type": "markdown",
   "id": "839b2cc7",
   "metadata": {},
   "source": [
    "## Logistic Regression + Predictions:"
   ]
  },
  {
   "cell_type": "code",
   "execution_count": 17,
   "id": "ab4845f3",
   "metadata": {
    "scrolled": true
   },
   "outputs": [
    {
     "name": "stdout",
     "output_type": "stream",
     "text": [
      "[[0 1]\n",
      " [0 0]\n",
      " [0 0]\n",
      " [0 1]\n",
      " [0 1]\n",
      " [0 0]\n",
      " [0 1]\n",
      " [0 0]\n",
      " [0 0]\n",
      " [0 0]\n",
      " [0 0]\n",
      " [0 0]\n",
      " [0 0]\n",
      " [0 0]\n",
      " [1 0]\n",
      " [0 0]\n",
      " [0 0]\n",
      " [0 0]\n",
      " [0 0]\n",
      " [0 0]\n",
      " [0 0]\n",
      " [0 1]\n",
      " [0 0]\n",
      " [0 1]\n",
      " [0 1]\n",
      " [0 0]\n",
      " [0 1]\n",
      " [0 0]\n",
      " [0 0]\n",
      " [0 0]\n",
      " [0 0]\n",
      " [0 0]\n",
      " [0 0]\n",
      " [1 0]\n",
      " [0 0]\n",
      " [0 0]\n",
      " [0 0]\n",
      " [0 0]\n",
      " [0 0]\n",
      " [0 1]\n",
      " [0 0]\n",
      " [0 0]\n",
      " [0 0]\n",
      " [0 0]\n",
      " [0 0]\n",
      " [0 0]\n",
      " [0 0]\n",
      " [0 0]\n",
      " [0 0]\n",
      " [0 0]\n",
      " [0 0]\n",
      " [0 0]\n",
      " [0 1]\n",
      " [0 0]\n",
      " [0 0]\n",
      " [0 0]\n",
      " [0 0]\n",
      " [0 0]\n",
      " [0 0]\n",
      " [0 0]\n",
      " [0 0]\n",
      " [0 0]\n",
      " [0 0]\n",
      " [0 1]]\n"
     ]
    }
   ],
   "source": [
    "from sklearn.linear_model import LogisticRegression\n",
    "LR = LogisticRegression(random_state = 0)\n",
    "LR.fit(X_train, Y_train)\n",
    "\n",
    "y_pred = LR.predict(X_test)\n",
    "print(np.concatenate((y_pred.reshape(len(y_pred),1), Y_test.reshape(len(Y_test),1)),1))"
   ]
  },
  {
   "cell_type": "markdown",
   "id": "09a24fc8",
   "metadata": {},
   "source": [
    "## Confusion Matrix:"
   ]
  },
  {
   "cell_type": "code",
   "execution_count": 18,
   "id": "e940ed2d",
   "metadata": {},
   "outputs": [
    {
     "data": {
      "image/png": "[encoded data removed]",
      "text/plain": [
       "<Figure size 400x400 with 1 Axes>"
      ]
     },
     "metadata": {},
     "output_type": "display_data"
    },
    {
     "name": "stdout",
     "output_type": "stream",
     "text": [
      "[[51  2]\n",
      " [11  0]]\n"
     ]
    },
    {
     "data": {
      "text/plain": [
       "0.796875"
      ]
     },
     "execution_count": 18,
     "metadata": {},
     "output_type": "execute_result"
    }
   ],
   "source": [
    "from sklearn.metrics import confusion_matrix, accuracy_score\n",
    "cm = confusion_matrix(Y_test, y_pred)\n",
    "accuracy_score(Y_test, y_pred)\n",
    "fig, ax = plt.subplots(figsize=(4, 4))\n",
    "ax.matshow(cm, cmap=plt.cm.Blues, alpha=0.3)\n",
    "for i in range(cm.shape[0]):\n",
    "    for j in range(cm.shape[1]):\n",
    "        ax.text(x=j, y=i,s=cm[i, j], va='center', ha='center', size='xx-large')\n",
    " \n",
    "plt.xlabel('Predictions', fontsize=18)\n",
    "plt.ylabel('Actuals', fontsize=18)\n",
    "plt.title('Confusion Matrix Log Regression', fontsize=18)\n",
    "plt.show()\n",
    "print(cm)\n",
    "accuracy_score(Y_test,y_pred)"
   ]
  },
  {
   "cell_type": "markdown",
   "id": "041f4f2e",
   "metadata": {},
   "source": [
    "### Cross Validation:"
   ]
  },
  {
   "cell_type": "code",
   "execution_count": 19,
   "id": "cfd1ba8c",
   "metadata": {},
   "outputs": [
    {
     "name": "stdout",
     "output_type": "stream",
     "text": [
      "Accuracy: 82.44 %\n",
      "Standard Deviation: 2.09 %\n"
     ]
    }
   ],
   "source": [
    "from sklearn.model_selection import cross_val_score\n",
    "accuracies = cross_val_score(estimator = LR, X = X_train, y = Y_train, cv = 7)\n",
    "print(\"Accuracy: {:.2f} %\".format(accuracies.mean()*100))\n",
    "print(\"Standard Deviation: {:.2f} %\".format(accuracies.std()*100))"
   ]
  },
  {
   "cell_type": "markdown",
   "id": "a6f21895",
   "metadata": {},
   "source": [
    "# Part_II"
   ]
  },
  {
   "cell_type": "markdown",
   "id": "27efaa02",
   "metadata": {},
   "source": [
    "## Implementing Classification methods to NMF Gauss dataset:"
   ]
  },
  {
   "cell_type": "markdown",
   "id": "1893d3c4",
   "metadata": {},
   "source": [
    "### Retrieving X and Y data:"
   ]
  },
  {
   "cell_type": "code",
   "execution_count": 20,
   "id": "386bc6d4",
   "metadata": {},
   "outputs": [],
   "source": [
    "x1 = NMF_Gauss.iloc[:,0:7].values\n",
    "y1 = NMF_Gauss.iloc[:,10].values"
   ]
  },
  {
   "cell_type": "code",
   "execution_count": 21,
   "id": "6431ae12",
   "metadata": {},
   "outputs": [
    {
     "data": {
      "text/plain": [
       "array([[-0.01066422,  0.00427885, -0.00954927, ..., -0.01016017,\n",
       "        -0.0207734 , -0.0080079 ],\n",
       "       [ 0.00201014,  0.00752707, -0.01800714, ...,  0.0105471 ,\n",
       "        -0.01826981, -0.01834872],\n",
       "       [ 0.0275891 , -0.0016723 ,  0.01816109, ..., -0.0021269 ,\n",
       "         0.00329982, -0.0033823 ],\n",
       "       ...,\n",
       "       [ 0.0013804 ,  0.01231658, -0.01690832, ...,  0.02127195,\n",
       "        -0.01297269, -0.00709158],\n",
       "       [ 0.02125763, -0.00821465, -0.00078335, ..., -0.01973989,\n",
       "         0.00206718,  0.00799016],\n",
       "       [ 0.03110502, -0.00248165,  0.02884573, ..., -0.00998678,\n",
       "         0.00932583, -0.0119142 ]])"
      ]
     },
     "execution_count": 21,
     "metadata": {},
     "output_type": "execute_result"
    }
   ],
   "source": [
    "x1"
   ]
  },
  {
   "cell_type": "code",
   "execution_count": 22,
   "id": "9880e637",
   "metadata": {},
   "outputs": [
    {
     "data": {
      "text/plain": [
       "array([0, 0, 0, 0, 0, 0, 0, 0, 0, 0, 0, 0, 0, 0, 0, 0, 0, 0, 0, 0, 0, 0,\n",
       "       0, 0, 0, 0, 0, 0, 0, 0, 0, 0, 0, 0, 0, 0, 0, 0, 0, 0, 0, 0, 0, 0,\n",
       "       0, 0, 0, 0, 0, 0, 0, 0, 0, 0, 0, 0, 0, 0, 0, 0, 0, 0, 0, 0, 0, 0,\n",
       "       0, 0, 0, 0, 0, 0, 0, 0, 0, 0, 0, 0, 0, 0, 0, 0, 0, 0, 0, 0, 0, 0,\n",
       "       0, 0, 0, 0, 0, 0, 0, 1, 0, 0, 0, 0, 0, 0, 0, 0, 0, 0, 0, 0, 0, 0,\n",
       "       0, 0, 0, 0, 0, 0, 0, 0, 0, 0, 0, 0, 0, 0, 0, 0, 0, 1, 1, 0, 0, 0,\n",
       "       0, 0, 0, 0, 0, 0, 0, 0, 0, 0, 0, 1, 0, 0, 0, 1, 1, 1, 0, 0, 0, 1,\n",
       "       0, 0, 0, 0, 0, 0, 0, 0, 0, 0, 0, 0, 0, 0, 0, 0, 0, 0, 0, 0, 1, 1,\n",
       "       1, 0, 0, 0, 1, 1, 1, 1, 1, 1, 1, 0, 1, 1, 1, 1, 1, 1, 1, 1, 0, 1,\n",
       "       1, 0, 0, 1, 1, 0, 1, 1, 1, 0, 1, 1, 1], dtype=int64)"
      ]
     },
     "execution_count": 22,
     "metadata": {},
     "output_type": "execute_result"
    }
   ],
   "source": [
    "y1"
   ]
  },
  {
   "cell_type": "markdown",
   "id": "80b24e0b",
   "metadata": {},
   "source": [
    "### Splitting the data into train and test sets:"
   ]
  },
  {
   "cell_type": "code",
   "execution_count": 23,
   "id": "e6760884",
   "metadata": {},
   "outputs": [
    {
     "name": "stdout",
     "output_type": "stream",
     "text": [
      "[[-0.01238231 -0.01748472 -0.01064112 ...  0.00128323 -0.0068763\n",
      "   0.00360175]\n",
      " [ 0.02474111 -0.00684472  0.00677868 ... -0.02086832  0.00369119\n",
      "   0.01258574]\n",
      " [ 0.01118576 -0.00239326 -0.01462187 ...  0.00487908 -0.01071684\n",
      "  -0.01102531]\n",
      " ...\n",
      " [-0.01227747 -0.00409495  0.00726757 ... -0.00330334 -0.01206478\n",
      "  -0.01480145]\n",
      " [ 0.01014254 -0.01818658 -0.01709586 ... -0.02627648  0.01134821\n",
      "   0.01069193]\n",
      " [-0.00969657  0.02207309  0.00164788 ...  0.00429397  0.00168031\n",
      "   0.00286508]]\n",
      "[0 0 0 0 0 0 0 0 0 0 0 0 0 0 0 0 0 0 1 1 0 0 0 0 1 1 0 0 1 1 0 0 0 0 0 0 0\n",
      " 0 0 0 0 1 1 0 1 0 0 0 0 0 1 0 0 0 0 0 1 0 1 0 0 0 0 0 1 0 0 0 0 0 1 0 0 0\n",
      " 0 0 0 0 0 1 0 0 0 0 0 0 0 0 0 0 0 0 1 0 0 0 0 0 1 0 0 0 0 0 0 1 1 1 0 0 0\n",
      " 1 1 0 0 0 0 1 0 0 1 0 0 0 0 0 0 1 1 0 0 1 0 0 0 0 0 0 0 0 0 1 0 1 0 0 0]\n"
     ]
    },
    {
     "data": {
      "text/plain": [
       "(None, None)"
      ]
     },
     "execution_count": 23,
     "metadata": {},
     "output_type": "execute_result"
    }
   ],
   "source": [
    "from sklearn.model_selection import train_test_split\n",
    "\n",
    "X_train1, X_test1, Y_train1, Y_test1 = train_test_split(x1, y1, test_size = 0.3, random_state = 0)\n",
    "\n",
    "print(X_train1),print(Y_train1)"
   ]
  },
  {
   "cell_type": "markdown",
   "id": "77143aa8",
   "metadata": {},
   "source": [
    "### Scaling the features:"
   ]
  },
  {
   "cell_type": "code",
   "execution_count": 24,
   "id": "882897d6",
   "metadata": {},
   "outputs": [],
   "source": [
    "from sklearn.preprocessing import StandardScaler\n",
    "sc = StandardScaler()\n",
    "X_train1 = sc.fit_transform(X_train1)\n",
    "X_test1 = sc.transform(X_test1)"
   ]
  },
  {
   "cell_type": "markdown",
   "id": "524f7787",
   "metadata": {},
   "source": [
    "## Implementing Random Forest Classification:"
   ]
  },
  {
   "cell_type": "code",
   "execution_count": 25,
   "id": "1a21a16d",
   "metadata": {},
   "outputs": [
    {
     "data": {
      "text/plain": [
       "RandomForestClassifier(criterion='entropy', n_estimators=10, random_state=0)"
      ]
     },
     "execution_count": 25,
     "metadata": {},
     "output_type": "execute_result"
    }
   ],
   "source": [
    "from sklearn.ensemble import RandomForestClassifier\n",
    "classifier1 = RandomForestClassifier(n_estimators = 10, criterion = 'entropy', random_state = 0)\n",
    "classifier1.fit(X_train1, Y_train1)"
   ]
  },
  {
   "cell_type": "markdown",
   "id": "0855fc19",
   "metadata": {},
   "source": [
    "### Making Predictions:"
   ]
  },
  {
   "cell_type": "code",
   "execution_count": 26,
   "id": "477b774d",
   "metadata": {
    "scrolled": true
   },
   "outputs": [
    {
     "name": "stdout",
     "output_type": "stream",
     "text": [
      "[[0 0]\n",
      " [0 0]\n",
      " [0 0]\n",
      " [0 0]\n",
      " [0 0]\n",
      " [0 0]\n",
      " [0 0]\n",
      " [0 1]\n",
      " [0 0]\n",
      " [0 0]\n",
      " [0 0]\n",
      " [0 0]\n",
      " [0 0]\n",
      " [0 0]\n",
      " [0 0]\n",
      " [0 0]\n",
      " [0 0]\n",
      " [0 0]\n",
      " [0 0]\n",
      " [0 1]\n",
      " [0 0]\n",
      " [0 0]\n",
      " [0 0]\n",
      " [0 0]\n",
      " [0 0]\n",
      " [0 0]\n",
      " [0 0]\n",
      " [0 0]\n",
      " [0 0]\n",
      " [0 0]\n",
      " [0 1]\n",
      " [0 0]\n",
      " [0 0]\n",
      " [0 0]\n",
      " [0 0]\n",
      " [0 0]\n",
      " [0 1]\n",
      " [0 0]\n",
      " [0 0]\n",
      " [0 0]\n",
      " [0 0]\n",
      " [0 1]\n",
      " [0 0]\n",
      " [0 0]\n",
      " [0 0]\n",
      " [0 0]\n",
      " [0 0]\n",
      " [0 0]\n",
      " [0 0]\n",
      " [0 0]\n",
      " [0 0]\n",
      " [0 0]\n",
      " [0 0]\n",
      " [0 0]\n",
      " [0 1]\n",
      " [1 0]\n",
      " [0 1]\n",
      " [0 0]\n",
      " [0 0]\n",
      " [0 0]\n",
      " [0 0]\n",
      " [0 0]\n",
      " [0 0]\n",
      " [0 0]]\n"
     ]
    }
   ],
   "source": [
    "y_pred = classifier1.predict(X_test1)\n",
    "print(np.concatenate((y_pred.reshape(len(y_pred),1), Y_test1.reshape(len(Y_test1),1)),1))"
   ]
  },
  {
   "cell_type": "markdown",
   "id": "848171c5",
   "metadata": {},
   "source": [
    "### Confusion Matrix:"
   ]
  },
  {
   "cell_type": "code",
   "execution_count": 27,
   "id": "041bafd9",
   "metadata": {},
   "outputs": [
    {
     "data": {
      "image/png": "[encoded data removed]",
      "text/plain": [
       "<Figure size 400x400 with 1 Axes>"
      ]
     },
     "metadata": {},
     "output_type": "display_data"
    },
    {
     "name": "stdout",
     "output_type": "stream",
     "text": [
      "[[56  1]\n",
      " [ 7  0]]\n"
     ]
    },
    {
     "data": {
      "text/plain": [
       "0.875"
      ]
     },
     "execution_count": 27,
     "metadata": {},
     "output_type": "execute_result"
    }
   ],
   "source": [
    "from sklearn.metrics import confusion_matrix, accuracy_score\n",
    "cm = confusion_matrix(Y_test1, y_pred)\n",
    "accuracy_score(Y_test1, y_pred)\n",
    "fig, ax = plt.subplots(figsize=(4, 4))\n",
    "ax.matshow(cm, cmap=plt.cm.Blues, alpha=0.3)\n",
    "for i in range(cm.shape[0]):\n",
    "    for j in range(cm.shape[1]):\n",
    "        ax.text(x=j, y=i,s=cm[i, j], va='center', ha='center', size='xx-large')\n",
    " \n",
    "plt.xlabel('Predictions', fontsize=18)\n",
    "plt.ylabel('Actuals', fontsize=18)\n",
    "plt.title('Confusion Matrix Random Forest', fontsize=18)\n",
    "plt.show()\n",
    "print(cm)\n",
    "accuracy_score(Y_test1,y_pred)"
   ]
  },
  {
   "cell_type": "markdown",
   "id": "60418343",
   "metadata": {},
   "source": [
    "### Cross Validation RF:"
   ]
  },
  {
   "cell_type": "code",
   "execution_count": 28,
   "id": "11a8f025",
   "metadata": {},
   "outputs": [
    {
     "name": "stdout",
     "output_type": "stream",
     "text": [
      "Accuracy: 77.55 %\n",
      "Standard Deviation: 4.91 %\n"
     ]
    }
   ],
   "source": [
    "from sklearn.model_selection import cross_val_score\n",
    "accuracies = cross_val_score(estimator = classifier1, X = X_train1, y = Y_train1, cv = 7)\n",
    "print(\"Accuracy: {:.2f} %\".format(accuracies.mean()*100))\n",
    "print(\"Standard Deviation: {:.2f} %\".format(accuracies.std()*100))"
   ]
  },
  {
   "cell_type": "markdown",
   "id": "d3ea6cd4",
   "metadata": {},
   "source": [
    "## Implementing Logistic Regression Classification:"
   ]
  },
  {
   "cell_type": "code",
   "execution_count": 29,
   "id": "3435d494",
   "metadata": {},
   "outputs": [
    {
     "data": {
      "text/plain": [
       "LogisticRegression(random_state=0)"
      ]
     },
     "execution_count": 29,
     "metadata": {},
     "output_type": "execute_result"
    }
   ],
   "source": [
    "from sklearn.linear_model import LogisticRegression\n",
    "LR1 = LogisticRegression(random_state = 0)\n",
    "LR1.fit(X_train1, Y_train1)"
   ]
  },
  {
   "cell_type": "markdown",
   "id": "fe91425a",
   "metadata": {},
   "source": [
    "#### Making Predictions:"
   ]
  },
  {
   "cell_type": "code",
   "execution_count": 30,
   "id": "aad3b564",
   "metadata": {
    "scrolled": true
   },
   "outputs": [
    {
     "name": "stdout",
     "output_type": "stream",
     "text": [
      "[[0 0]\n",
      " [0 0]\n",
      " [0 0]\n",
      " [0 0]\n",
      " [0 0]\n",
      " [0 0]\n",
      " [0 0]\n",
      " [0 1]\n",
      " [0 0]\n",
      " [0 0]\n",
      " [0 0]\n",
      " [0 0]\n",
      " [0 0]\n",
      " [0 0]\n",
      " [0 0]\n",
      " [0 0]\n",
      " [0 0]\n",
      " [0 0]\n",
      " [0 0]\n",
      " [0 1]\n",
      " [0 0]\n",
      " [0 0]\n",
      " [0 0]\n",
      " [0 0]\n",
      " [0 0]\n",
      " [0 0]\n",
      " [0 0]\n",
      " [0 0]\n",
      " [0 0]\n",
      " [0 0]\n",
      " [0 1]\n",
      " [0 0]\n",
      " [0 0]\n",
      " [0 0]\n",
      " [0 0]\n",
      " [0 0]\n",
      " [0 1]\n",
      " [0 0]\n",
      " [0 0]\n",
      " [0 0]\n",
      " [0 0]\n",
      " [0 1]\n",
      " [0 0]\n",
      " [0 0]\n",
      " [0 0]\n",
      " [0 0]\n",
      " [0 0]\n",
      " [0 0]\n",
      " [0 0]\n",
      " [0 0]\n",
      " [0 0]\n",
      " [0 0]\n",
      " [0 0]\n",
      " [0 0]\n",
      " [0 1]\n",
      " [0 0]\n",
      " [0 1]\n",
      " [0 0]\n",
      " [0 0]\n",
      " [0 0]\n",
      " [0 0]\n",
      " [0 0]\n",
      " [0 0]\n",
      " [0 0]]\n"
     ]
    }
   ],
   "source": [
    "y_pred = LR1.predict(X_test1)\n",
    "print(np.concatenate((y_pred.reshape(len(y_pred),1), Y_test1.reshape(len(Y_test1),1)),1))"
   ]
  },
  {
   "cell_type": "markdown",
   "id": "f598edc5",
   "metadata": {},
   "source": [
    "### Confusion Matrix:"
   ]
  },
  {
   "cell_type": "code",
   "execution_count": 31,
   "id": "426f64c7",
   "metadata": {},
   "outputs": [
    {
     "data": {
      "image/png": "[encoded data removed]",
      "text/plain": [
       "<Figure size 400x400 with 1 Axes>"
      ]
     },
     "metadata": {},
     "output_type": "display_data"
    },
    {
     "name": "stdout",
     "output_type": "stream",
     "text": [
      "[[57  0]\n",
      " [ 7  0]]\n"
     ]
    },
    {
     "data": {
      "text/plain": [
       "0.890625"
      ]
     },
     "execution_count": 31,
     "metadata": {},
     "output_type": "execute_result"
    }
   ],
   "source": [
    "from sklearn.metrics import confusion_matrix, accuracy_score\n",
    "cm = confusion_matrix(Y_test1, y_pred)\n",
    "accuracy_score(Y_test1, y_pred)\n",
    "fig, ax = plt.subplots(figsize=(4, 4))\n",
    "ax.matshow(cm, cmap=plt.cm.Blues, alpha=0.3)\n",
    "for i in range(cm.shape[0]):\n",
    "    for j in range(cm.shape[1]):\n",
    "        ax.text(x=j, y=i,s=cm[i, j], va='center', ha='center', size='xx-large')\n",
    " \n",
    "plt.xlabel('Predictions', fontsize=18)\n",
    "plt.ylabel('Actuals', fontsize=18)\n",
    "plt.title('Confusion Matrix Log Regression', fontsize=18)\n",
    "plt.show()\n",
    "print(cm)\n",
    "accuracy_score(Y_test1,y_pred)"
   ]
  },
  {
   "cell_type": "markdown",
   "id": "c9b2088b",
   "metadata": {},
   "source": [
    "### Cross validation LogR:"
   ]
  },
  {
   "cell_type": "code",
   "execution_count": 32,
   "id": "6d93dafd",
   "metadata": {},
   "outputs": [
    {
     "name": "stdout",
     "output_type": "stream",
     "text": [
      "Accuracy: 79.59 %\n",
      "Standard Deviation: 2.15 %\n"
     ]
    }
   ],
   "source": [
    "from sklearn.model_selection import cross_val_score\n",
    "accuracies = cross_val_score(estimator = LR1, X = X_train1, y = Y_train1, cv = 7)\n",
    "print(\"Accuracy: {:.2f} %\".format(accuracies.mean()*100))\n",
    "print(\"Standard Deviation: {:.2f} %\".format(accuracies.std()*100))"
   ]
  },
  {
   "cell_type": "markdown",
   "id": "be22aa2a",
   "metadata": {},
   "source": [
    "# Part_III"
   ]
  },
  {
   "cell_type": "markdown",
   "id": "a63ed988",
   "metadata": {},
   "source": [
    " ## Implementing Classification methods to NMF Gauss dataset + added clinical info:"
   ]
  },
  {
   "cell_type": "markdown",
   "id": "f7922078",
   "metadata": {},
   "source": [
    "## Retrieving a new X value but using same Y:"
   ]
  },
  {
   "cell_type": "code",
   "execution_count": 33,
   "id": "3d0147b3",
   "metadata": {},
   "outputs": [
    {
     "data": {
      "text/plain": [
       "array([[-1.06642151e-02,  4.27884556e-03, -9.54927199e-03, ...,\n",
       "         7.10000000e+01,  0.00000000e+00,  0.00000000e+00],\n",
       "       [ 2.01013810e-03,  7.52707026e-03, -1.80071437e-02, ...,\n",
       "         6.70000000e+01,  0.00000000e+00,  1.00000000e+00],\n",
       "       [ 2.75891025e-02, -1.67229977e-03,  1.81610854e-02, ...,\n",
       "         6.50000000e+01,  1.00000000e+00,  1.00000000e+00],\n",
       "       ...,\n",
       "       [ 1.38039939e-03,  1.23165800e-02, -1.69083199e-02, ...,\n",
       "         5.40000000e+01,  1.00000000e+00,  2.00000000e+00],\n",
       "       [ 2.12576262e-02, -8.21464681e-03, -7.83354296e-04, ...,\n",
       "         4.70000000e+01,  2.00000000e+00,  2.00000000e+00],\n",
       "       [ 3.11050165e-02, -2.48164940e-03,  2.88457293e-02, ...,\n",
       "         6.00000000e+01,  2.00000000e+00,  0.00000000e+00]])"
      ]
     },
     "execution_count": 33,
     "metadata": {},
     "output_type": "execute_result"
    }
   ],
   "source": [
    "x1B = NMF_Gauss.iloc[:,0:10].values\n",
    "x1B"
   ]
  },
  {
   "cell_type": "markdown",
   "id": "d0386f1a",
   "metadata": {},
   "source": [
    "### Splitting Data:"
   ]
  },
  {
   "cell_type": "code",
   "execution_count": 34,
   "id": "0acca88c",
   "metadata": {
    "scrolled": false
   },
   "outputs": [
    {
     "name": "stdout",
     "output_type": "stream",
     "text": [
      "[[-1.23823101e-02 -1.74847223e-02 -1.06411210e-02 ...  7.70000000e+01\n",
      "   2.00000000e+00  1.00000000e+00]\n",
      " [ 2.47411112e-02 -6.84471501e-03  6.77868256e-03 ...  5.30000000e+01\n",
      "   2.00000000e+00  1.00000000e+00]\n",
      " [ 1.11857553e-02 -2.39325576e-03 -1.46218655e-02 ...  6.90000000e+01\n",
      "   3.00000000e+00  1.00000000e+00]\n",
      " ...\n",
      " [-1.22774665e-02 -4.09494780e-03  7.26756683e-03 ...  5.50000000e+01\n",
      "   1.00000000e+00  2.00000000e+00]\n",
      " [ 1.01425373e-02 -1.81865764e-02 -1.70958607e-02 ...  7.60000000e+01\n",
      "   1.00000000e+00  2.00000000e+00]\n",
      " [-9.69657005e-03  2.20730883e-02  1.64787565e-03 ...  7.00000000e+01\n",
      "   0.00000000e+00  2.00000000e+00]]\n",
      "[0 0 0 0 0 0 0 0 0 0 0 0 0 0 0 0 0 0 1 1 0 0 0 0 1 1 0 0 1 1 0 0 0 0 0 0 0\n",
      " 0 0 0 0 1 1 0 1 0 0 0 0 0 1 0 0 0 0 0 1 0 1 0 0 0 0 0 1 0 0 0 0 0 1 0 0 0\n",
      " 0 0 0 0 0 1 0 0 0 0 0 0 0 0 0 0 0 0 1 0 0 0 0 0 1 0 0 0 0 0 0 1 1 1 0 0 0\n",
      " 1 1 0 0 0 0 1 0 0 1 0 0 0 0 0 0 1 1 0 0 1 0 0 0 0 0 0 0 0 0 1 0 1 0 0 0]\n"
     ]
    },
    {
     "data": {
      "text/plain": [
       "(None, None)"
      ]
     },
     "execution_count": 34,
     "metadata": {},
     "output_type": "execute_result"
    }
   ],
   "source": [
    "from sklearn.model_selection import train_test_split\n",
    "\n",
    "X_train2, X_test2, Y_train2, Y_test2 = train_test_split(x1B, y1, test_size = 0.3, random_state = 0)\n",
    "\n",
    "print(X_train2),print(Y_train2)"
   ]
  },
  {
   "cell_type": "markdown",
   "id": "3a31907e",
   "metadata": {},
   "source": [
    "### Scaling Features:"
   ]
  },
  {
   "cell_type": "code",
   "execution_count": 35,
   "id": "317d67d6",
   "metadata": {},
   "outputs": [],
   "source": [
    "from sklearn.preprocessing import StandardScaler\n",
    "sc = StandardScaler()\n",
    "X_train2 = sc.fit_transform(X_train2)\n",
    "X_test2 = sc.transform(X_test2)"
   ]
  },
  {
   "cell_type": "markdown",
   "id": "73450f11",
   "metadata": {},
   "source": [
    "## Random Forest Classification:"
   ]
  },
  {
   "cell_type": "code",
   "execution_count": 36,
   "id": "6e0a7a3f",
   "metadata": {},
   "outputs": [
    {
     "data": {
      "text/plain": [
       "RandomForestClassifier(criterion='entropy', n_estimators=10, random_state=0)"
      ]
     },
     "execution_count": 36,
     "metadata": {},
     "output_type": "execute_result"
    }
   ],
   "source": [
    "from sklearn.ensemble import RandomForestClassifier\n",
    "classifier2 = RandomForestClassifier(n_estimators = 10, criterion = 'entropy', random_state = 0)\n",
    "classifier2.fit(X_train2, Y_train2)"
   ]
  },
  {
   "cell_type": "markdown",
   "id": "0ac4cff4",
   "metadata": {},
   "source": [
    "### Making Predictions:"
   ]
  },
  {
   "cell_type": "code",
   "execution_count": 37,
   "id": "77fe1ef6",
   "metadata": {
    "scrolled": true
   },
   "outputs": [
    {
     "name": "stdout",
     "output_type": "stream",
     "text": [
      "[[0 0]\n",
      " [0 0]\n",
      " [0 0]\n",
      " [0 0]\n",
      " [0 0]\n",
      " [0 0]\n",
      " [0 0]\n",
      " [0 1]\n",
      " [0 0]\n",
      " [0 0]\n",
      " [0 0]\n",
      " [0 0]\n",
      " [0 0]\n",
      " [1 0]\n",
      " [0 0]\n",
      " [0 0]\n",
      " [0 0]\n",
      " [0 0]\n",
      " [0 0]\n",
      " [0 1]\n",
      " [0 0]\n",
      " [0 0]\n",
      " [0 0]\n",
      " [0 0]\n",
      " [0 0]\n",
      " [0 0]\n",
      " [0 0]\n",
      " [0 0]\n",
      " [0 0]\n",
      " [0 0]\n",
      " [1 1]\n",
      " [0 0]\n",
      " [0 0]\n",
      " [0 0]\n",
      " [0 0]\n",
      " [0 0]\n",
      " [0 1]\n",
      " [0 0]\n",
      " [0 0]\n",
      " [0 0]\n",
      " [0 0]\n",
      " [1 1]\n",
      " [1 0]\n",
      " [0 0]\n",
      " [0 0]\n",
      " [0 0]\n",
      " [0 0]\n",
      " [0 0]\n",
      " [0 0]\n",
      " [0 0]\n",
      " [1 0]\n",
      " [0 0]\n",
      " [0 0]\n",
      " [0 0]\n",
      " [0 1]\n",
      " [0 0]\n",
      " [0 1]\n",
      " [0 0]\n",
      " [0 0]\n",
      " [1 0]\n",
      " [0 0]\n",
      " [0 0]\n",
      " [0 0]\n",
      " [0 0]]\n"
     ]
    }
   ],
   "source": [
    "y_pred = classifier2.predict(X_test2)\n",
    "print(np.concatenate((y_pred.reshape(len(y_pred),1), Y_test2.reshape(len(Y_test2),1)),1))"
   ]
  },
  {
   "cell_type": "markdown",
   "id": "2e65e4ec",
   "metadata": {},
   "source": [
    "### Confusion Matrix:"
   ]
  },
  {
   "cell_type": "code",
   "execution_count": 38,
   "id": "b66e8643",
   "metadata": {},
   "outputs": [
    {
     "data": {
      "image/png": "[encoded data removed]",
      "text/plain": [
       "<Figure size 400x400 with 1 Axes>"
      ]
     },
     "metadata": {},
     "output_type": "display_data"
    },
    {
     "name": "stdout",
     "output_type": "stream",
     "text": [
      "[[53  4]\n",
      " [ 5  2]]\n"
     ]
    },
    {
     "data": {
      "text/plain": [
       "0.859375"
      ]
     },
     "execution_count": 38,
     "metadata": {},
     "output_type": "execute_result"
    }
   ],
   "source": [
    "from sklearn.metrics import confusion_matrix, accuracy_score\n",
    "cm = confusion_matrix(Y_test2, y_pred)\n",
    "accuracy_score(Y_test2, y_pred)\n",
    "fig, ax = plt.subplots(figsize=(4, 4))\n",
    "ax.matshow(cm, cmap=plt.cm.Blues, alpha=0.3)\n",
    "for i in range(cm.shape[0]):\n",
    "    for j in range(cm.shape[1]):\n",
    "        ax.text(x=j, y=i,s=cm[i, j], va='center', ha='center', size='xx-large')\n",
    " \n",
    "plt.xlabel('Predictions', fontsize=18)\n",
    "plt.ylabel('Actuals', fontsize=18)\n",
    "plt.title('Confusion Matrix Random Forest', fontsize=18)\n",
    "plt.show()\n",
    "print(cm)\n",
    "accuracy_score(Y_test2,y_pred)"
   ]
  },
  {
   "cell_type": "markdown",
   "id": "e91ae24e",
   "metadata": {},
   "source": [
    "### Cross Validation RF:"
   ]
  },
  {
   "cell_type": "code",
   "execution_count": 39,
   "id": "808fee6c",
   "metadata": {},
   "outputs": [
    {
     "name": "stdout",
     "output_type": "stream",
     "text": [
      "Accuracy: 76.87 %\n",
      "Standard Deviation: 5.36 %\n"
     ]
    }
   ],
   "source": [
    "from sklearn.model_selection import cross_val_score\n",
    "accuracies = cross_val_score(estimator = classifier2, X = X_train2, y = Y_train2, cv = 7)\n",
    "print(\"Accuracy: {:.2f} %\".format(accuracies.mean()*100))\n",
    "print(\"Standard Deviation: {:.2f} %\".format(accuracies.std()*100))"
   ]
  },
  {
   "cell_type": "markdown",
   "id": "8f39eff9",
   "metadata": {},
   "source": [
    "## Logistic Regression:"
   ]
  },
  {
   "cell_type": "code",
   "execution_count": 40,
   "id": "65e59f3d",
   "metadata": {},
   "outputs": [
    {
     "data": {
      "text/plain": [
       "LogisticRegression(random_state=0)"
      ]
     },
     "execution_count": 40,
     "metadata": {},
     "output_type": "execute_result"
    }
   ],
   "source": [
    "from sklearn.linear_model import LogisticRegression\n",
    "LR2 = LogisticRegression(random_state = 0)\n",
    "LR2.fit(X_train2, Y_train2)"
   ]
  },
  {
   "cell_type": "markdown",
   "id": "fd0ad76b",
   "metadata": {},
   "source": [
    "### Making Predictions:"
   ]
  },
  {
   "cell_type": "code",
   "execution_count": 41,
   "id": "c8c4d965",
   "metadata": {
    "scrolled": true
   },
   "outputs": [
    {
     "name": "stdout",
     "output_type": "stream",
     "text": [
      "[[0 0]\n",
      " [0 0]\n",
      " [0 0]\n",
      " [0 0]\n",
      " [0 0]\n",
      " [0 0]\n",
      " [0 0]\n",
      " [0 1]\n",
      " [0 0]\n",
      " [0 0]\n",
      " [0 0]\n",
      " [0 0]\n",
      " [0 0]\n",
      " [1 0]\n",
      " [0 0]\n",
      " [0 0]\n",
      " [1 0]\n",
      " [0 0]\n",
      " [0 0]\n",
      " [0 1]\n",
      " [0 0]\n",
      " [0 0]\n",
      " [1 0]\n",
      " [0 0]\n",
      " [0 0]\n",
      " [0 0]\n",
      " [0 0]\n",
      " [0 0]\n",
      " [0 0]\n",
      " [0 0]\n",
      " [1 1]\n",
      " [0 0]\n",
      " [0 0]\n",
      " [0 0]\n",
      " [0 0]\n",
      " [0 0]\n",
      " [0 1]\n",
      " [0 0]\n",
      " [0 0]\n",
      " [0 0]\n",
      " [0 0]\n",
      " [0 1]\n",
      " [0 0]\n",
      " [0 0]\n",
      " [0 0]\n",
      " [0 0]\n",
      " [0 0]\n",
      " [0 0]\n",
      " [0 0]\n",
      " [0 0]\n",
      " [0 0]\n",
      " [0 0]\n",
      " [0 0]\n",
      " [0 0]\n",
      " [0 1]\n",
      " [0 0]\n",
      " [0 1]\n",
      " [0 0]\n",
      " [0 0]\n",
      " [0 0]\n",
      " [0 0]\n",
      " [0 0]\n",
      " [0 0]\n",
      " [0 0]]\n"
     ]
    }
   ],
   "source": [
    "y_pred = LR2.predict(X_test2)\n",
    "print(np.concatenate((y_pred.reshape(len(y_pred),1), Y_test2.reshape(len(Y_test2),1)),1))"
   ]
  },
  {
   "cell_type": "markdown",
   "id": "1fb1c8d7",
   "metadata": {},
   "source": [
    "### Confusion Matrix:"
   ]
  },
  {
   "cell_type": "code",
   "execution_count": 42,
   "id": "72821db0",
   "metadata": {},
   "outputs": [
    {
     "data": {
      "image/png": "[encoded data removed]",
      "text/plain": [
       "<Figure size 400x400 with 1 Axes>"
      ]
     },
     "metadata": {},
     "output_type": "display_data"
    },
    {
     "name": "stdout",
     "output_type": "stream",
     "text": [
      "[[54  3]\n",
      " [ 6  1]]\n"
     ]
    },
    {
     "data": {
      "text/plain": [
       "0.859375"
      ]
     },
     "execution_count": 42,
     "metadata": {},
     "output_type": "execute_result"
    }
   ],
   "source": [
    "from sklearn.metrics import confusion_matrix, accuracy_score\n",
    "cm = confusion_matrix(Y_test2, y_pred)\n",
    "accuracy_score(Y_test2, y_pred)\n",
    "fig, ax = plt.subplots(figsize=(4, 4))\n",
    "ax.matshow(cm, cmap=plt.cm.Blues, alpha=0.3)\n",
    "for i in range(cm.shape[0]):\n",
    "    for j in range(cm.shape[1]):\n",
    "        ax.text(x=j, y=i,s=cm[i, j], va='center', ha='center', size='xx-large')\n",
    " \n",
    "plt.xlabel('Predictions', fontsize=18)\n",
    "plt.ylabel('Actuals', fontsize=18)\n",
    "plt.title('Confusion Matrix Log Regression', fontsize=18)\n",
    "plt.show()\n",
    "print(cm)\n",
    "accuracy_score(Y_test2,y_pred)"
   ]
  },
  {
   "cell_type": "markdown",
   "id": "07b51b25",
   "metadata": {},
   "source": [
    "### Cross Validation LogR:"
   ]
  },
  {
   "cell_type": "code",
   "execution_count": 43,
   "id": "6687e315",
   "metadata": {},
   "outputs": [
    {
     "name": "stdout",
     "output_type": "stream",
     "text": [
      "Accuracy: 79.59 %\n",
      "Standard Deviation: 5.53 %\n"
     ]
    }
   ],
   "source": [
    "from sklearn.model_selection import cross_val_score\n",
    "accuracies = cross_val_score(estimator = LR2, X = X_train2, y = Y_train2, cv = 7)\n",
    "print(\"Accuracy: {:.2f} %\".format(accuracies.mean()*100))\n",
    "print(\"Standard Deviation: {:.2f} %\".format(accuracies.std()*100))"
   ]
  },
  {
   "cell_type": "markdown",
   "id": "f06d15e3",
   "metadata": {},
   "source": [
    "# Part_IV"
   ]
  },
  {
   "cell_type": "markdown",
   "id": "61364ee2",
   "metadata": {},
   "source": [
    "## Implementing Classification methods to NMF Bell dataset:"
   ]
  },
  {
   "cell_type": "markdown",
   "id": "1fc6f119",
   "metadata": {},
   "source": [
    "### Retrieving X and Y data:"
   ]
  },
  {
   "cell_type": "code",
   "execution_count": 44,
   "id": "8ae7e2b3",
   "metadata": {},
   "outputs": [],
   "source": [
    "x2 = NMF_Bell.iloc[:,0:7].values\n",
    "y2 = NMF_Bell.iloc[:,10].values"
   ]
  },
  {
   "cell_type": "code",
   "execution_count": 45,
   "id": "1847a3f1",
   "metadata": {},
   "outputs": [
    {
     "data": {
      "text/plain": [
       "array([[ 0.00175464, -0.00913014,  0.02188886, ..., -0.00388073,\n",
       "        -0.00522628,  0.00544818],\n",
       "       [ 0.00662536, -0.00962327,  0.00185901, ..., -0.00323842,\n",
       "        -0.00194152,  0.00240524],\n",
       "       [ 0.02111804,  0.0140475 , -0.01249257, ...,  0.01256869,\n",
       "        -0.01694181, -0.01316488],\n",
       "       ...,\n",
       "       [-0.00684993,  0.00679051, -0.0033415 , ...,  0.03784739,\n",
       "        -0.0158631 ,  0.00617282],\n",
       "       [ 0.00722463, -0.00274768,  0.03593081, ...,  0.00916711,\n",
       "         0.02356338,  0.00259436],\n",
       "       [ 0.02600601,  0.01279644, -0.01310865, ..., -0.00515724,\n",
       "         0.00269089, -0.00172102]])"
      ]
     },
     "execution_count": 45,
     "metadata": {},
     "output_type": "execute_result"
    }
   ],
   "source": [
    "x2"
   ]
  },
  {
   "cell_type": "code",
   "execution_count": 46,
   "id": "3502884b",
   "metadata": {},
   "outputs": [
    {
     "data": {
      "text/plain": [
       "array([0, 0, 0, 0, 0, 0, 0, 0, 0, 0, 0, 0, 0, 0, 0, 0, 0, 0, 0, 0, 0, 0,\n",
       "       0, 0, 0, 0, 0, 0, 0, 0, 0, 0, 0, 0, 0, 0, 0, 0, 0, 0, 0, 0, 0, 0,\n",
       "       0, 0, 0, 0, 0, 0, 0, 0, 0, 0, 0, 0, 0, 0, 0, 0, 0, 0, 0, 0, 0, 0,\n",
       "       0, 0, 0, 0, 0, 0, 0, 0, 0, 0, 0, 0, 0, 0, 0, 0, 0, 0, 0, 0, 0, 0,\n",
       "       0, 0, 0, 0, 0, 0, 0, 1, 0, 0, 0, 0, 0, 0, 0, 0, 0, 0, 0, 0, 0, 0,\n",
       "       0, 0, 0, 0, 0, 0, 0, 0, 0, 0, 0, 0, 0, 0, 0, 0, 0, 1, 1, 0, 0, 0,\n",
       "       0, 0, 0, 0, 0, 0, 0, 0, 0, 0, 0, 1, 0, 0, 0, 1, 1, 1, 0, 0, 0, 1,\n",
       "       0, 0, 0, 0, 0, 0, 0, 0, 0, 0, 0, 0, 0, 0, 0, 0, 0, 0, 0, 0, 1, 1,\n",
       "       1, 0, 0, 0, 1, 1, 1, 1, 1, 1, 1, 0, 1, 1, 1, 1, 1, 1, 1, 1, 0, 1,\n",
       "       1, 0, 0, 1, 1, 0, 1, 1, 1, 0, 1, 1, 1], dtype=int64)"
      ]
     },
     "execution_count": 46,
     "metadata": {},
     "output_type": "execute_result"
    }
   ],
   "source": [
    "y2"
   ]
  },
  {
   "cell_type": "markdown",
   "id": "1b14c41c",
   "metadata": {},
   "source": [
    "### Splitting Data:"
   ]
  },
  {
   "cell_type": "code",
   "execution_count": 47,
   "id": "2ede9885",
   "metadata": {},
   "outputs": [
    {
     "name": "stdout",
     "output_type": "stream",
     "text": [
      "[[-0.00681658 -0.01685144  0.0047427  ... -0.01831254 -0.02779972\n",
      "  -0.00989628]\n",
      " [ 0.02030357  0.01254545 -0.00619829 ...  0.01130129 -0.00309373\n",
      "  -0.0148843 ]\n",
      " [ 0.01315015  0.0008913   0.00915961 ...  0.00730116  0.01097421\n",
      "  -0.00927236]\n",
      " ...\n",
      " [-0.00969255 -0.01721032 -0.00329553 ... -0.01149391 -0.0138012\n",
      "  -0.00460129]\n",
      " [ 0.01142096  0.00359465  0.02275893 ...  0.01729551  0.02440959\n",
      "  -0.02189787]\n",
      " [-0.02638139  0.03142132  0.00080857 ... -0.02189589  0.0118307\n",
      "   0.00541938]]\n",
      "[0 0 0 0 0 0 0 0 0 0 0 0 0 0 0 0 0 0 1 1 0 0 0 0 1 1 0 0 1 1 0 0 0 0 0 0 0\n",
      " 0 0 0 0 1 1 0 1 0 0 0 0 0 1 0 0 0 0 0 1 0 1 0 0 0 0 0 1 0 0 0 0 0 1 0 0 0\n",
      " 0 0 0 0 0 1 0 0 0 0 0 0 0 0 0 0 0 0 1 0 0 0 0 0 1 0 0 0 0 0 0 1 1 1 0 0 0\n",
      " 1 1 0 0 0 0 1 0 0 1 0 0 0 0 0 0 1 1 0 0 1 0 0 0 0 0 0 0 0 0 1 0 1 0 0 0]\n"
     ]
    },
    {
     "data": {
      "text/plain": [
       "(None, None)"
      ]
     },
     "execution_count": 47,
     "metadata": {},
     "output_type": "execute_result"
    }
   ],
   "source": [
    "from sklearn.model_selection import train_test_split\n",
    "\n",
    "X_train3, X_test3, Y_train3, Y_test3 = train_test_split(x2, y2, test_size = 0.3, random_state = 0)\n",
    "\n",
    "print(X_train3),print(Y_train3)"
   ]
  },
  {
   "cell_type": "markdown",
   "id": "554fb072",
   "metadata": {},
   "source": [
    "### Scaling the features:"
   ]
  },
  {
   "cell_type": "code",
   "execution_count": 48,
   "id": "76f05280",
   "metadata": {},
   "outputs": [],
   "source": [
    "from sklearn.preprocessing import StandardScaler\n",
    "sc = StandardScaler()\n",
    "X_train3 = sc.fit_transform(X_train3)\n",
    "X_test3 = sc.transform(X_test3)"
   ]
  },
  {
   "cell_type": "markdown",
   "id": "829a7866",
   "metadata": {},
   "source": [
    "## Random Forest Classification:"
   ]
  },
  {
   "cell_type": "code",
   "execution_count": 49,
   "id": "42e18beb",
   "metadata": {},
   "outputs": [
    {
     "data": {
      "text/plain": [
       "RandomForestClassifier(criterion='entropy', n_estimators=10, random_state=0)"
      ]
     },
     "execution_count": 49,
     "metadata": {},
     "output_type": "execute_result"
    }
   ],
   "source": [
    "from sklearn.ensemble import RandomForestClassifier\n",
    "classifier3 = RandomForestClassifier(n_estimators = 10, criterion = 'entropy', random_state = 0)\n",
    "classifier3.fit(X_train3, Y_train3)"
   ]
  },
  {
   "cell_type": "markdown",
   "id": "60391c64",
   "metadata": {},
   "source": [
    "### Making Predictions:"
   ]
  },
  {
   "cell_type": "code",
   "execution_count": 50,
   "id": "a04d7a0e",
   "metadata": {
    "scrolled": true
   },
   "outputs": [
    {
     "name": "stdout",
     "output_type": "stream",
     "text": [
      "[[0 0]\n",
      " [0 0]\n",
      " [0 0]\n",
      " [0 0]\n",
      " [0 0]\n",
      " [0 0]\n",
      " [1 0]\n",
      " [0 1]\n",
      " [0 0]\n",
      " [0 0]\n",
      " [0 0]\n",
      " [0 0]\n",
      " [1 0]\n",
      " [0 0]\n",
      " [0 0]\n",
      " [0 0]\n",
      " [0 0]\n",
      " [0 0]\n",
      " [0 0]\n",
      " [0 1]\n",
      " [0 0]\n",
      " [0 0]\n",
      " [1 0]\n",
      " [1 0]\n",
      " [0 0]\n",
      " [0 0]\n",
      " [0 0]\n",
      " [0 0]\n",
      " [0 0]\n",
      " [0 0]\n",
      " [0 1]\n",
      " [0 0]\n",
      " [0 0]\n",
      " [0 0]\n",
      " [0 0]\n",
      " [0 0]\n",
      " [0 1]\n",
      " [0 0]\n",
      " [0 0]\n",
      " [0 0]\n",
      " [0 0]\n",
      " [0 1]\n",
      " [0 0]\n",
      " [0 0]\n",
      " [0 0]\n",
      " [0 0]\n",
      " [0 0]\n",
      " [0 0]\n",
      " [0 0]\n",
      " [0 0]\n",
      " [0 0]\n",
      " [0 0]\n",
      " [0 0]\n",
      " [0 0]\n",
      " [0 1]\n",
      " [0 0]\n",
      " [0 1]\n",
      " [0 0]\n",
      " [0 0]\n",
      " [0 0]\n",
      " [0 0]\n",
      " [0 0]\n",
      " [0 0]\n",
      " [0 0]]\n"
     ]
    }
   ],
   "source": [
    "y_pred = classifier3.predict(X_test3)\n",
    "print(np.concatenate((y_pred.reshape(len(y_pred),1), Y_test3.reshape(len(Y_test3),1)),1))"
   ]
  },
  {
   "cell_type": "markdown",
   "id": "597c42cc",
   "metadata": {},
   "source": [
    "### Confusion Matrix:"
   ]
  },
  {
   "cell_type": "code",
   "execution_count": 51,
   "id": "82b41702",
   "metadata": {},
   "outputs": [
    {
     "data": {
      "image/png": "[encoded data removed]",
      "text/plain": [
       "<Figure size 400x400 with 1 Axes>"
      ]
     },
     "metadata": {},
     "output_type": "display_data"
    },
    {
     "name": "stdout",
     "output_type": "stream",
     "text": [
      "[[53  4]\n",
      " [ 7  0]]\n"
     ]
    },
    {
     "data": {
      "text/plain": [
       "0.828125"
      ]
     },
     "execution_count": 51,
     "metadata": {},
     "output_type": "execute_result"
    }
   ],
   "source": [
    "from sklearn.metrics import confusion_matrix, accuracy_score\n",
    "cm = confusion_matrix(Y_test3, y_pred)\n",
    "accuracy_score(Y_test3, y_pred)\n",
    "fig, ax = plt.subplots(figsize=(4, 4))\n",
    "ax.matshow(cm, cmap=plt.cm.Blues, alpha=0.3)\n",
    "for i in range(cm.shape[0]):\n",
    "    for j in range(cm.shape[1]):\n",
    "        ax.text(x=j, y=i,s=cm[i, j], va='center', ha='center', size='xx-large')\n",
    " \n",
    "plt.xlabel('Predictions', fontsize=18)\n",
    "plt.ylabel('Actuals', fontsize=18)\n",
    "plt.title('Confusion Matrix Random Forest', fontsize=18)\n",
    "plt.show()\n",
    "print(cm)\n",
    "accuracy_score(Y_test3,y_pred)"
   ]
  },
  {
   "cell_type": "markdown",
   "id": "3eb7cd0f",
   "metadata": {},
   "source": [
    "### Cross Validation RF:"
   ]
  },
  {
   "cell_type": "code",
   "execution_count": 52,
   "id": "d203e3ca",
   "metadata": {},
   "outputs": [
    {
     "name": "stdout",
     "output_type": "stream",
     "text": [
      "Accuracy: 78.23 %\n",
      "Standard Deviation: 3.47 %\n"
     ]
    }
   ],
   "source": [
    "from sklearn.model_selection import cross_val_score\n",
    "accuracies = cross_val_score(estimator = classifier3, X = X_train3, y = Y_train3, cv = 7)\n",
    "print(\"Accuracy: {:.2f} %\".format(accuracies.mean()*100))\n",
    "print(\"Standard Deviation: {:.2f} %\".format(accuracies.std()*100))"
   ]
  },
  {
   "cell_type": "markdown",
   "id": "dfd87c2d",
   "metadata": {},
   "source": [
    "## Logistic Regression:"
   ]
  },
  {
   "cell_type": "code",
   "execution_count": 53,
   "id": "80361545",
   "metadata": {},
   "outputs": [
    {
     "data": {
      "text/plain": [
       "LogisticRegression(random_state=0)"
      ]
     },
     "execution_count": 53,
     "metadata": {},
     "output_type": "execute_result"
    }
   ],
   "source": [
    "from sklearn.linear_model import LogisticRegression\n",
    "LR3 = LogisticRegression(random_state = 0)\n",
    "LR3.fit(X_train3, Y_train3)"
   ]
  },
  {
   "cell_type": "markdown",
   "id": "d492ea71",
   "metadata": {},
   "source": [
    "### Making Predictions:"
   ]
  },
  {
   "cell_type": "code",
   "execution_count": 54,
   "id": "0f30baee",
   "metadata": {
    "scrolled": true
   },
   "outputs": [
    {
     "name": "stdout",
     "output_type": "stream",
     "text": [
      "[[0 0]\n",
      " [0 0]\n",
      " [0 0]\n",
      " [0 0]\n",
      " [0 0]\n",
      " [0 0]\n",
      " [1 0]\n",
      " [1 1]\n",
      " [0 0]\n",
      " [0 0]\n",
      " [0 0]\n",
      " [0 0]\n",
      " [0 0]\n",
      " [0 0]\n",
      " [0 0]\n",
      " [0 0]\n",
      " [0 0]\n",
      " [0 0]\n",
      " [0 0]\n",
      " [0 1]\n",
      " [0 0]\n",
      " [0 0]\n",
      " [0 0]\n",
      " [1 0]\n",
      " [0 0]\n",
      " [0 0]\n",
      " [0 0]\n",
      " [0 0]\n",
      " [0 0]\n",
      " [0 0]\n",
      " [0 1]\n",
      " [1 0]\n",
      " [0 0]\n",
      " [0 0]\n",
      " [0 0]\n",
      " [0 0]\n",
      " [1 1]\n",
      " [0 0]\n",
      " [0 0]\n",
      " [0 0]\n",
      " [1 0]\n",
      " [0 1]\n",
      " [0 0]\n",
      " [0 0]\n",
      " [0 0]\n",
      " [0 0]\n",
      " [0 0]\n",
      " [0 0]\n",
      " [0 0]\n",
      " [0 0]\n",
      " [0 0]\n",
      " [0 0]\n",
      " [0 0]\n",
      " [0 0]\n",
      " [0 1]\n",
      " [0 0]\n",
      " [0 1]\n",
      " [0 0]\n",
      " [0 0]\n",
      " [0 0]\n",
      " [0 0]\n",
      " [0 0]\n",
      " [0 0]\n",
      " [0 0]]\n"
     ]
    }
   ],
   "source": [
    "y_pred = LR3.predict(X_test3)\n",
    "print(np.concatenate((y_pred.reshape(len(y_pred),1), Y_test3.reshape(len(Y_test3),1)),1))"
   ]
  },
  {
   "cell_type": "markdown",
   "id": "60789e4c",
   "metadata": {},
   "source": [
    "### Confusion Matrix:"
   ]
  },
  {
   "cell_type": "code",
   "execution_count": 55,
   "id": "8715469f",
   "metadata": {},
   "outputs": [
    {
     "data": {
      "image/png": "[encoded data removed]",
      "text/plain": [
       "<Figure size 400x400 with 1 Axes>"
      ]
     },
     "metadata": {},
     "output_type": "display_data"
    },
    {
     "name": "stdout",
     "output_type": "stream",
     "text": [
      "[[53  4]\n",
      " [ 5  2]]\n"
     ]
    },
    {
     "data": {
      "text/plain": [
       "0.859375"
      ]
     },
     "execution_count": 55,
     "metadata": {},
     "output_type": "execute_result"
    }
   ],
   "source": [
    "from sklearn.metrics import confusion_matrix, accuracy_score\n",
    "cm = confusion_matrix(Y_test3, y_pred)\n",
    "accuracy_score(Y_test3, y_pred)\n",
    "fig, ax = plt.subplots(figsize=(4, 4))\n",
    "ax.matshow(cm, cmap=plt.cm.Blues, alpha=0.3)\n",
    "for i in range(cm.shape[0]):\n",
    "    for j in range(cm.shape[1]):\n",
    "        ax.text(x=j, y=i,s=cm[i, j], va='center', ha='center', size='xx-large')\n",
    " \n",
    "plt.xlabel('Predictions', fontsize=18)\n",
    "plt.ylabel('Actuals', fontsize=18)\n",
    "plt.title('Confusion Matrix Log Regression', fontsize=18)\n",
    "plt.show()\n",
    "print(cm)\n",
    "accuracy_score(Y_test3,y_pred)"
   ]
  },
  {
   "cell_type": "markdown",
   "id": "6d09e037",
   "metadata": {},
   "source": [
    "### Cross Validation LogR:"
   ]
  },
  {
   "cell_type": "code",
   "execution_count": 56,
   "id": "3e0e33ed",
   "metadata": {},
   "outputs": [
    {
     "name": "stdout",
     "output_type": "stream",
     "text": [
      "Accuracy: 80.27 %\n",
      "Standard Deviation: 4.71 %\n"
     ]
    }
   ],
   "source": [
    "from sklearn.model_selection import cross_val_score\n",
    "accuracies = cross_val_score(estimator = LR3, X = X_train3, y = Y_train3, cv = 7)\n",
    "print(\"Accuracy: {:.2f} %\".format(accuracies.mean()*100))\n",
    "print(\"Standard Deviation: {:.2f} %\".format(accuracies.std()*100))"
   ]
  },
  {
   "cell_type": "markdown",
   "id": "86fe92ad",
   "metadata": {},
   "source": [
    "# Part_V"
   ]
  },
  {
   "cell_type": "markdown",
   "id": "5399ae2c",
   "metadata": {},
   "source": [
    "## Implementing Classification methods to NMF Bell dataset + clinical features:"
   ]
  },
  {
   "cell_type": "markdown",
   "id": "32a8137b",
   "metadata": {},
   "source": [
    "### New X value + Splitting data:"
   ]
  },
  {
   "cell_type": "code",
   "execution_count": 57,
   "id": "4aa62e09",
   "metadata": {},
   "outputs": [
    {
     "name": "stdout",
     "output_type": "stream",
     "text": [
      "[[-6.81657831e-03 -1.68514389e-02  4.74269995e-03 ...  7.70000000e+01\n",
      "   2.00000000e+00  1.00000000e+00]\n",
      " [ 2.03035700e-02  1.25454514e-02 -6.19829225e-03 ...  5.30000000e+01\n",
      "   2.00000000e+00  1.00000000e+00]\n",
      " [ 1.31501471e-02  8.91301221e-04  9.15961119e-03 ...  6.90000000e+01\n",
      "   3.00000000e+00  1.00000000e+00]\n",
      " ...\n",
      " [-9.69255058e-03 -1.72103189e-02 -3.29552870e-03 ...  5.50000000e+01\n",
      "   1.00000000e+00  2.00000000e+00]\n",
      " [ 1.14209560e-02  3.59464730e-03  2.27589296e-02 ...  7.60000000e+01\n",
      "   1.00000000e+00  2.00000000e+00]\n",
      " [-2.63813861e-02  3.14213223e-02  8.08571017e-04 ...  7.00000000e+01\n",
      "   0.00000000e+00  2.00000000e+00]]\n",
      "[0 0 0 0 0 0 0 0 0 0 0 0 0 0 0 0 0 0 1 1 0 0 0 0 1 1 0 0 1 1 0 0 0 0 0 0 0\n",
      " 0 0 0 0 1 1 0 1 0 0 0 0 0 1 0 0 0 0 0 1 0 1 0 0 0 0 0 1 0 0 0 0 0 1 0 0 0\n",
      " 0 0 0 0 0 1 0 0 0 0 0 0 0 0 0 0 0 0 1 0 0 0 0 0 1 0 0 0 0 0 0 1 1 1 0 0 0\n",
      " 1 1 0 0 0 0 1 0 0 1 0 0 0 0 0 0 1 1 0 0 1 0 0 0 0 0 0 0 0 0 1 0 1 0 0 0]\n"
     ]
    },
    {
     "data": {
      "text/plain": [
       "(None, None)"
      ]
     },
     "execution_count": 57,
     "metadata": {},
     "output_type": "execute_result"
    }
   ],
   "source": [
    "x2B = NMF_Bell.iloc[:,0:10].values\n",
    "\n",
    "from sklearn.model_selection import train_test_split\n",
    "\n",
    "X_train4, X_test4, Y_train4, Y_test4 = train_test_split(x2B, y2, test_size = 0.3, random_state = 0)\n",
    "\n",
    "print(X_train4),print(Y_train4)"
   ]
  },
  {
   "cell_type": "markdown",
   "id": "d66f2eff",
   "metadata": {},
   "source": [
    "### Rescaling data:"
   ]
  },
  {
   "cell_type": "code",
   "execution_count": 58,
   "id": "074c4b0d",
   "metadata": {},
   "outputs": [],
   "source": [
    "from sklearn.preprocessing import StandardScaler\n",
    "sc = StandardScaler()\n",
    "X_train4 = sc.fit_transform(X_train4)\n",
    "X_test4 = sc.transform(X_test4)"
   ]
  },
  {
   "cell_type": "markdown",
   "id": "8c722df3",
   "metadata": {},
   "source": [
    "## Random forest + predictions:"
   ]
  },
  {
   "cell_type": "code",
   "execution_count": 59,
   "id": "4a2aa362",
   "metadata": {
    "scrolled": true
   },
   "outputs": [
    {
     "name": "stdout",
     "output_type": "stream",
     "text": [
      "[[0 1]\n",
      " [0 0]\n",
      " [0 0]\n",
      " [0 1]\n",
      " [0 1]\n",
      " [0 0]\n",
      " [0 1]\n",
      " [0 0]\n",
      " [0 0]\n",
      " [0 0]\n",
      " [0 0]\n",
      " [0 0]\n",
      " [1 0]\n",
      " [0 0]\n",
      " [0 0]\n",
      " [0 0]\n",
      " [0 0]\n",
      " [0 0]\n",
      " [0 0]\n",
      " [0 0]\n",
      " [0 0]\n",
      " [0 1]\n",
      " [1 0]\n",
      " [0 1]\n",
      " [0 1]\n",
      " [0 0]\n",
      " [0 1]\n",
      " [1 0]\n",
      " [0 0]\n",
      " [0 0]\n",
      " [0 0]\n",
      " [0 0]\n",
      " [0 0]\n",
      " [0 0]\n",
      " [0 0]\n",
      " [0 0]\n",
      " [0 0]\n",
      " [0 0]\n",
      " [0 0]\n",
      " [0 1]\n",
      " [0 0]\n",
      " [1 0]\n",
      " [1 0]\n",
      " [0 0]\n",
      " [0 0]\n",
      " [0 0]\n",
      " [0 0]\n",
      " [0 0]\n",
      " [0 0]\n",
      " [0 0]\n",
      " [0 0]\n",
      " [0 0]\n",
      " [0 1]\n",
      " [0 0]\n",
      " [0 0]\n",
      " [0 0]\n",
      " [0 0]\n",
      " [0 0]\n",
      " [1 0]\n",
      " [0 0]\n",
      " [0 0]\n",
      " [0 0]\n",
      " [0 0]\n",
      " [0 1]]\n"
     ]
    }
   ],
   "source": [
    "from sklearn.ensemble import RandomForestClassifier\n",
    "classifier4 = RandomForestClassifier(n_estimators = 10, criterion = 'entropy', random_state = 0)\n",
    "classifier4.fit(X_train4, Y_train4)\n",
    "\n",
    "y_pred = classifier4.predict(X_test4)\n",
    "print(np.concatenate((y_pred.reshape(len(y_pred),1), Y_test.reshape(len(Y_test4),1)),1))"
   ]
  },
  {
   "cell_type": "markdown",
   "id": "0fff9ea1",
   "metadata": {},
   "source": [
    "## Confusion Matrix:"
   ]
  },
  {
   "cell_type": "code",
   "execution_count": 60,
   "id": "636a9e1a",
   "metadata": {},
   "outputs": [
    {
     "data": {
      "image/png": "[encoded data removed]",
      "text/plain": [
       "<Figure size 400x400 with 1 Axes>"
      ]
     },
     "metadata": {},
     "output_type": "display_data"
    },
    {
     "name": "stdout",
     "output_type": "stream",
     "text": [
      "[[52  5]\n",
      " [ 6  1]]\n"
     ]
    },
    {
     "data": {
      "text/plain": [
       "0.828125"
      ]
     },
     "execution_count": 60,
     "metadata": {},
     "output_type": "execute_result"
    }
   ],
   "source": [
    "from sklearn.metrics import confusion_matrix, accuracy_score\n",
    "cm = confusion_matrix(Y_test4, y_pred)\n",
    "accuracy_score(Y_test4, y_pred)\n",
    "fig, ax = plt.subplots(figsize=(4, 4))\n",
    "ax.matshow(cm, cmap=plt.cm.Blues, alpha=0.3)\n",
    "for i in range(cm.shape[0]):\n",
    "    for j in range(cm.shape[1]):\n",
    "        ax.text(x=j, y=i,s=cm[i, j], va='center', ha='center', size='xx-large')\n",
    " \n",
    "plt.xlabel('Predictions', fontsize=18)\n",
    "plt.ylabel('Actuals', fontsize=18)\n",
    "plt.title('Confusion Matrix Random Forest', fontsize=18)\n",
    "plt.show()\n",
    "print(cm)\n",
    "accuracy_score(Y_test4,y_pred)"
   ]
  },
  {
   "cell_type": "markdown",
   "id": "240b69e4",
   "metadata": {},
   "source": [
    "### Cross validation RF:"
   ]
  },
  {
   "cell_type": "code",
   "execution_count": 61,
   "id": "0d63b7fd",
   "metadata": {},
   "outputs": [
    {
     "name": "stdout",
     "output_type": "stream",
     "text": [
      "Accuracy: 79.59 %\n",
      "Standard Deviation: 4.91 %\n"
     ]
    }
   ],
   "source": [
    "from sklearn.model_selection import cross_val_score\n",
    "accuracies = cross_val_score(estimator = classifier4, X = X_train4, y = Y_train4, cv = 7)\n",
    "print(\"Accuracy: {:.2f} %\".format(accuracies.mean()*100))\n",
    "print(\"Standard Deviation: {:.2f} %\".format(accuracies.std()*100))"
   ]
  },
  {
   "cell_type": "markdown",
   "id": "48265b5d",
   "metadata": {},
   "source": [
    "## Logistic Regression + predictions:"
   ]
  },
  {
   "cell_type": "code",
   "execution_count": 62,
   "id": "5e3a7913",
   "metadata": {
    "scrolled": true
   },
   "outputs": [
    {
     "name": "stdout",
     "output_type": "stream",
     "text": [
      "[[0 0]\n",
      " [0 0]\n",
      " [1 0]\n",
      " [0 0]\n",
      " [0 0]\n",
      " [0 0]\n",
      " [0 0]\n",
      " [1 1]\n",
      " [0 0]\n",
      " [0 0]\n",
      " [0 0]\n",
      " [0 0]\n",
      " [0 0]\n",
      " [1 0]\n",
      " [0 0]\n",
      " [0 0]\n",
      " [1 0]\n",
      " [0 0]\n",
      " [0 0]\n",
      " [0 1]\n",
      " [0 0]\n",
      " [0 0]\n",
      " [1 0]\n",
      " [0 0]\n",
      " [0 0]\n",
      " [0 0]\n",
      " [0 0]\n",
      " [0 0]\n",
      " [0 0]\n",
      " [0 0]\n",
      " [1 1]\n",
      " [1 0]\n",
      " [0 0]\n",
      " [0 0]\n",
      " [0 0]\n",
      " [0 0]\n",
      " [1 1]\n",
      " [0 0]\n",
      " [0 0]\n",
      " [0 0]\n",
      " [0 0]\n",
      " [0 1]\n",
      " [0 0]\n",
      " [0 0]\n",
      " [0 0]\n",
      " [0 0]\n",
      " [0 0]\n",
      " [0 0]\n",
      " [0 0]\n",
      " [0 0]\n",
      " [0 0]\n",
      " [0 0]\n",
      " [0 0]\n",
      " [0 0]\n",
      " [0 1]\n",
      " [0 0]\n",
      " [0 1]\n",
      " [0 0]\n",
      " [0 0]\n",
      " [0 0]\n",
      " [0 0]\n",
      " [0 0]\n",
      " [0 0]\n",
      " [0 0]]\n"
     ]
    }
   ],
   "source": [
    "from sklearn.linear_model import LogisticRegression\n",
    "LR4 = LogisticRegression(random_state = 0)\n",
    "LR4.fit(X_train4, Y_train4)\n",
    "\n",
    "y_pred = LR4.predict(X_test4)\n",
    "print(np.concatenate((y_pred.reshape(len(y_pred),1), Y_test4.reshape(len(Y_test4),1)),1))"
   ]
  },
  {
   "cell_type": "markdown",
   "id": "13884b3c",
   "metadata": {},
   "source": [
    "## Confusion Matrix:"
   ]
  },
  {
   "cell_type": "code",
   "execution_count": 63,
   "id": "e341bc24",
   "metadata": {},
   "outputs": [
    {
     "data": {
      "image/png": "[encoded data removed]",
      "text/plain": [
       "<Figure size 400x400 with 1 Axes>"
      ]
     },
     "metadata": {},
     "output_type": "display_data"
    },
    {
     "name": "stdout",
     "output_type": "stream",
     "text": [
      "[[52  5]\n",
      " [ 4  3]]\n"
     ]
    },
    {
     "data": {
      "text/plain": [
       "0.859375"
      ]
     },
     "execution_count": 63,
     "metadata": {},
     "output_type": "execute_result"
    }
   ],
   "source": [
    "from sklearn.metrics import confusion_matrix, accuracy_score\n",
    "cm = confusion_matrix(Y_test4, y_pred)\n",
    "accuracy_score(Y_test4, y_pred)\n",
    "fig, ax = plt.subplots(figsize=(4, 4))\n",
    "ax.matshow(cm, cmap=plt.cm.Blues, alpha=0.3)\n",
    "for i in range(cm.shape[0]):\n",
    "    for j in range(cm.shape[1]):\n",
    "        ax.text(x=j, y=i,s=cm[i, j], va='center', ha='center', size='xx-large')\n",
    " \n",
    "plt.xlabel('Predictions', fontsize=18)\n",
    "plt.ylabel('Actuals', fontsize=18)\n",
    "plt.title('Confusion Matrix Log Regression', fontsize=18)\n",
    "plt.show()\n",
    "print(cm)\n",
    "accuracy_score(Y_test4,y_pred)"
   ]
  },
  {
   "cell_type": "markdown",
   "id": "9fdbab66",
   "metadata": {},
   "source": [
    "### Cross Validation LogR:"
   ]
  },
  {
   "cell_type": "code",
   "execution_count": 64,
   "id": "6e2f391d",
   "metadata": {},
   "outputs": [
    {
     "name": "stdout",
     "output_type": "stream",
     "text": [
      "Accuracy: 81.63 %\n",
      "Standard Deviation: 3.97 %\n"
     ]
    }
   ],
   "source": [
    "from sklearn.model_selection import cross_val_score\n",
    "accuracies = cross_val_score(estimator = LR4, X = X_train4, y = Y_train4, cv = 7)\n",
    "print(\"Accuracy: {:.2f} %\".format(accuracies.mean()*100))\n",
    "print(\"Standard Deviation: {:.2f} %\".format(accuracies.std()*100))"
   ]
  },
  {
   "cell_type": "markdown",
   "id": "314229bf",
   "metadata": {},
   "source": [
    "# Part_VI"
   ]
  },
  {
   "cell_type": "markdown",
   "id": "cb14617d",
   "metadata": {},
   "source": [
    "## Implementing Classification methods to Deep NMF Gaussian dataset:"
   ]
  },
  {
   "cell_type": "markdown",
   "id": "e2988342",
   "metadata": {},
   "source": [
    "## Retrieving X and Y values and splitting data:"
   ]
  },
  {
   "cell_type": "code",
   "execution_count": 65,
   "id": "0db3fb59",
   "metadata": {},
   "outputs": [
    {
     "name": "stdout",
     "output_type": "stream",
     "text": [
      "[[ 0.01276098 -0.00654236 -0.01094393 ...  0.03725767 -0.02293802\n",
      "  -0.0006244 ]\n",
      " [-0.02468633  0.01959967 -0.01549247 ... -0.01290012 -0.00639747\n",
      "  -0.03214972]\n",
      " [ 0.00290686 -0.01521892 -0.00027318 ... -0.00268998 -0.0100957\n",
      "  -0.0059029 ]\n",
      " ...\n",
      " [ 0.00743866 -0.01395479 -0.01025092 ...  0.0059302  -0.00384299\n",
      "  -0.00202214]\n",
      " [ 0.00718862 -0.00993322  0.00683487 ...  0.01804857  0.02140115\n",
      "   0.01346947]\n",
      " [-0.02401172  0.01818553 -0.0132547  ...  0.00870641  0.0051208\n",
      "   0.05371967]]\n",
      "[0 0 0 0 0 0 0 0 0 0 0 0 0 0 0 0 0 0 1 1 0 0 0 0 1 1 0 0 1 1 0 0 0 0 0 0 0\n",
      " 0 0 0 0 1 1 0 1 0 0 0 0 0 1 0 0 0 0 0 1 0 1 0 0 0 0 0 1 0 0 0 0 0 1 0 0 0\n",
      " 0 0 0 0 0 1 0 0 0 0 0 0 0 0 0 0 0 0 1 0 0 0 0 0 1 0 0 0 0 0 0 1 1 1 0 0 0\n",
      " 1 1 0 0 0 0 1 0 0 1 0 0 0 0 0 0 1 1 0 0 1 0 0 0 0 0 0 0 0 0 1 0 1 0 0 0]\n"
     ]
    },
    {
     "data": {
      "text/plain": [
       "(None, None)"
      ]
     },
     "execution_count": 65,
     "metadata": {},
     "output_type": "execute_result"
    }
   ],
   "source": [
    "x3 = Deep_NMFGauss.iloc[:,0:7].values\n",
    "y3 = Deep_NMFGauss.iloc[:,10].values\n",
    "\n",
    "from sklearn.model_selection import train_test_split\n",
    "\n",
    "X_train5, X_test5, Y_train5, Y_test5 = train_test_split(x3, y3, test_size = 0.3, random_state = 0)\n",
    "\n",
    "print(X_train5),print(Y_train5)"
   ]
  },
  {
   "cell_type": "markdown",
   "id": "8aa2738d",
   "metadata": {},
   "source": [
    "## Rescaling data:"
   ]
  },
  {
   "cell_type": "code",
   "execution_count": 66,
   "id": "fcd4523a",
   "metadata": {},
   "outputs": [],
   "source": [
    "from sklearn.preprocessing import StandardScaler\n",
    "sc = StandardScaler()\n",
    "X_train5 = sc.fit_transform(X_train5)\n",
    "X_test5 = sc.transform(X_test5)"
   ]
  },
  {
   "cell_type": "markdown",
   "id": "845a1de7",
   "metadata": {},
   "source": [
    "## Random Forest + Prediction:"
   ]
  },
  {
   "cell_type": "code",
   "execution_count": 67,
   "id": "15701413",
   "metadata": {
    "scrolled": true
   },
   "outputs": [
    {
     "name": "stdout",
     "output_type": "stream",
     "text": [
      "[[0 0]\n",
      " [0 0]\n",
      " [0 0]\n",
      " [0 0]\n",
      " [0 0]\n",
      " [1 0]\n",
      " [0 0]\n",
      " [0 1]\n",
      " [0 0]\n",
      " [0 0]\n",
      " [0 0]\n",
      " [0 0]\n",
      " [0 0]\n",
      " [0 0]\n",
      " [0 0]\n",
      " [0 0]\n",
      " [0 0]\n",
      " [0 0]\n",
      " [0 0]\n",
      " [0 1]\n",
      " [0 0]\n",
      " [0 0]\n",
      " [0 0]\n",
      " [1 0]\n",
      " [0 0]\n",
      " [0 0]\n",
      " [0 0]\n",
      " [0 0]\n",
      " [0 0]\n",
      " [0 0]\n",
      " [0 1]\n",
      " [1 0]\n",
      " [0 0]\n",
      " [0 0]\n",
      " [0 0]\n",
      " [0 0]\n",
      " [0 1]\n",
      " [0 0]\n",
      " [0 0]\n",
      " [0 0]\n",
      " [1 0]\n",
      " [0 1]\n",
      " [0 0]\n",
      " [0 0]\n",
      " [0 0]\n",
      " [0 0]\n",
      " [0 0]\n",
      " [0 0]\n",
      " [0 0]\n",
      " [0 0]\n",
      " [0 0]\n",
      " [0 0]\n",
      " [0 0]\n",
      " [0 0]\n",
      " [0 1]\n",
      " [0 0]\n",
      " [0 1]\n",
      " [0 0]\n",
      " [0 0]\n",
      " [0 0]\n",
      " [1 0]\n",
      " [0 0]\n",
      " [0 0]\n",
      " [0 0]]\n"
     ]
    }
   ],
   "source": [
    "from sklearn.ensemble import RandomForestClassifier\n",
    "classifier5 = RandomForestClassifier(n_estimators = 10, criterion = 'entropy', random_state = 0)\n",
    "classifier5.fit(X_train5, Y_train5)\n",
    "\n",
    "y_pred = classifier5.predict(X_test5)\n",
    "print(np.concatenate((y_pred.reshape(len(y_pred),1), Y_test5.reshape(len(Y_test5),1)),1))"
   ]
  },
  {
   "cell_type": "markdown",
   "id": "05cd487f",
   "metadata": {},
   "source": [
    "## Confusion Matrix:"
   ]
  },
  {
   "cell_type": "code",
   "execution_count": 68,
   "id": "c2df5c11",
   "metadata": {},
   "outputs": [
    {
     "data": {
      "image/png": "[encoded data removed]",
      "text/plain": [
       "<Figure size 400x400 with 1 Axes>"
      ]
     },
     "metadata": {},
     "output_type": "display_data"
    },
    {
     "name": "stdout",
     "output_type": "stream",
     "text": [
      "[[52  5]\n",
      " [ 7  0]]\n"
     ]
    },
    {
     "data": {
      "text/plain": [
       "0.8125"
      ]
     },
     "execution_count": 68,
     "metadata": {},
     "output_type": "execute_result"
    }
   ],
   "source": [
    "from sklearn.metrics import confusion_matrix, accuracy_score\n",
    "cm = confusion_matrix(Y_test5, y_pred)\n",
    "accuracy_score(Y_test5, y_pred)\n",
    "fig, ax = plt.subplots(figsize=(4, 4))\n",
    "ax.matshow(cm, cmap=plt.cm.Blues, alpha=0.3)\n",
    "for i in range(cm.shape[0]):\n",
    "    for j in range(cm.shape[1]):\n",
    "        ax.text(x=j, y=i,s=cm[i, j], va='center', ha='center', size='xx-large')\n",
    " \n",
    "plt.xlabel('Predictions', fontsize=18)\n",
    "plt.ylabel('Actuals', fontsize=18)\n",
    "plt.title('Confusion Matrix Random Forest', fontsize=18)\n",
    "plt.show()\n",
    "print(cm)\n",
    "accuracy_score(Y_test5,y_pred)"
   ]
  },
  {
   "cell_type": "markdown",
   "id": "b9610385",
   "metadata": {},
   "source": [
    "### Cross validation RF:"
   ]
  },
  {
   "cell_type": "code",
   "execution_count": 69,
   "id": "a39f6d92",
   "metadata": {},
   "outputs": [
    {
     "name": "stdout",
     "output_type": "stream",
     "text": [
      "Accuracy: 78.91 %\n",
      "Standard Deviation: 5.61 %\n"
     ]
    }
   ],
   "source": [
    "from sklearn.model_selection import cross_val_score\n",
    "accuracies = cross_val_score(estimator = classifier5, X = X_train5, y = Y_train5, cv = 7)\n",
    "print(\"Accuracy: {:.2f} %\".format(accuracies.mean()*100))\n",
    "print(\"Standard Deviation: {:.2f} %\".format(accuracies.std()*100))"
   ]
  },
  {
   "cell_type": "markdown",
   "id": "ec02c047",
   "metadata": {},
   "source": [
    "## Logistic Regression + Predictions:"
   ]
  },
  {
   "cell_type": "code",
   "execution_count": 70,
   "id": "6ab4e2ef",
   "metadata": {
    "scrolled": true
   },
   "outputs": [
    {
     "name": "stdout",
     "output_type": "stream",
     "text": [
      "[[0 0]\n",
      " [0 0]\n",
      " [0 0]\n",
      " [0 0]\n",
      " [0 0]\n",
      " [1 0]\n",
      " [0 0]\n",
      " [1 1]\n",
      " [0 0]\n",
      " [0 0]\n",
      " [0 0]\n",
      " [0 0]\n",
      " [0 0]\n",
      " [0 0]\n",
      " [0 0]\n",
      " [0 0]\n",
      " [0 0]\n",
      " [0 0]\n",
      " [0 0]\n",
      " [0 1]\n",
      " [0 0]\n",
      " [0 0]\n",
      " [0 0]\n",
      " [1 0]\n",
      " [0 0]\n",
      " [0 0]\n",
      " [0 0]\n",
      " [0 0]\n",
      " [0 0]\n",
      " [0 0]\n",
      " [1 1]\n",
      " [1 0]\n",
      " [0 0]\n",
      " [0 0]\n",
      " [0 0]\n",
      " [0 0]\n",
      " [0 1]\n",
      " [1 0]\n",
      " [1 0]\n",
      " [0 0]\n",
      " [0 0]\n",
      " [0 1]\n",
      " [0 0]\n",
      " [0 0]\n",
      " [0 0]\n",
      " [0 0]\n",
      " [0 0]\n",
      " [0 0]\n",
      " [0 0]\n",
      " [0 0]\n",
      " [0 0]\n",
      " [0 0]\n",
      " [0 0]\n",
      " [0 0]\n",
      " [0 1]\n",
      " [1 0]\n",
      " [0 1]\n",
      " [0 0]\n",
      " [0 0]\n",
      " [0 0]\n",
      " [0 0]\n",
      " [0 0]\n",
      " [0 0]\n",
      " [0 0]]\n"
     ]
    }
   ],
   "source": [
    "from sklearn.linear_model import LogisticRegression\n",
    "LR5 = LogisticRegression(random_state = 0)\n",
    "LR5.fit(X_train5, Y_train5)\n",
    "\n",
    "y_pred = LR5.predict(X_test5)\n",
    "print(np.concatenate((y_pred.reshape(len(y_pred),1), Y_test5.reshape(len(Y_test5),1)),1))"
   ]
  },
  {
   "cell_type": "markdown",
   "id": "cd9f6b66",
   "metadata": {},
   "source": [
    "## Confusion Matrix:"
   ]
  },
  {
   "cell_type": "code",
   "execution_count": 71,
   "id": "7de62842",
   "metadata": {},
   "outputs": [
    {
     "data": {
      "image/png": "[encoded data removed]",
      "text/plain": [
       "<Figure size 400x400 with 1 Axes>"
      ]
     },
     "metadata": {},
     "output_type": "display_data"
    },
    {
     "name": "stdout",
     "output_type": "stream",
     "text": [
      "[[51  6]\n",
      " [ 5  2]]\n"
     ]
    },
    {
     "data": {
      "text/plain": [
       "0.828125"
      ]
     },
     "execution_count": 71,
     "metadata": {},
     "output_type": "execute_result"
    }
   ],
   "source": [
    "from sklearn.metrics import confusion_matrix, accuracy_score\n",
    "cm = confusion_matrix(Y_test5, y_pred)\n",
    "accuracy_score(Y_test5, y_pred)\n",
    "fig, ax = plt.subplots(figsize=(4, 4))\n",
    "ax.matshow(cm, cmap=plt.cm.Blues, alpha=0.3)\n",
    "for i in range(cm.shape[0]):\n",
    "    for j in range(cm.shape[1]):\n",
    "        ax.text(x=j, y=i,s=cm[i, j], va='center', ha='center', size='xx-large')\n",
    " \n",
    "plt.xlabel('Predictions', fontsize=18)\n",
    "plt.ylabel('Actuals', fontsize=18)\n",
    "plt.title('Confusion Matrix Log Regression', fontsize=18)\n",
    "plt.show()\n",
    "print(cm)\n",
    "accuracy_score(Y_test5,y_pred)"
   ]
  },
  {
   "cell_type": "markdown",
   "id": "dbe33b9d",
   "metadata": {},
   "source": [
    "### Cross validation LogR:"
   ]
  },
  {
   "cell_type": "code",
   "execution_count": 72,
   "id": "426f1ec7",
   "metadata": {},
   "outputs": [
    {
     "name": "stdout",
     "output_type": "stream",
     "text": [
      "Accuracy: 80.95 %\n",
      "Standard Deviation: 5.69 %\n"
     ]
    }
   ],
   "source": [
    "from sklearn.model_selection import cross_val_score\n",
    "accuracies = cross_val_score(estimator = LR5, X = X_train5, y = Y_train5, cv = 7)\n",
    "print(\"Accuracy: {:.2f} %\".format(accuracies.mean()*100))\n",
    "print(\"Standard Deviation: {:.2f} %\".format(accuracies.std()*100))"
   ]
  },
  {
   "cell_type": "markdown",
   "id": "9c96c383",
   "metadata": {},
   "source": [
    "# Part_VII"
   ]
  },
  {
   "cell_type": "markdown",
   "id": "2ff541b2",
   "metadata": {},
   "source": [
    "## Implementing Classification methods to Deep NMF Gaussian + Clinical dataset:"
   ]
  },
  {
   "cell_type": "markdown",
   "id": "732e955f",
   "metadata": {},
   "source": [
    "## Retrieving new X value + splitting data:"
   ]
  },
  {
   "cell_type": "code",
   "execution_count": 73,
   "id": "33cd4666",
   "metadata": {
    "scrolled": true
   },
   "outputs": [
    {
     "name": "stdout",
     "output_type": "stream",
     "text": [
      "[[ 1.27609797e-02 -6.54236076e-03 -1.09439344e-02 ...  7.70000000e+01\n",
      "   2.00000000e+00  1.00000000e+00]\n",
      " [-2.46863252e-02  1.95996747e-02 -1.54924654e-02 ...  5.30000000e+01\n",
      "   2.00000000e+00  1.00000000e+00]\n",
      " [ 2.90686064e-03 -1.52189150e-02 -2.73182513e-04 ...  6.90000000e+01\n",
      "   3.00000000e+00  1.00000000e+00]\n",
      " ...\n",
      " [ 7.43866301e-03 -1.39547915e-02 -1.02509177e-02 ...  5.50000000e+01\n",
      "   1.00000000e+00  2.00000000e+00]\n",
      " [ 7.18861811e-03 -9.93321593e-03  6.83487190e-03 ...  7.60000000e+01\n",
      "   1.00000000e+00  2.00000000e+00]\n",
      " [-2.40117192e-02  1.81855285e-02 -1.32547020e-02 ...  7.00000000e+01\n",
      "   0.00000000e+00  2.00000000e+00]]\n",
      "[0 0 0 0 0 0 0 0 0 0 0 0 0 0 0 0 0 0 1 1 0 0 0 0 1 1 0 0 1 1 0 0 0 0 0 0 0\n",
      " 0 0 0 0 1 1 0 1 0 0 0 0 0 1 0 0 0 0 0 1 0 1 0 0 0 0 0 1 0 0 0 0 0 1 0 0 0\n",
      " 0 0 0 0 0 1 0 0 0 0 0 0 0 0 0 0 0 0 1 0 0 0 0 0 1 0 0 0 0 0 0 1 1 1 0 0 0\n",
      " 1 1 0 0 0 0 1 0 0 1 0 0 0 0 0 0 1 1 0 0 1 0 0 0 0 0 0 0 0 0 1 0 1 0 0 0]\n"
     ]
    },
    {
     "data": {
      "text/plain": [
       "(None, None)"
      ]
     },
     "execution_count": 73,
     "metadata": {},
     "output_type": "execute_result"
    }
   ],
   "source": [
    "x3B = Deep_NMFGauss.iloc[:,0:10].values\n",
    "from sklearn.model_selection import train_test_split\n",
    "\n",
    "X_train6, X_test6, Y_train6, Y_test6 = train_test_split(x3B, y3, test_size = 0.3, random_state = 0)\n",
    "\n",
    "print(X_train6),print(Y_train6)"
   ]
  },
  {
   "cell_type": "markdown",
   "id": "f7547a60",
   "metadata": {},
   "source": [
    "## Rescaling data:"
   ]
  },
  {
   "cell_type": "code",
   "execution_count": 74,
   "id": "f8c9e2da",
   "metadata": {},
   "outputs": [],
   "source": [
    "from sklearn.preprocessing import StandardScaler\n",
    "sc = StandardScaler()\n",
    "X_train6 = sc.fit_transform(X_train6)\n",
    "X_test6 = sc.transform(X_test6)"
   ]
  },
  {
   "cell_type": "markdown",
   "id": "1ca81f92",
   "metadata": {},
   "source": [
    "## Random Forest + Prediction:"
   ]
  },
  {
   "cell_type": "code",
   "execution_count": 75,
   "id": "765008f6",
   "metadata": {
    "scrolled": true
   },
   "outputs": [
    {
     "name": "stdout",
     "output_type": "stream",
     "text": [
      "[[0 0]\n",
      " [0 0]\n",
      " [0 0]\n",
      " [0 0]\n",
      " [0 0]\n",
      " [0 0]\n",
      " [0 0]\n",
      " [0 1]\n",
      " [0 0]\n",
      " [0 0]\n",
      " [0 0]\n",
      " [1 0]\n",
      " [0 0]\n",
      " [1 0]\n",
      " [0 0]\n",
      " [0 0]\n",
      " [0 0]\n",
      " [0 0]\n",
      " [1 0]\n",
      " [0 1]\n",
      " [0 0]\n",
      " [0 0]\n",
      " [0 0]\n",
      " [0 0]\n",
      " [0 0]\n",
      " [0 0]\n",
      " [0 0]\n",
      " [0 0]\n",
      " [0 0]\n",
      " [0 0]\n",
      " [0 1]\n",
      " [1 0]\n",
      " [0 0]\n",
      " [0 0]\n",
      " [0 0]\n",
      " [0 0]\n",
      " [0 1]\n",
      " [0 0]\n",
      " [0 0]\n",
      " [0 0]\n",
      " [0 0]\n",
      " [0 1]\n",
      " [0 0]\n",
      " [0 0]\n",
      " [0 0]\n",
      " [0 0]\n",
      " [0 0]\n",
      " [0 0]\n",
      " [0 0]\n",
      " [0 0]\n",
      " [0 0]\n",
      " [0 0]\n",
      " [0 0]\n",
      " [0 0]\n",
      " [0 1]\n",
      " [0 0]\n",
      " [0 1]\n",
      " [0 0]\n",
      " [0 0]\n",
      " [0 0]\n",
      " [0 0]\n",
      " [0 0]\n",
      " [0 0]\n",
      " [0 0]]\n"
     ]
    }
   ],
   "source": [
    "from sklearn.ensemble import RandomForestClassifier\n",
    "classifier6 = RandomForestClassifier(n_estimators = 10, criterion = 'entropy', random_state = 0)\n",
    "classifier6.fit(X_train6, Y_train6)\n",
    "\n",
    "y_pred = classifier6.predict(X_test6)\n",
    "print(np.concatenate((y_pred.reshape(len(y_pred),1), Y_test6.reshape(len(Y_test6),1)),1))"
   ]
  },
  {
   "cell_type": "markdown",
   "id": "5b29f7f5",
   "metadata": {},
   "source": [
    "## Confusion Matrix:"
   ]
  },
  {
   "cell_type": "code",
   "execution_count": 76,
   "id": "02ac5954",
   "metadata": {},
   "outputs": [
    {
     "data": {
      "image/png": "[encoded data removed]",
      "text/plain": [
       "<Figure size 400x400 with 1 Axes>"
      ]
     },
     "metadata": {},
     "output_type": "display_data"
    },
    {
     "name": "stdout",
     "output_type": "stream",
     "text": [
      "[[53  4]\n",
      " [ 7  0]]\n"
     ]
    },
    {
     "data": {
      "text/plain": [
       "0.828125"
      ]
     },
     "execution_count": 76,
     "metadata": {},
     "output_type": "execute_result"
    }
   ],
   "source": [
    "from sklearn.metrics import confusion_matrix, accuracy_score\n",
    "cm = confusion_matrix(Y_test6, y_pred)\n",
    "accuracy_score(Y_test6, y_pred)\n",
    "fig, ax = plt.subplots(figsize=(4, 4))\n",
    "ax.matshow(cm, cmap=plt.cm.Blues, alpha=0.3)\n",
    "for i in range(cm.shape[0]):\n",
    "    for j in range(cm.shape[1]):\n",
    "        ax.text(x=j, y=i,s=cm[i, j], va='center', ha='center', size='xx-large')\n",
    " \n",
    "plt.xlabel('Predictions', fontsize=18)\n",
    "plt.ylabel('Actuals', fontsize=18)\n",
    "plt.title('Confusion Matrix Random Forest', fontsize=18)\n",
    "plt.show()\n",
    "print(cm)\n",
    "accuracy_score(Y_test6,y_pred)"
   ]
  },
  {
   "cell_type": "markdown",
   "id": "d76bb892",
   "metadata": {},
   "source": [
    "### Cross validation RF:"
   ]
  },
  {
   "cell_type": "code",
   "execution_count": 77,
   "id": "2306684b",
   "metadata": {},
   "outputs": [
    {
     "name": "stdout",
     "output_type": "stream",
     "text": [
      "Accuracy: 79.59 %\n",
      "Standard Deviation: 4.91 %\n"
     ]
    }
   ],
   "source": [
    "from sklearn.model_selection import cross_val_score\n",
    "accuracies = cross_val_score(estimator = classifier6, X = X_train6, y = Y_train6, cv = 7)\n",
    "print(\"Accuracy: {:.2f} %\".format(accuracies.mean()*100))\n",
    "print(\"Standard Deviation: {:.2f} %\".format(accuracies.std()*100))"
   ]
  },
  {
   "cell_type": "markdown",
   "id": "d5d00860",
   "metadata": {},
   "source": [
    "## Logistic Regression + Prediction:"
   ]
  },
  {
   "cell_type": "code",
   "execution_count": 78,
   "id": "d8b90b3f",
   "metadata": {
    "scrolled": true
   },
   "outputs": [
    {
     "name": "stdout",
     "output_type": "stream",
     "text": [
      "[[0 0]\n",
      " [0 0]\n",
      " [1 0]\n",
      " [0 0]\n",
      " [0 0]\n",
      " [0 0]\n",
      " [0 0]\n",
      " [1 1]\n",
      " [0 0]\n",
      " [0 0]\n",
      " [0 0]\n",
      " [0 0]\n",
      " [0 0]\n",
      " [0 0]\n",
      " [0 0]\n",
      " [0 0]\n",
      " [1 0]\n",
      " [0 0]\n",
      " [0 0]\n",
      " [0 1]\n",
      " [0 0]\n",
      " [0 0]\n",
      " [1 0]\n",
      " [0 0]\n",
      " [0 0]\n",
      " [0 0]\n",
      " [0 0]\n",
      " [0 0]\n",
      " [0 0]\n",
      " [0 0]\n",
      " [1 1]\n",
      " [1 0]\n",
      " [0 0]\n",
      " [0 0]\n",
      " [0 0]\n",
      " [0 0]\n",
      " [1 1]\n",
      " [0 0]\n",
      " [0 0]\n",
      " [0 0]\n",
      " [0 0]\n",
      " [0 1]\n",
      " [0 0]\n",
      " [0 0]\n",
      " [1 0]\n",
      " [0 0]\n",
      " [0 0]\n",
      " [0 0]\n",
      " [0 0]\n",
      " [0 0]\n",
      " [0 0]\n",
      " [0 0]\n",
      " [0 0]\n",
      " [0 0]\n",
      " [0 1]\n",
      " [0 0]\n",
      " [0 1]\n",
      " [0 0]\n",
      " [0 0]\n",
      " [0 0]\n",
      " [0 0]\n",
      " [0 0]\n",
      " [0 0]\n",
      " [0 0]]\n"
     ]
    }
   ],
   "source": [
    "from sklearn.linear_model import LogisticRegression\n",
    "LR6 = LogisticRegression(random_state = 0)\n",
    "LR6.fit(X_train6, Y_train6)\n",
    "\n",
    "y_pred = LR6.predict(X_test6)\n",
    "print(np.concatenate((y_pred.reshape(len(y_pred),1), Y_test6.reshape(len(Y_test6),1)),1))"
   ]
  },
  {
   "cell_type": "markdown",
   "id": "8db1a896",
   "metadata": {},
   "source": [
    "## Confusion Matrix:"
   ]
  },
  {
   "cell_type": "code",
   "execution_count": 79,
   "id": "cade1402",
   "metadata": {},
   "outputs": [
    {
     "data": {
      "image/png": "[encoded data removed]",
      "text/plain": [
       "<Figure size 400x400 with 1 Axes>"
      ]
     },
     "metadata": {},
     "output_type": "display_data"
    },
    {
     "name": "stdout",
     "output_type": "stream",
     "text": [
      "[[52  5]\n",
      " [ 4  3]]\n"
     ]
    },
    {
     "data": {
      "text/plain": [
       "0.859375"
      ]
     },
     "execution_count": 79,
     "metadata": {},
     "output_type": "execute_result"
    }
   ],
   "source": [
    "from sklearn.metrics import confusion_matrix, accuracy_score\n",
    "cm = confusion_matrix(Y_test6, y_pred)\n",
    "accuracy_score(Y_test6, y_pred)\n",
    "fig, ax = plt.subplots(figsize=(4, 4))\n",
    "ax.matshow(cm, cmap=plt.cm.Blues, alpha=0.3)\n",
    "for i in range(cm.shape[0]):\n",
    "    for j in range(cm.shape[1]):\n",
    "        ax.text(x=j, y=i,s=cm[i, j], va='center', ha='center', size='xx-large')\n",
    " \n",
    "plt.xlabel('Predictions', fontsize=18)\n",
    "plt.ylabel('Actuals', fontsize=18)\n",
    "plt.title('Confusion Matrix Log Regression', fontsize=18)\n",
    "plt.show()\n",
    "print(cm)\n",
    "accuracy_score(Y_test6,y_pred)"
   ]
  },
  {
   "cell_type": "markdown",
   "id": "ab5d5af5",
   "metadata": {},
   "source": [
    "### Cross validation LogR:"
   ]
  },
  {
   "cell_type": "code",
   "execution_count": 80,
   "id": "b664eade",
   "metadata": {},
   "outputs": [
    {
     "name": "stdout",
     "output_type": "stream",
     "text": [
      "Accuracy: 80.27 %\n",
      "Standard Deviation: 4.71 %\n"
     ]
    }
   ],
   "source": [
    "from sklearn.model_selection import cross_val_score\n",
    "accuracies = cross_val_score(estimator = LR6, X = X_train6, y = Y_train6, cv = 7)\n",
    "print(\"Accuracy: {:.2f} %\".format(accuracies.mean()*100))\n",
    "print(\"Standard Deviation: {:.2f} %\".format(accuracies.std()*100))"
   ]
  },
  {
   "cell_type": "markdown",
   "id": "5751869c",
   "metadata": {},
   "source": [
    "# Part_VIII"
   ]
  },
  {
   "cell_type": "markdown",
   "id": "bb50d695",
   "metadata": {},
   "source": [
    "## Implementing Classification methods to Deep NMF Bell dataset:"
   ]
  },
  {
   "cell_type": "markdown",
   "id": "35bf130d",
   "metadata": {},
   "source": [
    "## Retrieving X and Y Data and splitting data:"
   ]
  },
  {
   "cell_type": "code",
   "execution_count": 81,
   "id": "f0991263",
   "metadata": {},
   "outputs": [
    {
     "name": "stdout",
     "output_type": "stream",
     "text": [
      "[[-0.00890852 -0.01908896  0.02288553 ...  0.00264452 -0.00185521\n",
      "   0.01890235]\n",
      " [ 0.02531762  0.00986055  0.01169139 ... -0.01407109  0.0464487\n",
      "  -0.00158267]\n",
      " [-0.0129487  -0.00764513  0.01815583 ... -0.00489956  0.00658939\n",
      "  -0.01734715]\n",
      " ...\n",
      " [-0.01324348  0.00299012 -0.00046373 ... -0.01381928 -0.00518624\n",
      "   0.00025068]\n",
      " [-0.01714425  0.01136589  0.01531893 ...  0.01143598  0.00387056\n",
      "  -0.01903245]\n",
      " [-0.00333825 -0.01186179 -0.01067727 ... -0.01649272 -0.02850793\n",
      "  -0.00447205]]\n",
      "[0 0 0 0 0 0 0 0 0 0 0 0 0 0 0 0 0 0 1 1 0 0 0 0 1 1 0 0 1 1 0 0 0 0 0 0 0\n",
      " 0 0 0 0 1 1 0 1 0 0 0 0 0 1 0 0 0 0 0 1 0 1 0 0 0 0 0 1 0 0 0 0 0 1 0 0 0\n",
      " 0 0 0 0 0 1 0 0 0 0 0 0 0 0 0 0 0 0 1 0 0 0 0 0 1 0 0 0 0 0 0 1 1 1 0 0 0\n",
      " 1 1 0 0 0 0 1 0 0 1 0 0 0 0 0 0 1 1 0 0 1 0 0 0 0 0 0 0 0 0 1 0 1 0 0 0]\n"
     ]
    },
    {
     "data": {
      "text/plain": [
       "(None, None)"
      ]
     },
     "execution_count": 81,
     "metadata": {},
     "output_type": "execute_result"
    }
   ],
   "source": [
    "x4 = Deep_NMFBell.iloc[:,0:7].values\n",
    "y4 = Deep_NMFBell.iloc[:,10].values\n",
    "\n",
    "from sklearn.model_selection import train_test_split\n",
    "\n",
    "X_train7, X_test7, Y_train7, Y_test7 = train_test_split(x4, y4, test_size = 0.3, random_state = 0)\n",
    "\n",
    "print(X_train7),print(Y_train7)"
   ]
  },
  {
   "cell_type": "markdown",
   "id": "184ebf65",
   "metadata": {},
   "source": [
    "## Rescaling Data:"
   ]
  },
  {
   "cell_type": "code",
   "execution_count": 82,
   "id": "ff17ba1d",
   "metadata": {},
   "outputs": [],
   "source": [
    "from sklearn.preprocessing import StandardScaler\n",
    "sc = StandardScaler()\n",
    "X_train7 = sc.fit_transform(X_train7)\n",
    "X_test7 = sc.transform(X_test7)"
   ]
  },
  {
   "cell_type": "markdown",
   "id": "73b5b4b5",
   "metadata": {},
   "source": [
    "## Random Forest + prediction:"
   ]
  },
  {
   "cell_type": "code",
   "execution_count": 83,
   "id": "bbd8a470",
   "metadata": {
    "scrolled": true
   },
   "outputs": [
    {
     "name": "stdout",
     "output_type": "stream",
     "text": [
      "[[0 0]\n",
      " [0 0]\n",
      " [1 0]\n",
      " [0 0]\n",
      " [0 0]\n",
      " [0 0]\n",
      " [0 0]\n",
      " [0 1]\n",
      " [0 0]\n",
      " [0 0]\n",
      " [0 0]\n",
      " [0 0]\n",
      " [0 0]\n",
      " [0 0]\n",
      " [0 0]\n",
      " [0 0]\n",
      " [0 0]\n",
      " [0 0]\n",
      " [1 0]\n",
      " [0 1]\n",
      " [0 0]\n",
      " [0 0]\n",
      " [0 0]\n",
      " [1 0]\n",
      " [0 0]\n",
      " [0 0]\n",
      " [0 0]\n",
      " [0 0]\n",
      " [0 0]\n",
      " [0 0]\n",
      " [0 1]\n",
      " [1 0]\n",
      " [0 0]\n",
      " [0 0]\n",
      " [0 0]\n",
      " [0 0]\n",
      " [1 1]\n",
      " [0 0]\n",
      " [0 0]\n",
      " [0 0]\n",
      " [0 0]\n",
      " [0 1]\n",
      " [0 0]\n",
      " [0 0]\n",
      " [0 0]\n",
      " [0 0]\n",
      " [0 0]\n",
      " [0 0]\n",
      " [0 0]\n",
      " [0 0]\n",
      " [0 0]\n",
      " [0 0]\n",
      " [0 0]\n",
      " [0 0]\n",
      " [0 1]\n",
      " [0 0]\n",
      " [1 1]\n",
      " [0 0]\n",
      " [0 0]\n",
      " [0 0]\n",
      " [0 0]\n",
      " [0 0]\n",
      " [0 0]\n",
      " [0 0]]\n"
     ]
    }
   ],
   "source": [
    "from sklearn.ensemble import RandomForestClassifier\n",
    "classifier7 = RandomForestClassifier(n_estimators = 10, criterion = 'entropy', random_state = 0)\n",
    "classifier7.fit(X_train7, Y_train7)\n",
    "\n",
    "y_pred = classifier7.predict(X_test7)\n",
    "print(np.concatenate((y_pred.reshape(len(y_pred),1), Y_test7.reshape(len(Y_test7),1)),1))"
   ]
  },
  {
   "cell_type": "markdown",
   "id": "aed2f4e8",
   "metadata": {},
   "source": [
    "## Confusion Matrix:"
   ]
  },
  {
   "cell_type": "code",
   "execution_count": 84,
   "id": "acb9d1d9",
   "metadata": {},
   "outputs": [
    {
     "data": {
      "image/png": "[encoded data removed]",
      "text/plain": [
       "<Figure size 400x400 with 1 Axes>"
      ]
     },
     "metadata": {},
     "output_type": "display_data"
    },
    {
     "name": "stdout",
     "output_type": "stream",
     "text": [
      "[[53  4]\n",
      " [ 5  2]]\n"
     ]
    },
    {
     "data": {
      "text/plain": [
       "0.859375"
      ]
     },
     "execution_count": 84,
     "metadata": {},
     "output_type": "execute_result"
    }
   ],
   "source": [
    "from sklearn.metrics import confusion_matrix, accuracy_score\n",
    "cm = confusion_matrix(Y_test7, y_pred)\n",
    "accuracy_score(Y_test7, y_pred)\n",
    "fig, ax = plt.subplots(figsize=(4, 4))\n",
    "ax.matshow(cm, cmap=plt.cm.Blues, alpha=0.3)\n",
    "for i in range(cm.shape[0]):\n",
    "    for j in range(cm.shape[1]):\n",
    "        ax.text(x=j, y=i,s=cm[i, j], va='center', ha='center', size='xx-large')\n",
    " \n",
    "plt.xlabel('Predictions', fontsize=18)\n",
    "plt.ylabel('Actuals', fontsize=18)\n",
    "plt.title('Confusion Matrix Random Forest', fontsize=18)\n",
    "plt.show()\n",
    "print(cm)\n",
    "accuracy_score(Y_test7,y_pred)"
   ]
  },
  {
   "cell_type": "markdown",
   "id": "53a2a019",
   "metadata": {},
   "source": [
    "### Cross validation RF:"
   ]
  },
  {
   "cell_type": "code",
   "execution_count": 85,
   "id": "1bcfb10c",
   "metadata": {},
   "outputs": [
    {
     "name": "stdout",
     "output_type": "stream",
     "text": [
      "Accuracy: 82.99 %\n",
      "Standard Deviation: 4.30 %\n"
     ]
    }
   ],
   "source": [
    "from sklearn.model_selection import cross_val_score\n",
    "accuracies = cross_val_score(estimator = classifier7, X = X_train7, y = Y_train7, cv = 7)\n",
    "print(\"Accuracy: {:.2f} %\".format(accuracies.mean()*100))\n",
    "print(\"Standard Deviation: {:.2f} %\".format(accuracies.std()*100))"
   ]
  },
  {
   "cell_type": "markdown",
   "id": "a73e92ed",
   "metadata": {},
   "source": [
    "## Logistic Regression + prediction:"
   ]
  },
  {
   "cell_type": "code",
   "execution_count": 86,
   "id": "c866dffb",
   "metadata": {
    "scrolled": true
   },
   "outputs": [
    {
     "name": "stdout",
     "output_type": "stream",
     "text": [
      "[[0 0]\n",
      " [0 0]\n",
      " [0 0]\n",
      " [0 0]\n",
      " [0 0]\n",
      " [1 0]\n",
      " [0 0]\n",
      " [1 1]\n",
      " [0 0]\n",
      " [0 0]\n",
      " [0 0]\n",
      " [0 0]\n",
      " [0 0]\n",
      " [0 0]\n",
      " [0 0]\n",
      " [0 0]\n",
      " [0 0]\n",
      " [0 0]\n",
      " [0 0]\n",
      " [1 1]\n",
      " [0 0]\n",
      " [0 0]\n",
      " [0 0]\n",
      " [1 0]\n",
      " [0 0]\n",
      " [1 0]\n",
      " [0 0]\n",
      " [0 0]\n",
      " [0 0]\n",
      " [0 0]\n",
      " [1 1]\n",
      " [1 0]\n",
      " [0 0]\n",
      " [0 0]\n",
      " [0 0]\n",
      " [0 0]\n",
      " [1 1]\n",
      " [0 0]\n",
      " [1 0]\n",
      " [0 0]\n",
      " [0 0]\n",
      " [0 1]\n",
      " [0 0]\n",
      " [0 0]\n",
      " [1 0]\n",
      " [0 0]\n",
      " [0 0]\n",
      " [0 0]\n",
      " [0 0]\n",
      " [0 0]\n",
      " [0 0]\n",
      " [0 0]\n",
      " [0 0]\n",
      " [0 0]\n",
      " [0 1]\n",
      " [0 0]\n",
      " [1 1]\n",
      " [0 0]\n",
      " [0 0]\n",
      " [0 0]\n",
      " [0 0]\n",
      " [0 0]\n",
      " [0 0]\n",
      " [0 0]]\n"
     ]
    }
   ],
   "source": [
    "from sklearn.linear_model import LogisticRegression\n",
    "LR7 = LogisticRegression(random_state = 0)\n",
    "LR7.fit(X_train7, Y_train7)\n",
    "\n",
    "y_pred = LR7.predict(X_test7)\n",
    "print(np.concatenate((y_pred.reshape(len(y_pred),1), Y_test7.reshape(len(Y_test7),1)),1))"
   ]
  },
  {
   "cell_type": "markdown",
   "id": "c1323b14",
   "metadata": {},
   "source": [
    "## Confusion Matrix:"
   ]
  },
  {
   "cell_type": "code",
   "execution_count": 87,
   "id": "f8ce06a2",
   "metadata": {},
   "outputs": [
    {
     "data": {
      "image/png": "[encoded data removed]",
      "text/plain": [
       "<Figure size 400x400 with 1 Axes>"
      ]
     },
     "metadata": {},
     "output_type": "display_data"
    },
    {
     "name": "stdout",
     "output_type": "stream",
     "text": [
      "[[51  6]\n",
      " [ 2  5]]\n"
     ]
    },
    {
     "data": {
      "text/plain": [
       "0.875"
      ]
     },
     "execution_count": 87,
     "metadata": {},
     "output_type": "execute_result"
    }
   ],
   "source": [
    "from sklearn.metrics import confusion_matrix, accuracy_score\n",
    "cm = confusion_matrix(Y_test7, y_pred)\n",
    "accuracy_score(Y_test7, y_pred)\n",
    "fig, ax = plt.subplots(figsize=(4, 4))\n",
    "ax.matshow(cm, cmap=plt.cm.Blues, alpha=0.3)\n",
    "for i in range(cm.shape[0]):\n",
    "    for j in range(cm.shape[1]):\n",
    "        ax.text(x=j, y=i,s=cm[i, j], va='center', ha='center', size='xx-large')\n",
    " \n",
    "plt.xlabel('Predictions', fontsize=18)\n",
    "plt.ylabel('Actuals', fontsize=18)\n",
    "plt.title('Confusion Matrix Log Regression', fontsize=18)\n",
    "plt.show()\n",
    "print(cm)\n",
    "accuracy_score(Y_test7,y_pred)"
   ]
  },
  {
   "cell_type": "markdown",
   "id": "17eada47",
   "metadata": {},
   "source": [
    "### Cross Validation LogR:"
   ]
  },
  {
   "cell_type": "code",
   "execution_count": 88,
   "id": "9171d20f",
   "metadata": {},
   "outputs": [
    {
     "name": "stdout",
     "output_type": "stream",
     "text": [
      "Accuracy: 82.99 %\n",
      "Standard Deviation: 7.99 %\n"
     ]
    }
   ],
   "source": [
    "from sklearn.model_selection import cross_val_score\n",
    "accuracies = cross_val_score(estimator = LR7, X = X_train7, y = Y_train7, cv = 7)\n",
    "print(\"Accuracy: {:.2f} %\".format(accuracies.mean()*100))\n",
    "print(\"Standard Deviation: {:.2f} %\".format(accuracies.std()*100))"
   ]
  },
  {
   "cell_type": "markdown",
   "id": "58074b44",
   "metadata": {},
   "source": [
    "# Part_IX"
   ]
  },
  {
   "cell_type": "markdown",
   "id": "d2d84008",
   "metadata": {},
   "source": [
    "## Implementing Classification methods to Deep NMF Bell + Clinical dataset:"
   ]
  },
  {
   "cell_type": "markdown",
   "id": "af4fc1ff",
   "metadata": {},
   "source": [
    "## Retrieving new X value and splitting data:"
   ]
  },
  {
   "cell_type": "code",
   "execution_count": 89,
   "id": "f8dae55f",
   "metadata": {},
   "outputs": [
    {
     "name": "stdout",
     "output_type": "stream",
     "text": [
      "[[-8.90851542e-03 -1.90889580e-02  2.28855277e-02 ...  7.70000000e+01\n",
      "   2.00000000e+00  1.00000000e+00]\n",
      " [ 2.53176224e-02  9.86055025e-03  1.16913863e-02 ...  5.30000000e+01\n",
      "   2.00000000e+00  1.00000000e+00]\n",
      " [-1.29486954e-02 -7.64512813e-03  1.81558287e-02 ...  6.90000000e+01\n",
      "   3.00000000e+00  1.00000000e+00]\n",
      " ...\n",
      " [-1.32434757e-02  2.99011810e-03 -4.63726045e-04 ...  5.50000000e+01\n",
      "   1.00000000e+00  2.00000000e+00]\n",
      " [-1.71442534e-02  1.13658864e-02  1.53189268e-02 ...  7.60000000e+01\n",
      "   1.00000000e+00  2.00000000e+00]\n",
      " [-3.33825361e-03 -1.18617922e-02 -1.06772746e-02 ...  7.00000000e+01\n",
      "   0.00000000e+00  2.00000000e+00]]\n",
      "[0 0 0 0 0 0 0 0 0 0 0 0 0 0 0 0 0 0 1 1 0 0 0 0 1 1 0 0 1 1 0 0 0 0 0 0 0\n",
      " 0 0 0 0 1 1 0 1 0 0 0 0 0 1 0 0 0 0 0 1 0 1 0 0 0 0 0 1 0 0 0 0 0 1 0 0 0\n",
      " 0 0 0 0 0 1 0 0 0 0 0 0 0 0 0 0 0 0 1 0 0 0 0 0 1 0 0 0 0 0 0 1 1 1 0 0 0\n",
      " 1 1 0 0 0 0 1 0 0 1 0 0 0 0 0 0 1 1 0 0 1 0 0 0 0 0 0 0 0 0 1 0 1 0 0 0]\n"
     ]
    },
    {
     "data": {
      "text/plain": [
       "(None, None)"
      ]
     },
     "execution_count": 89,
     "metadata": {},
     "output_type": "execute_result"
    }
   ],
   "source": [
    "x4B = Deep_NMFBell.iloc[:,0:10].values\n",
    "\n",
    "from sklearn.model_selection import train_test_split\n",
    "\n",
    "X_train8, X_test8, Y_train8, Y_test8 = train_test_split(x4B, y4, test_size = 0.3, random_state = 0)\n",
    "\n",
    "print(X_train8),print(Y_train8)"
   ]
  },
  {
   "cell_type": "markdown",
   "id": "8af76c76",
   "metadata": {},
   "source": [
    "## Rescaling Data:"
   ]
  },
  {
   "cell_type": "code",
   "execution_count": 90,
   "id": "600c683f",
   "metadata": {},
   "outputs": [],
   "source": [
    "from sklearn.preprocessing import StandardScaler\n",
    "sc = StandardScaler()\n",
    "X_train8 = sc.fit_transform(X_train8)\n",
    "X_test8 = sc.transform(X_test8)"
   ]
  },
  {
   "cell_type": "markdown",
   "id": "e8de35fb",
   "metadata": {},
   "source": [
    "## Random Forest + prediction:"
   ]
  },
  {
   "cell_type": "code",
   "execution_count": 91,
   "id": "0443bd6f",
   "metadata": {
    "scrolled": true
   },
   "outputs": [
    {
     "name": "stdout",
     "output_type": "stream",
     "text": [
      "[[0 0]\n",
      " [0 0]\n",
      " [1 0]\n",
      " [0 0]\n",
      " [0 0]\n",
      " [0 0]\n",
      " [0 0]\n",
      " [0 1]\n",
      " [0 0]\n",
      " [0 0]\n",
      " [0 0]\n",
      " [0 0]\n",
      " [0 0]\n",
      " [0 0]\n",
      " [0 0]\n",
      " [0 0]\n",
      " [0 0]\n",
      " [0 0]\n",
      " [1 0]\n",
      " [0 1]\n",
      " [0 0]\n",
      " [0 0]\n",
      " [0 0]\n",
      " [0 0]\n",
      " [0 0]\n",
      " [0 0]\n",
      " [0 0]\n",
      " [0 0]\n",
      " [0 0]\n",
      " [0 0]\n",
      " [0 1]\n",
      " [0 0]\n",
      " [0 0]\n",
      " [0 0]\n",
      " [0 0]\n",
      " [0 0]\n",
      " [1 1]\n",
      " [0 0]\n",
      " [0 0]\n",
      " [0 0]\n",
      " [0 0]\n",
      " [0 1]\n",
      " [0 0]\n",
      " [0 0]\n",
      " [0 0]\n",
      " [0 0]\n",
      " [0 0]\n",
      " [0 0]\n",
      " [0 0]\n",
      " [0 0]\n",
      " [0 0]\n",
      " [0 0]\n",
      " [0 0]\n",
      " [0 0]\n",
      " [0 1]\n",
      " [0 0]\n",
      " [0 1]\n",
      " [0 0]\n",
      " [0 0]\n",
      " [0 0]\n",
      " [0 0]\n",
      " [0 0]\n",
      " [0 0]\n",
      " [0 0]]\n"
     ]
    }
   ],
   "source": [
    "from sklearn.ensemble import RandomForestClassifier\n",
    "classifier8 = RandomForestClassifier(n_estimators = 10, criterion = 'entropy', random_state = 0)\n",
    "classifier8.fit(X_train8, Y_train8)\n",
    "\n",
    "y_pred = classifier8.predict(X_test8)\n",
    "print(np.concatenate((y_pred.reshape(len(y_pred),1), Y_test8.reshape(len(Y_test8),1)),1))"
   ]
  },
  {
   "cell_type": "markdown",
   "id": "c2fc178a",
   "metadata": {},
   "source": [
    "## Confusion Matrix:"
   ]
  },
  {
   "cell_type": "code",
   "execution_count": 92,
   "id": "0f6c184a",
   "metadata": {},
   "outputs": [
    {
     "data": {
      "image/png": "[encoded data removed]",
      "text/plain": [
       "<Figure size 400x400 with 1 Axes>"
      ]
     },
     "metadata": {},
     "output_type": "display_data"
    },
    {
     "name": "stdout",
     "output_type": "stream",
     "text": [
      "[[55  2]\n",
      " [ 6  1]]\n"
     ]
    },
    {
     "data": {
      "text/plain": [
       "0.875"
      ]
     },
     "execution_count": 92,
     "metadata": {},
     "output_type": "execute_result"
    }
   ],
   "source": [
    "from sklearn.metrics import confusion_matrix, accuracy_score\n",
    "cm = confusion_matrix(Y_test8, y_pred)\n",
    "accuracy_score(Y_test8, y_pred)\n",
    "fig, ax = plt.subplots(figsize=(4, 4))\n",
    "ax.matshow(cm, cmap=plt.cm.Blues, alpha=0.3)\n",
    "for i in range(cm.shape[0]):\n",
    "    for j in range(cm.shape[1]):\n",
    "        ax.text(x=j, y=i,s=cm[i, j], va='center', ha='center', size='xx-large')\n",
    " \n",
    "plt.xlabel('Predictions', fontsize=18)\n",
    "plt.ylabel('Actuals', fontsize=18)\n",
    "plt.title('Confusion Matrix Random Forest', fontsize=18)\n",
    "plt.show()\n",
    "print(cm)\n",
    "accuracy_score(Y_test8,y_pred)"
   ]
  },
  {
   "cell_type": "markdown",
   "id": "ddaf7055",
   "metadata": {},
   "source": [
    "### Cross validation RF:"
   ]
  },
  {
   "cell_type": "code",
   "execution_count": 93,
   "id": "76987b44",
   "metadata": {},
   "outputs": [
    {
     "name": "stdout",
     "output_type": "stream",
     "text": [
      "Accuracy: 80.27 %\n",
      "Standard Deviation: 3.97 %\n"
     ]
    }
   ],
   "source": [
    "from sklearn.model_selection import cross_val_score\n",
    "accuracies = cross_val_score(estimator = classifier8, X = X_train8, y = Y_train8, cv = 7)\n",
    "print(\"Accuracy: {:.2f} %\".format(accuracies.mean()*100))\n",
    "print(\"Standard Deviation: {:.2f} %\".format(accuracies.std()*100))"
   ]
  },
  {
   "cell_type": "markdown",
   "id": "95ac20f0",
   "metadata": {},
   "source": [
    "## Logistic Regression + prediction:"
   ]
  },
  {
   "cell_type": "code",
   "execution_count": 94,
   "id": "411e1c4d",
   "metadata": {
    "scrolled": true
   },
   "outputs": [
    {
     "name": "stdout",
     "output_type": "stream",
     "text": [
      "[[0 0]\n",
      " [0 0]\n",
      " [1 0]\n",
      " [0 0]\n",
      " [0 0]\n",
      " [0 0]\n",
      " [0 0]\n",
      " [1 1]\n",
      " [0 0]\n",
      " [0 0]\n",
      " [0 0]\n",
      " [0 0]\n",
      " [0 0]\n",
      " [1 0]\n",
      " [0 0]\n",
      " [0 0]\n",
      " [1 0]\n",
      " [0 0]\n",
      " [1 0]\n",
      " [1 1]\n",
      " [0 0]\n",
      " [0 0]\n",
      " [1 0]\n",
      " [0 0]\n",
      " [0 0]\n",
      " [0 0]\n",
      " [0 0]\n",
      " [0 0]\n",
      " [0 0]\n",
      " [0 0]\n",
      " [1 1]\n",
      " [1 0]\n",
      " [0 0]\n",
      " [0 0]\n",
      " [0 0]\n",
      " [0 0]\n",
      " [1 1]\n",
      " [0 0]\n",
      " [0 0]\n",
      " [0 0]\n",
      " [0 0]\n",
      " [0 1]\n",
      " [0 0]\n",
      " [0 0]\n",
      " [1 0]\n",
      " [0 0]\n",
      " [0 0]\n",
      " [0 0]\n",
      " [0 0]\n",
      " [0 0]\n",
      " [0 0]\n",
      " [0 0]\n",
      " [0 0]\n",
      " [0 0]\n",
      " [0 1]\n",
      " [0 0]\n",
      " [1 1]\n",
      " [0 0]\n",
      " [0 0]\n",
      " [0 0]\n",
      " [0 0]\n",
      " [0 0]\n",
      " [0 0]\n",
      " [0 0]]\n"
     ]
    }
   ],
   "source": [
    "from sklearn.linear_model import LogisticRegression\n",
    "LR8 = LogisticRegression(random_state = 0)\n",
    "LR8.fit(X_train8, Y_train8)\n",
    "\n",
    "y_pred = LR8.predict(X_test8)\n",
    "print(np.concatenate((y_pred.reshape(len(y_pred),1), Y_test8.reshape(len(Y_test8),1)),1))"
   ]
  },
  {
   "cell_type": "markdown",
   "id": "b01fc7bb",
   "metadata": {},
   "source": [
    "## Confusion Matrix:"
   ]
  },
  {
   "cell_type": "code",
   "execution_count": 95,
   "id": "11eee996",
   "metadata": {},
   "outputs": [
    {
     "data": {
      "image/png": "[encoded data removed]",
      "text/plain": [
       "<Figure size 400x400 with 1 Axes>"
      ]
     },
     "metadata": {},
     "output_type": "display_data"
    },
    {
     "name": "stdout",
     "output_type": "stream",
     "text": [
      "[[50  7]\n",
      " [ 2  5]]\n"
     ]
    },
    {
     "data": {
      "text/plain": [
       "0.859375"
      ]
     },
     "execution_count": 95,
     "metadata": {},
     "output_type": "execute_result"
    }
   ],
   "source": [
    "from sklearn.metrics import confusion_matrix, accuracy_score\n",
    "cm = confusion_matrix(Y_test8, y_pred)\n",
    "accuracy_score(Y_test8, y_pred)\n",
    "fig, ax = plt.subplots(figsize=(4, 4))\n",
    "ax.matshow(cm, cmap=plt.cm.Blues, alpha=0.3)\n",
    "for i in range(cm.shape[0]):\n",
    "    for j in range(cm.shape[1]):\n",
    "        ax.text(x=j, y=i,s=cm[i, j], va='center', ha='center', size='xx-large')\n",
    " \n",
    "plt.xlabel('Predictions', fontsize=18)\n",
    "plt.ylabel('Actuals', fontsize=18)\n",
    "plt.title('Confusion Matrix Log Regression', fontsize=18)\n",
    "plt.show()\n",
    "print(cm)\n",
    "accuracy_score(Y_test8,y_pred)"
   ]
  },
  {
   "cell_type": "markdown",
   "id": "9e1744e6",
   "metadata": {},
   "source": [
    "### Cross validation LogR:"
   ]
  },
  {
   "cell_type": "code",
   "execution_count": 96,
   "id": "9a7b5d17",
   "metadata": {},
   "outputs": [
    {
     "name": "stdout",
     "output_type": "stream",
     "text": [
      "Accuracy: 81.63 %\n",
      "Standard Deviation: 3.97 %\n"
     ]
    }
   ],
   "source": [
    "from sklearn.model_selection import cross_val_score\n",
    "accuracies = cross_val_score(estimator = LR8, X = X_train8, y = Y_train8, cv = 7)\n",
    "print(\"Accuracy: {:.2f} %\".format(accuracies.mean()*100))\n",
    "print(\"Standard Deviation: {:.2f} %\".format(accuracies.std()*100))"
   ]
  },
  {
   "cell_type": "markdown",
   "id": "9ca5f7db",
   "metadata": {},
   "source": [
    "# Part_X"
   ]
  },
  {
   "cell_type": "markdown",
   "id": "251708d2",
   "metadata": {},
   "source": [
    "## Combined ROC curves:"
   ]
  },
  {
   "cell_type": "markdown",
   "id": "1ebfc6fd",
   "metadata": {},
   "source": [
    "### Random Forest:"
   ]
  },
  {
   "cell_type": "code",
   "execution_count": 97,
   "id": "5cfa1069",
   "metadata": {},
   "outputs": [
    {
     "data": {
      "image/png": "[encoded data removed]",
      "text/plain": [
       "<Figure size 640x480 with 1 Axes>"
      ]
     },
     "metadata": {},
     "output_type": "display_data"
    }
   ],
   "source": [
    "from sklearn import metrics\n",
    "# NMF Gaussian:\n",
    "y_prob = classifier1.predict_proba(X_test1)[::,1]\n",
    "auc = metrics.roc_auc_score(Y_test1, y_prob)\n",
    "FalsePRate,TruePRate, _ = metrics.roc_curve(Y_test1,y_prob)\n",
    "auc = metrics.roc_auc_score(Y_test1, y_prob)\n",
    "plt.plot(FalsePRate,TruePRate,label=\"NMF Gaussian, AUC=\"+str(auc))\n",
    "\n",
    "#NMF Gaussian+Clinical\n",
    "y_prob = classifier2.predict_proba(X_test2)[::,1]\n",
    "auc = metrics.roc_auc_score(Y_test2, y_prob)\n",
    "FalsePRate,TruePRate, _ = metrics.roc_curve(Y_test2,y_prob)\n",
    "auc = metrics.roc_auc_score(Y_test2, y_prob)\n",
    "plt.plot(FalsePRate,TruePRate,label=\"NMF Gaussian+Clinical, AUC=\"+str(auc))\n",
    "\n",
    "#NMF Bell:\n",
    "y_prob = classifier3.predict_proba(X_test3)[::,1]\n",
    "auc = metrics.roc_auc_score(Y_test3, y_prob)\n",
    "FalsePRate,TruePRate, _ = metrics.roc_curve(Y_test3,y_prob)\n",
    "auc = metrics.roc_auc_score(Y_test3, y_prob)\n",
    "plt.plot(FalsePRate,TruePRate,label=\"NMF Bell, AUC=\"+str(auc))\n",
    "\n",
    "#NMF Bell+Clinical:\n",
    "y_prob = classifier4.predict_proba(X_test4)[::,1]\n",
    "auc = metrics.roc_auc_score(Y_test4, y_prob)\n",
    "FalsePRate,TruePRate, _ = metrics.roc_curve(Y_test4,y_prob)\n",
    "auc = metrics.roc_auc_score(Y_test4, y_prob)\n",
    "plt.plot(FalsePRate,TruePRate,label=\"NMF Bell+Clinical, AUC=\"+str(auc))\n",
    "\n",
    "#Deep NMF Gaussian:\n",
    "y_prob = classifier5.predict_proba(X_test5)[::,1]\n",
    "auc = metrics.roc_auc_score(Y_test5, y_prob)\n",
    "FalsePRate,TruePRate, _ = metrics.roc_curve(Y_test5,y_prob)\n",
    "auc = metrics.roc_auc_score(Y_test5, y_prob)\n",
    "plt.plot(FalsePRate,TruePRate,label=\"Deep NMF Gaussian, AUC=\"+str(auc))\n",
    "\n",
    "#Deep NMF Gaussian+Clinical:\n",
    "y_prob = classifier6.predict_proba(X_test6)[::,1]\n",
    "auc = metrics.roc_auc_score(Y_test6, y_prob)\n",
    "FalsePRate,TruePRate, _ = metrics.roc_curve(Y_test6,y_prob)\n",
    "auc = metrics.roc_auc_score(Y_test6, y_prob)\n",
    "plt.plot(FalsePRate,TruePRate,label=\"Deep NMF Gaussian+Clinical, AUC=\"+str(auc))\n",
    "\n",
    "# Deep NMF Bell:\n",
    "y_prob = classifier7.predict_proba(X_test7)[::,1]\n",
    "auc = metrics.roc_auc_score(Y_test7, y_prob)\n",
    "FalsePRate,TruePRate, _ = metrics.roc_curve(Y_test7,y_prob)\n",
    "auc = metrics.roc_auc_score(Y_test7, y_prob)\n",
    "plt.plot(FalsePRate,TruePRate,label=\"Deep NMF Bell, AUC=\"+str(auc))\n",
    "\n",
    "# Deep NMF Bell+Clinical:\n",
    "y_prob = classifier8.predict_proba(X_test8)[::,1]\n",
    "auc = metrics.roc_auc_score(Y_test8, y_prob)\n",
    "FalsePRate,TruePRate, _ = metrics.roc_curve(Y_test8,y_prob)\n",
    "auc = metrics.roc_auc_score(Y_test8, y_prob)\n",
    "plt.plot(FalsePRate,TruePRate,label=\"Deep NMF Bell+Clinical, AUC=\"+str(auc))\n",
    "\n",
    "plt.plot(figsize = (9,9))\n",
    "plt.title(\"Combined ROC Random Forest\",fontsize = 14)\n",
    "plt.plot([0,1], [0,1], 'b--')\n",
    "plt.xlabel('False Positive Rate',fontsize = 14)\n",
    "plt.ylabel('True Positive Rate',fontsize = 14)\n",
    "plt.legend(fontsize = 7)\n",
    "plt.show()"
   ]
  },
  {
   "cell_type": "markdown",
   "id": "99172846",
   "metadata": {},
   "source": [
    "### Logistic Regression:"
   ]
  },
  {
   "cell_type": "code",
   "execution_count": 98,
   "id": "02bf1202",
   "metadata": {},
   "outputs": [
    {
     "data": {
      "image/png": "[encoded data removed]",
      "text/plain": [
       "<Figure size 640x480 with 1 Axes>"
      ]
     },
     "metadata": {},
     "output_type": "display_data"
    }
   ],
   "source": [
    "# NMF Gaussian:\n",
    "y_prob = LR1.predict_proba(X_test1)[::,1]\n",
    "auc = metrics.roc_auc_score(Y_test1, y_prob)\n",
    "FalsePRate,TruePRate, _ = metrics.roc_curve(Y_test1,y_prob)\n",
    "auc = metrics.roc_auc_score(Y_test1, y_prob)\n",
    "plt.plot(FalsePRate,TruePRate,label=\"NMF Gaussian, AUC=\"+str(auc))\n",
    "\n",
    "#NMF Gaussian+Clinical\n",
    "y_prob = LR2.predict_proba(X_test2)[::,1]\n",
    "auc = metrics.roc_auc_score(Y_test2, y_prob)\n",
    "FalsePRate,TruePRate, _ = metrics.roc_curve(Y_test2,y_prob)\n",
    "auc = metrics.roc_auc_score(Y_test2, y_prob)\n",
    "plt.plot(FalsePRate,TruePRate,label=\"NMF Gaussian+Clinical, AUC=\"+str(auc))\n",
    "\n",
    "#NMF Bell:\n",
    "y_prob = LR3.predict_proba(X_test3)[::,1]\n",
    "auc = metrics.roc_auc_score(Y_test3, y_prob)\n",
    "FalsePRate,TruePRate, _ = metrics.roc_curve(Y_test3,y_prob)\n",
    "auc = metrics.roc_auc_score(Y_test3, y_prob)\n",
    "plt.plot(FalsePRate,TruePRate,label=\"NMF Bell, AUC=\"+str(auc))\n",
    "\n",
    "#NMF Bell+Clinical:\n",
    "y_prob = LR4.predict_proba(X_test4)[::,1]\n",
    "auc = metrics.roc_auc_score(Y_test4, y_prob)\n",
    "FalsePRate,TruePRate, _ = metrics.roc_curve(Y_test4,y_prob)\n",
    "auc = metrics.roc_auc_score(Y_test4, y_prob)\n",
    "plt.plot(FalsePRate,TruePRate,label=\"NMF Bell+Clinical, AUC=\"+str(auc))\n",
    "\n",
    "#Deep NMF Gaussian:\n",
    "y_prob = LR5.predict_proba(X_test5)[::,1]\n",
    "auc = metrics.roc_auc_score(Y_test5, y_prob)\n",
    "FalsePRate,TruePRate, _ = metrics.roc_curve(Y_test5,y_prob)\n",
    "auc = metrics.roc_auc_score(Y_test5, y_prob)\n",
    "plt.plot(FalsePRate,TruePRate,label=\"Deep NMF Gaussian, AUC=\"+str(auc))\n",
    "\n",
    "#Deep NMF Gaussian+Clinical:\n",
    "y_prob = LR6.predict_proba(X_test6)[::,1]\n",
    "auc = metrics.roc_auc_score(Y_test6, y_prob)\n",
    "FalsePRate,TruePRate, _ = metrics.roc_curve(Y_test6,y_prob)\n",
    "auc = metrics.roc_auc_score(Y_test6, y_prob)\n",
    "plt.plot(FalsePRate,TruePRate,label=\"Deep NMF Gaussian+Clinical, AUC=\"+str(auc))\n",
    "# Deep NMF Bell:\n",
    "y_prob = LR7.predict_proba(X_test7)[::,1]\n",
    "auc = metrics.roc_auc_score(Y_test7, y_prob)\n",
    "FalsePRate,TruePRate, _ = metrics.roc_curve(Y_test7,y_prob)\n",
    "auc = metrics.roc_auc_score(Y_test7, y_prob)\n",
    "plt.plot(FalsePRate,TruePRate,label=\"Deep NMF Bell, AUC=\"+str(auc))\n",
    "\n",
    "# Deep NMF Bell+Clinical:\n",
    "y_prob = LR8.predict_proba(X_test8)[::,1]\n",
    "auc = metrics.roc_auc_score(Y_test8, y_prob)\n",
    "FalsePRate,TruePRate, _ = metrics.roc_curve(Y_test8,y_prob)\n",
    "auc = metrics.roc_auc_score(Y_test8, y_prob)\n",
    "plt.plot(FalsePRate,TruePRate,label=\"Deep NMF Bell+Clinical, AUC=\"+str(auc))\n",
    "\n",
    "plt.plot(figsize = (9,9))\n",
    "plt.title(\"Combined ROC Logistic Regression\",fontsize = 14)\n",
    "plt.plot([0,1], [0,1], 'b--')\n",
    "plt.xlabel('False Positive Rate',fontsize = 14)\n",
    "plt.ylabel('True Positive Rate',fontsize = 14)\n",
    "plt.legend(fontsize = 7)\n",
    "plt.show()"
   ]
  },
  {
   "cell_type": "markdown",
   "id": "3063a9d0",
   "metadata": {},
   "source": [
    "Logistic Regression seems to have better AUC values compared to Random Forest."
   ]
  }
 ],
 "metadata": {
  "kernelspec": {
   "display_name": "Python 3",
   "language": "python",
   "name": "python3"
  },
  "language_info": {
   "codemirror_mode": {
    "name": "ipython",
    "version": 3
   },
   "file_extension": ".py",
   "mimetype": "text/x-python",
   "name": "python",
   "nbconvert_exporter": "python",
   "pygments_lexer": "ipython3",
   "version": "3.8.8"
  }
 },
 "nbformat": 4,
 "nbformat_minor": 5
}
